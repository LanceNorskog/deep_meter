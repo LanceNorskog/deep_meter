{
  "nbformat": 4,
  "nbformat_minor": 0,
  "metadata": {
    "colab": {
      "name": "Deep Meter: Keras + Universal Sentence Encoder + CMUdict + Project Gutenberg poetry archives",
      "version": "0.3.2",
      "provenance": [],
      "collapsed_sections": []
    },
    "kernelspec": {
      "name": "python3",
      "display_name": "Python 3"
    },
    "accelerator": "GPU"
  },
  "cells": [
    {
      "metadata": {
        "id": "co7MV6sX7Xto",
        "colab_type": "text"
      },
      "cell_type": "markdown",
      "source": [
        "# [Keras + Universal Sentence Encoder = Deep Meter](https://www.dlology.com/blog/keras-meets-universal-sentence-encoder-transfer-learning-for-text-data/) "
      ]
    },
    {
      "metadata": {
        "id": "eAVQGidpL8v5",
        "colab_type": "text"
      },
      "cell_type": "markdown",
      "source": [
        "This notebook creates an autoencoder using the Universal Sentence Encoder. The autoencoder output is CMUdict syllables. The dataset is that subset of Allison Parrish's Project Gutenberg poetry archive which happens to scan in iambic pentameter.\n",
        "\n",
        "The notebook is based on Chengwei Zhang's example of wrapping the USE inside a larger tensorflow model saves to a Keras model (without save the USE itself in the TF model).\n",
        "\n",
        "The Universal Sentence Encoder makes getting sentence level embeddings as easy as it has historically been to lookup the embeddings for individual words. The sentence embeddings can then be trivially used to compute sentence level meaning similarity as well as to enable better performance on downstream classification tasks using less supervised training data.\n",
        "\n",
        "Since there are 10 one-hot values for 10 sets of 6k syllables, this is \"multi-label classification\"\n",
        "Changes for multi-label classification:\n",
        "sigmoid activation instead of softmax\n",
        "binary_crossentropy\n",
        "\n",
        "Text format is tab-separated, 2 columns: first text, second multi-level\n",
        "array of syllables:\n"
      ]
    },
    {
      "metadata": {
        "id": "pOTzp8O36CyQ",
        "colab_type": "text"
      },
      "cell_type": "markdown",
      "source": [
        "# Getting Started\n",
        "\n",
        "This section sets up the environment for access to the Universal Sentence Encoder on TF Hub and provides examples of applying the encoder to words, sentences, and paragraphs."
      ]
    },
    {
      "metadata": {
        "id": "lVjNK8shFKOC",
        "colab_type": "code",
        "outputId": "5c3b5902-256f-4650-e0b3-e7490597f992",
        "colab": {
          "base_uri": "https://localhost:8080/",
          "height": 119
        }
      },
      "cell_type": "code",
      "source": [
        "# Install the latest Tensorflow version.\n",
        "!pip3 install --quiet \"tensorflow>=1.7\"\n",
        "# Install TF-Hub.\n",
        "!pip3 install --quiet tensorflow-hub\n",
        "%cd /content\n",
        "!git clone https://github.com/LanceNorskog/deep_meter || true\n",
        "%cd deep_meter\n",
        "!git pull\n",
        "# could not figure out how to read gzipped files as text!\n",
        "!gunzip -qf blobs/*.gz || true\n",
        "!gunzip -qf prepped_data/*.gz || true"
      ],
      "execution_count": 1,
      "outputs": [
        {
          "output_type": "stream",
          "text": [
            "/content\n",
            "fatal: destination path 'deep_meter' already exists and is not an empty directory.\n",
            "/content/deep_meter\n",
            "Already up to date.\n",
            "gzip: blobs/*.gz: No such file or directory\n",
            "gzip: prepped_data/*.gz: No such file or directory\n"
          ],
          "name": "stdout"
        }
      ]
    },
    {
      "metadata": {
        "id": "MSeY-MUQo2Ha",
        "colab_type": "code",
        "outputId": "58016baa-86f3-4294-9c78-5aff6a127708",
        "colab": {
          "base_uri": "https://localhost:8080/",
          "height": 34
        }
      },
      "cell_type": "code",
      "source": [
        "# boilerplate from base notebook\n",
        "import tensorflow as tf\n",
        "import tensorflow_hub as hub\n",
        "import matplotlib.pyplot as plt\n",
        "import numpy as np\n",
        "import os\n",
        "import pandas as pd\n",
        "import re\n",
        "import seaborn as sns\n",
        "import keras.layers as layers\n",
        "from keras.models import Model\n",
        "from keras import backend as K\n",
        "from keras.callbacks import EarlyStopping, ModelCheckpoint\n",
        "np.random.seed(10)"
      ],
      "execution_count": 2,
      "outputs": [
        {
          "output_type": "stream",
          "text": [
            "Using TensorFlow backend.\n"
          ],
          "name": "stderr"
        }
      ]
    },
    {
      "metadata": {
        "id": "feBc_8Y-pt6F",
        "colab_type": "code",
        "colab": {}
      },
      "cell_type": "code",
      "source": [
        "# github deep_meter code\n",
        "import utils\n",
        "# should not need this to use utils.flatten but is true anyway?\n",
        "from itertools import chain\n",
        "import subprocess\n",
        "import syllables\n",
        "# misc for this notebook\n",
        "from ast import literal_eval\n",
        "\n",
        "import scipy\n",
        "\n"
      ],
      "execution_count": 0,
      "outputs": []
    },
    {
      "metadata": {
        "id": "zwty8Z6mAkdV",
        "colab_type": "code",
        "colab": {}
      },
      "cell_type": "code",
      "source": [
        "module_url = \"https://tfhub.dev/google/universal-sentence-encoder-large/3\" #@param [\"https://tfhub.dev/google/universal-sentence-encoder/2\", \"https://tfhub.dev/google/universal-sentence-encoder-large/3\"]"
      ],
      "execution_count": 0,
      "outputs": []
    },
    {
      "metadata": {
        "id": "Q8F4LNGFqOiq",
        "colab_type": "code",
        "outputId": "820b774c-393e-4fcd-b51f-24eec4ea1295",
        "colab": {
          "base_uri": "https://localhost:8080/",
          "height": 34
        }
      },
      "cell_type": "code",
      "source": [
        "# Import the Universal Sentence Encoder's TF Hub module\n",
        "embed = hub.Module(module_url)\n",
        "embed_size = embed.get_output_info_dict()['default'].get_shape()[1].value"
      ],
      "execution_count": 5,
      "outputs": [
        {
          "output_type": "stream",
          "text": [
            "INFO:tensorflow:Using /tmp/tfhub_modules to cache modules.\n"
          ],
          "name": "stdout"
        }
      ]
    },
    {
      "metadata": {
        "id": "FwAQNy1eMDkQ",
        "colab_type": "code",
        "colab": {}
      },
      "cell_type": "code",
      "source": [
        "# read classified poetry lines: text tab [['syll', 'la', 'ble'], ...]\n",
        "# clip to only most common syllables with syllable manager\n",
        "def get_data(filename, syll_mgr, num_symbols):\n",
        "    lines = open(filename, 'r').read().splitlines()\n",
        "    text_lines = []\n",
        "    enc_array = []\n",
        "    num_syllables = syll_mgr.get_size()\n",
        "    for i in range(0, len(lines)):\n",
        "      parts = lines[i].split(\"\\t\")\n",
        "      label = utils.flatten(literal_eval(parts[1]))\n",
        "      if len(label) != num_symbols:\n",
        "        continue\n",
        "      enc = np.zeros((num_symbols * syll_mgr.get_size()), dtype=np.int8)\n",
        "      for j in range(num_symbols):\n",
        "        enc[num_syllables * j + syll_mgr.get_encoding(label[j])] = 1\n",
        "      text_lines.append([parts[0]])\n",
        "      enc_array.append(enc)\n",
        "\n",
        "    return (np.array(text_lines), np.array(enc_array))\n"
      ],
      "execution_count": 0,
      "outputs": []
    },
    {
      "metadata": {
        "id": "3HAtd4X5DayF",
        "colab_type": "code",
        "colab": {}
      },
      "cell_type": "code",
      "source": [
        "# syllables in descending order of occurrence - 6k in gutenberg.iambic_pentameter, 15k total\n",
        "# clamp to most common 100 syllables while debugging- use NCE to get all syllables or interesting number\n",
        "# 98 + pause + wildcard\n",
        "num_syllables = 1800 \n",
        "# iambic pentameter\n",
        "num_symbols = 10\n",
        "syll_mgr = syllables.syllables(num_syllables)\n"
      ],
      "execution_count": 0,
      "outputs": []
    },
    {
      "metadata": {
        "id": "eN9aqig-QpDZ",
        "colab_type": "code",
        "colab": {
          "base_uri": "https://localhost:8080/",
          "height": 34
        },
        "outputId": "9847c9fb-73af-4740-f1df-fae9a9b5d013"
      },
      "cell_type": "code",
      "source": [
        "(train_text, train_label) = get_data('prepped_data/gutenberg.iambic_pentameter.train', syll_mgr, num_symbols)\n",
        "num_training = len(train_text)\n",
        "#train_text = train_text[0:10000]\n",
        "#train_label = train_label[0:10000]\n",
        "\n",
        "(test_text, test_label) = get_data('prepped_data/gutenberg.iambic_pentameter.test', syll_mgr, num_symbols)\n",
        "num_testing = len(test_text)\n",
        "train_label.shape\n"
      ],
      "execution_count": 19,
      "outputs": [
        {
          "output_type": "execute_result",
          "data": {
            "text/plain": [
              "(58498, 18000)"
            ]
          },
          "metadata": {
            "tags": []
          },
          "execution_count": 19
        }
      ]
    },
    {
      "metadata": {
        "id": "-mQUV_7dIm-9",
        "colab_type": "code",
        "colab": {}
      },
      "cell_type": "code",
      "source": [
        "\n",
        "# slow\n",
        "num_epochs = 50\n",
        "adam_0001 = tf.train.AdamOptimizer(0.0001)"
      ],
      "execution_count": 0,
      "outputs": []
    },
    {
      "metadata": {
        "id": "Sf9A4Xl6J7c6",
        "colab_type": "text"
      },
      "cell_type": "markdown",
      "source": [
        "## Wrap embed module in a Lambda layer\n",
        "Explicitly cast the input as a string"
      ]
    },
    {
      "metadata": {
        "id": "PRD3fWgJjOrP",
        "colab_type": "code",
        "colab": {}
      },
      "cell_type": "code",
      "source": [
        "def UniversalEmbedding(x):\n",
        "    return embed(tf.squeeze(tf.cast(x, tf.string)), signature=\"default\", as_dict=True)[\"default\"]\n"
      ],
      "execution_count": 0,
      "outputs": []
    },
    {
      "metadata": {
        "id": "qX2rBOuxDP1m",
        "colab_type": "text"
      },
      "cell_type": "markdown",
      "source": [
        "## Assemble model"
      ]
    },
    {
      "metadata": {
        "id": "t3fllZkVjXKV",
        "colab_type": "code",
        "outputId": "0e654b32-46db-4617-f959-2d11a5002c5b",
        "colab": {
          "base_uri": "https://localhost:8080/",
          "height": 459
        }
      },
      "cell_type": "code",
      "source": [
        "# changed accuracy from 'choose your own accuracy'\n",
        "input_text = layers.Input(shape=(1,), dtype=tf.string)\n",
        "embedding = layers.Lambda(UniversalEmbedding, output_shape=(embed_size,), name='TF-Hub')(input_text)\n",
        "dropout_input = layers.Dropout(0.2)(embedding)\n",
        "dense = layers.Dense(768, activation='relu', name='Convoluted')(dropout_input)\n",
        "dense = layers.Dropout(0.2)(dense)\n",
        "dense = layers.Dense(1024, activation='relu', name='Medium')(dense)\n",
        "dense = layers.Dropout(0.2)(dense)\n",
        "dense = layers.Dense(2048, activation='relu', name='Smooth')(dense)\n",
        "pred = layers.Dense(num_symbols * num_syllables, activation='sigmoid', name='Flatout')(dense)\n",
        "model = Model(inputs=[input_text], outputs=pred)\n",
        "model.compile(loss='binary_crossentropy', optimizer=adam_0001, metrics=['binary_accuracy','categorical_accuracy'])\n",
        "model.summary()"
      ],
      "execution_count": 22,
      "outputs": [
        {
          "output_type": "stream",
          "text": [
            "INFO:tensorflow:Saver not created because there are no variables in the graph to restore\n",
            "_________________________________________________________________\n",
            "Layer (type)                 Output Shape              Param #   \n",
            "=================================================================\n",
            "input_2 (InputLayer)         (None, 1)                 0         \n",
            "_________________________________________________________________\n",
            "TF-Hub (Lambda)              (None, 512)               0         \n",
            "_________________________________________________________________\n",
            "dropout_4 (Dropout)          (None, 512)               0         \n",
            "_________________________________________________________________\n",
            "Convoluted (Dense)           (None, 768)               393984    \n",
            "_________________________________________________________________\n",
            "dropout_5 (Dropout)          (None, 768)               0         \n",
            "_________________________________________________________________\n",
            "Medium (Dense)               (None, 1024)              787456    \n",
            "_________________________________________________________________\n",
            "dropout_6 (Dropout)          (None, 1024)              0         \n",
            "_________________________________________________________________\n",
            "Smooth (Dense)               (None, 2048)              2099200   \n",
            "_________________________________________________________________\n",
            "Flatout (Dense)              (None, 18000)             36882000  \n",
            "=================================================================\n",
            "Total params: 40,162,640\n",
            "Trainable params: 40,162,640\n",
            "Non-trainable params: 0\n",
            "_________________________________________________________________\n"
          ],
          "name": "stdout"
        }
      ]
    },
    {
      "metadata": {
        "id": "bqcRy_JWXe0u",
        "colab_type": "text"
      },
      "cell_type": "markdown",
      "source": [
        "## Train Keras model and save weights\n",
        "This only trains and save our Keras layers not the embed module' weights."
      ]
    },
    {
      "metadata": {
        "id": "_stfC_7VFhS8",
        "colab_type": "code",
        "outputId": "6479ad3e-1c1e-4b53-c1f2-d08fe7ba6aa8",
        "colab": {
          "base_uri": "https://localhost:8080/",
          "height": 391
        }
      },
      "cell_type": "code",
      "source": [
        "use_saved_model=False\n",
        "retrain=False\n",
        "if not use_saved_model or not os.path.exists('./model.h5'):\n",
        "  with tf.Session() as session:\n",
        "    K.set_session(session)\n",
        "    session.run(tf.global_variables_initializer())\n",
        "    if retrain:\n",
        "      model.load_weights('./model.h5')  \n",
        "    else:\n",
        "      session.run(tf.tables_initializer())\n",
        "    history = model.fit(train_text, \n",
        "            train_label,\n",
        "            validation_data=(test_text, test_label),\n",
        "            epochs=num_epochs,\n",
        "            callbacks = [EarlyStopping(patience=2)],\n",
        "            batch_size=32,\n",
        "            verbose=2)\n",
        "    model.save_weights('./model.h5')\n"
      ],
      "execution_count": 0,
      "outputs": [
        {
          "output_type": "stream",
          "text": [
            "Train on 58498 samples, validate on 4200 samples\n",
            "Epoch 1/50\n",
            " - 135s - loss: 0.0144 - binary_accuracy: 0.9982 - categorical_accuracy: 0.0557 - val_loss: 0.0034 - val_binary_accuracy: 0.9994 - val_categorical_accuracy: 0.0248\n",
            "Epoch 2/50\n",
            " - 130s - loss: 0.0033 - binary_accuracy: 0.9994 - categorical_accuracy: 0.1859 - val_loss: 0.0033 - val_binary_accuracy: 0.9995 - val_categorical_accuracy: 0.2600\n",
            "Epoch 3/50\n",
            " - 130s - loss: 0.0033 - binary_accuracy: 0.9995 - categorical_accuracy: 0.2985 - val_loss: 0.0033 - val_binary_accuracy: 0.9995 - val_categorical_accuracy: 0.3119\n",
            "Epoch 4/50\n",
            " - 131s - loss: 0.0032 - binary_accuracy: 0.9995 - categorical_accuracy: 0.3504 - val_loss: 0.0032 - val_binary_accuracy: 0.9995 - val_categorical_accuracy: 0.3748\n",
            "Epoch 5/50\n",
            " - 130s - loss: 0.0031 - binary_accuracy: 0.9995 - categorical_accuracy: 0.4150 - val_loss: 0.0031 - val_binary_accuracy: 0.9995 - val_categorical_accuracy: 0.4783\n",
            "Epoch 6/50\n",
            " - 130s - loss: 0.0030 - binary_accuracy: 0.9995 - categorical_accuracy: 0.4599 - val_loss: 0.0030 - val_binary_accuracy: 0.9995 - val_categorical_accuracy: 0.5050\n",
            "Epoch 7/50\n",
            " - 130s - loss: 0.0029 - binary_accuracy: 0.9995 - categorical_accuracy: 0.4874 - val_loss: 0.0029 - val_binary_accuracy: 0.9995 - val_categorical_accuracy: 0.5445\n",
            "Epoch 8/50\n",
            " - 129s - loss: 0.0029 - binary_accuracy: 0.9995 - categorical_accuracy: 0.5040 - val_loss: 0.0029 - val_binary_accuracy: 0.9995 - val_categorical_accuracy: 0.5619\n",
            "Epoch 9/50\n",
            " - 129s - loss: 0.0028 - binary_accuracy: 0.9995 - categorical_accuracy: 0.5191 - val_loss: 0.0028 - val_binary_accuracy: 0.9995 - val_categorical_accuracy: 0.5593\n",
            "Epoch 10/50\n",
            " - 128s - loss: 0.0027 - binary_accuracy: 0.9995 - categorical_accuracy: 0.5291 - val_loss: 0.0028 - val_binary_accuracy: 0.9995 - val_categorical_accuracy: 0.5607\n",
            "Epoch 11/50\n"
          ],
          "name": "stdout"
        }
      ]
    },
    {
      "metadata": {
        "id": "UW1CiBhnXnxa",
        "colab_type": "code",
        "outputId": "ab550a5d-3798-43ff-8916-d6587c3acd62",
        "colab": {
          "base_uri": "https://localhost:8080/",
          "height": 34
        }
      },
      "cell_type": "code",
      "source": [
        "!ls -alh | grep model.h5"
      ],
      "execution_count": 13,
      "outputs": [
        {
          "output_type": "stream",
          "text": [
            "-rw-r--r-- 1 root root 154M Oct 27 05:32 model.h5\n"
          ],
          "name": "stdout"
        }
      ]
    },
    {
      "metadata": {
        "id": "nQux6qLdXabG",
        "colab_type": "text"
      },
      "cell_type": "markdown",
      "source": [
        "## Make predictions"
      ]
    },
    {
      "metadata": {
        "id": "fSDxetlfUEiD",
        "colab_type": "code",
        "colab": {}
      },
      "cell_type": "code",
      "source": [
        "\n",
        "#new_text = np.array(new_text, dtype=object)[:, np.newaxis]\n",
        "with tf.Session() as session:\n",
        "  K.set_session(session)\n",
        "  session.run(tf.global_variables_initializer())\n",
        "  session.run(tf.tables_initializer())\n",
        "  model.load_weights('./model.h5')  \n",
        "  predicts = model.predict(test_text, batch_size=32)"
      ],
      "execution_count": 0,
      "outputs": []
    },
    {
      "metadata": {
        "id": "U9V5JOWGq4Cd",
        "colab_type": "code",
        "outputId": "4c800e20-ecc6-454a-d59b-14c21cd2ec5d",
        "colab": {
          "base_uri": "https://localhost:8080/",
          "height": 85
        }
      },
      "cell_type": "code",
      "source": [
        "first = predicts[0]\n",
        "max_d = -1000000\n",
        "min_d = 1000000\n",
        "max_i = 0\n",
        "min_i = 0\n",
        "for i in range(len(predicts) - 1):\n",
        "  v = predicts[i]\n",
        "  d = scipy.spatial.distance.cosine(v, first)\n",
        "  if max_d < d:\n",
        "    max_d = d\n",
        "    max_i = i\n",
        "  if min_d > d:\n",
        "    min_d = d\n",
        "    min_i = i\n",
        "print(\"Min and max distances: {0} and {1}\".format(min_d, max_d))\n",
        "print(test_text[max_i])\n",
        "syll_mgr.interpret2(predicts[max_i])"
      ],
      "execution_count": 15,
      "outputs": [
        {
          "output_type": "stream",
          "text": [
            "Min and max distances: 4.682950962564547e-07 and 0.7789320179535242\n",
            "['And him, that other, reigning in his place,']\n",
            "[7, 958, 10, 0, 10, 0, 10, 0, 10, 0]\n",
            "['AE N D', 'HH IY', 'HH IH Z', '?', 'HH IH Z', '?', 'HH IH Z', '?', 'HH IH Z', '?']\n"
          ],
          "name": "stdout"
        }
      ]
    },
    {
      "metadata": {
        "id": "xaR0d5VPU23Z",
        "colab_type": "code",
        "outputId": "82eddc71-8e39-4ad3-c78d-5257063dd5f0",
        "colab": {
          "base_uri": "https://localhost:8080/",
          "height": 6137
        }
      },
      "cell_type": "code",
      "source": [
        "for i in range(10,100):\n",
        "  print(test_text[i])\n",
        "  syll_mgr.interpret2(predicts[i])\n",
        "  print('')"
      ],
      "execution_count": 16,
      "outputs": [
        {
          "output_type": "stream",
          "text": [
            "['Of humble seeming: and, behind them all,']\n",
            "[40, 0, 7, 0, 7, 0, 7, 0, 7, 0]\n",
            "['AH V', '?', 'AE N D', '?', 'AE N D', '?', 'AE N D', '?', 'AE N D', '?']\n",
            "\n",
            "['Behind his head upon the shoulders lay,']\n",
            "[36, 0, 10, 0, 7, 0, 10, 0, 10, 0]\n",
            "['AH', '?', 'HH IH Z', '?', 'AE N D', '?', 'HH IH Z', '?', 'HH IH Z', '?']\n",
            "\n",
            "['Discover countries, with a kindred heart']\n",
            "[40, 0, 7, 0, 7, 7, 7, 7, 7, 0]\n",
            "['AH V', '?', 'AE N D', '?', 'AE N D', 'AE N D', 'AE N D', 'AE N D', 'AE N D', '?']\n",
            "\n",
            "['Was open in his praise, and plaudits rose']\n",
            "[10, 0, 10, 0, 10, 0, 10, 0, 10, 0]\n",
            "['HH IH Z', '?', 'HH IH Z', '?', 'HH IH Z', '?', 'HH IH Z', '?', 'HH IH Z', '?']\n",
            "\n",
            "['A spear the hero bore of wondrous strength,']\n",
            "[31, 0, 40, 0, 31, 0, 10, 0, 31, 0]\n",
            "['DH AH', '?', 'AH V', '?', 'DH AH', '?', 'HH IH Z', '?', 'DH AH', '?']\n",
            "\n",
            "['Were things indifferent to the Shepherds thoughts.']\n",
            "[31, 0, 0, 0, 31, 0, 31, 0, 36, 0]\n",
            "['DH AH', '?', '?', '?', 'DH AH', '?', 'DH AH', '?', 'AH', '?']\n",
            "\n",
            "['That to the young supplies a guiding light,']\n",
            "[31, 0, 31, 0, 31, 0, 31, 0, 31, 0]\n",
            "['DH AH', '?', 'DH AH', '?', 'DH AH', '?', 'DH AH', '?', 'DH AH', '?']\n",
            "\n",
            "['Of Greeks a mighty army, all in vain;']\n",
            "[40, 0, 31, 0, 31, 0, 31, 0, 40, 0]\n",
            "['AH V', '?', 'DH AH', '?', 'DH AH', '?', 'DH AH', '?', 'AH V', '?']\n",
            "\n",
            "['Into the mighty vision passing--there,']\n",
            "[2, 0, 31, 0, 31, 0, 31, 40, 31, 0]\n",
            "['F R AH M', '?', 'DH AH', '?', 'DH AH', '?', 'DH AH', 'AH V', 'DH AH', '?']\n",
            "\n",
            "['Them in his anger, whom his anger saves']\n",
            "[30, 0, 10, 0, 7, 0, 10, 0, 10, 0]\n",
            "['T UW', '?', 'HH IH Z', '?', 'AE N D', '?', 'HH IH Z', '?', 'HH IH Z', '?']\n",
            "\n",
            "['And in the soul within the sense began']\n",
            "[7, 133, 31, 0, 31, 0, 31, 40, 31, 0]\n",
            "['AE N D', 'AO L', 'DH AH', '?', 'DH AH', '?', 'DH AH', 'AH V', 'DH AH', '?']\n",
            "\n",
            "['For Daphnis reigns above, and deals from thence']\n",
            "[40, 0, 31, 0, 7, 0, 31, 0, 31, 0]\n",
            "['AH V', '?', 'DH AH', '?', 'AE N D', '?', 'DH AH', '?', 'DH AH', '?']\n",
            "\n",
            "['For one that looked with such a captains mien:']\n",
            "[40, 0, 31, 0, 7, 0, 31, 0, 36, 0]\n",
            "['AH V', '?', 'DH AH', '?', 'AE N D', '?', 'DH AH', '?', 'AH', '?']\n",
            "\n",
            "['Of thought between her fingers and her brain,']\n",
            "[30, 0, 170, 0, 170, 0, 170, 0, 170, 0]\n",
            "['T UW', '?', 'HH ER', '?', 'HH ER', '?', 'HH ER', '?', 'HH ER', '?']\n",
            "\n",
            "['And still the red sedan of rank appeals,']\n",
            "[7, 0, 31, 0, 31, 0, 31, 0, 31, 0]\n",
            "['AE N D', '?', 'DH AH', '?', 'DH AH', '?', 'DH AH', '?', 'DH AH', '?']\n",
            "\n",
            "['With this eternal silence;--more a god,']\n",
            "[40, 0, 36, 0, 36, 0, 36, 40, 36, 0]\n",
            "['AH V', '?', 'AH', '?', 'AH', '?', 'AH', 'AH V', 'AH', '?']\n",
            "\n",
            "['Forgot, nutritious, grateful to the taste,']\n",
            "[7, 0, 31, 0, 0, 0, 7, 0, 7, 0]\n",
            "['AE N D', '?', 'DH AH', '?', '?', '?', 'AE N D', '?', 'AE N D', '?']\n",
            "\n",
            "['Of full perfection prompt his daring dream,']\n",
            "[10, 0, 10, 0, 10, 0, 10, 0, 10, 0]\n",
            "['HH IH Z', '?', 'HH IH Z', '?', 'HH IH Z', '?', 'HH IH Z', '?', 'HH IH Z', '?']\n",
            "\n",
            "['And all the spaces of the midnight town']\n",
            "[7, 0, 31, 0, 31, 0, 31, 40, 31, 0]\n",
            "['AE N D', '?', 'DH AH', '?', 'DH AH', '?', 'DH AH', 'AH V', 'DH AH', '?']\n",
            "\n",
            "['The sandbar sings in moonlit veils of foam.']\n",
            "[31, 0, 31, 0, 31, 0, 31, 0, 31, 0]\n",
            "['DH AH', '?', 'DH AH', '?', 'DH AH', '?', 'DH AH', '?', 'DH AH', '?']\n",
            "\n",
            "['And darkness settled on the outer world.']\n",
            "[7, 133, 31, 0, 31, 0, 31, 40, 31, 1257]\n",
            "['AE N D', 'AO L', 'DH AH', '?', 'DH AH', '?', 'DH AH', 'AH V', 'DH AH', 'S K AY']\n",
            "\n",
            "['Or castle, high embattled on the point']\n",
            "[50, 0, 31, 0, 50, 0, 31, 0, 31, 0]\n",
            "['AO R', '?', 'DH AH', '?', 'AO R', '?', 'DH AH', '?', 'DH AH', '?']\n",
            "\n",
            "['The each with All in one, sublime design?']\n",
            "[40, 0, 40, 0, 7, 0, 40, 0, 7, 0]\n",
            "['AH V', '?', 'AH V', '?', 'AE N D', '?', 'AH V', '?', 'AE N D', '?']\n",
            "\n",
            "['The curving prow, the tall and stately mast,']\n",
            "[31, 0, 31, 0, 31, 0, 31, 0, 31, 0]\n",
            "['DH AH', '?', 'DH AH', '?', 'DH AH', '?', 'DH AH', '?', 'DH AH', '?']\n",
            "\n",
            "['And bids anew the martial thunder rise.']\n",
            "[7, 0, 31, 0, 31, 0, 31, 0, 31, 0]\n",
            "['AE N D', '?', 'DH AH', '?', 'DH AH', '?', 'DH AH', '?', 'DH AH', '?']\n",
            "\n",
            "['And hearing harlot muttered twice or thrice,']\n",
            "[7, 0, 31, 0, 36, 0, 170, 0, 0, 0]\n",
            "['AE N D', '?', 'DH AH', '?', 'AH', '?', 'HH ER', '?', '?', '?']\n",
            "\n",
            "['That evening passed with music, chat, and song,']\n",
            "[31, 0, 31, 0, 7, 0, 7, 0, 36, 0]\n",
            "['DH AH', '?', 'DH AH', '?', 'AE N D', '?', 'AE N D', '?', 'AH', '?']\n",
            "\n",
            "['With childlike pleasure at the blooming sun;']\n",
            "[76, 0, 31, 0, 7, 0, 7, 0, 7, 0]\n",
            "['W IH DH', '?', 'DH AH', '?', 'AE N D', '?', 'AE N D', '?', 'AE N D', '?']\n",
            "\n",
            "['And send her back with gentle words to earth']\n",
            "[7, 0, 170, 0, 170, 0, 170, 0, 170, 0]\n",
            "['AE N D', '?', 'HH ER', '?', 'HH ER', '?', 'HH ER', '?', 'HH ER', '?']\n",
            "\n",
            "['With glowing eyes and pale, unsmiling face,']\n",
            "[76, 0, 36, 0, 7, 0, 7, 0, 7, 0]\n",
            "['W IH DH', '?', 'AH', '?', 'AE N D', '?', 'AE N D', '?', 'AE N D', '?']\n",
            "\n",
            "['Its beauties first? That she will show to me']\n",
            "[36, 0, 36, 0, 170, 0, 170, 0, 36, 0]\n",
            "['AH', '?', 'AH', '?', 'HH ER', '?', 'HH ER', '?', 'AH', '?']\n",
            "\n",
            "['A man is likewise counsel for himself,']\n",
            "[31, 0, 40, 0, 7, 0, 10, 0, 30, 0]\n",
            "['DH AH', '?', 'AH V', '?', 'AE N D', '?', 'HH IH Z', '?', 'T UW', '?']\n",
            "\n",
            "['And awful, mighty eyes that cowed and held']\n",
            "[7, 0, 7, 0, 0, 0, 7, 0, 40, 0]\n",
            "['AE N D', '?', 'AE N D', '?', '?', '?', 'AE N D', '?', 'AH V', '?']\n",
            "\n",
            "['Of thoughts revolved, his final sentence chose']\n",
            "[30, 0, 10, 0, 10, 0, 10, 0, 30, 0]\n",
            "['T UW', '?', 'HH IH Z', '?', 'HH IH Z', '?', 'HH IH Z', '?', 'T UW', '?']\n",
            "\n",
            "['His head, his shoulders, and his knees embraced;']\n",
            "[10, 0, 10, 0, 10, 0, 10, 0, 10, 0]\n",
            "['HH IH Z', '?', 'HH IH Z', '?', 'HH IH Z', '?', 'HH IH Z', '?', 'HH IH Z', '?']\n",
            "\n",
            "['And came into the vale in little space,']\n",
            "[7, 0, 31, 0, 31, 0, 31, 40, 31, 0]\n",
            "['AE N D', '?', 'DH AH', '?', 'DH AH', '?', 'DH AH', 'AH V', 'DH AH', '?']\n",
            "\n",
            "['In forest wild, in thicket, brake, or den;']\n",
            "[50, 0, 50, 0, 50, 0, 50, 0, 31, 0]\n",
            "['AO R', '?', 'AO R', '?', 'AO R', '?', 'AO R', '?', 'DH AH', '?']\n",
            "\n",
            "['In spite of changes. Look for me until']\n",
            "[30, 0, 31, 0, 31, 0, 31, 0, 30, 0]\n",
            "['T UW', '?', 'DH AH', '?', 'DH AH', '?', 'DH AH', '?', 'T UW', '?']\n",
            "\n",
            "['The parchment of the future, it were vain--']\n",
            "[31, 0, 40, 0, 31, 0, 31, 0, 36, 0]\n",
            "['DH AH', '?', 'AH V', '?', 'DH AH', '?', 'DH AH', '?', 'AH', '?']\n",
            "\n",
            "['The spirits of the Seasons seem to stand.']\n",
            "[31, 0, 31, 0, 31, 0, 31, 40, 31, 0]\n",
            "['DH AH', '?', 'DH AH', '?', 'DH AH', '?', 'DH AH', 'AH V', 'DH AH', '?']\n",
            "\n",
            "['For lo! his passion, but an art of craft,']\n",
            "[36, 0, 40, 0, 7, 0, 10, 0, 40, 0]\n",
            "['AH', '?', 'AH V', '?', 'AE N D', '?', 'HH IH Z', '?', 'AH V', '?']\n",
            "\n",
            "['Is due, and not to war, intrepid still']\n",
            "[86, 0, 36, 0, 36, 0, 31, 0, 36, 0]\n",
            "['IH Z', '?', 'AH', '?', 'AH', '?', 'DH AH', '?', 'AH', '?']\n",
            "\n",
            "['Or sleeping, walk a restless world of dreams.']\n",
            "[50, 0, 31, 0, 36, 0, 31, 0, 31, 0]\n",
            "['AO R', '?', 'DH AH', '?', 'AH', '?', 'DH AH', '?', 'DH AH', '?']\n",
            "\n",
            "['Of teaching school, a school of Czechs and Poles']\n",
            "[40, 0, 31, 0, 0, 0, 31, 0, 31, 0]\n",
            "['AH V', '?', 'DH AH', '?', '?', '?', 'DH AH', '?', 'DH AH', '?']\n",
            "\n",
            "['And drops of blood bedew the conscious lawn;']\n",
            "[7, 0, 31, 0, 31, 0, 31, 0, 31, 0]\n",
            "['AE N D', '?', 'DH AH', '?', 'DH AH', '?', 'DH AH', '?', 'DH AH', '?']\n",
            "\n",
            "['From daylight till the evening, wet or fine,']\n",
            "[67, 0, 31, 0, 50, 0, 31, 0, 31, 0]\n",
            "['IH N', '?', 'DH AH', '?', 'AO R', '?', 'DH AH', '?', 'DH AH', '?']\n",
            "\n",
            "['A doom that ever poised itself to fall,']\n",
            "[36, 0, 36, 0, 36, 0, 36, 0, 31, 0]\n",
            "['AH', '?', 'AH', '?', 'AH', '?', 'AH', '?', 'DH AH', '?']\n",
            "\n",
            "['Of wailing women pierce the vaulted skies.']\n",
            "[40, 0, 31, 0, 31, 0, 31, 0, 31, 0]\n",
            "['AH V', '?', 'DH AH', '?', 'DH AH', '?', 'DH AH', '?', 'DH AH', '?']\n",
            "\n",
            "['To happy havens under all the sky,']\n",
            "[30, 0, 31, 0, 31, 0, 31, 40, 31, 0]\n",
            "['T UW', '?', 'DH AH', '?', 'DH AH', '?', 'DH AH', 'AH V', 'DH AH', '?']\n",
            "\n",
            "['In purple clusters hangs the vines increase,']\n",
            "[31, 0, 31, 0, 31, 0, 31, 0, 31, 0]\n",
            "['DH AH', '?', 'DH AH', '?', 'DH AH', '?', 'DH AH', '?', 'DH AH', '?']\n",
            "\n",
            "['A shepherd meeting thee, the oar surveys,']\n",
            "[31, 0, 31, 0, 31, 0, 31, 0, 31, 0]\n",
            "['DH AH', '?', 'DH AH', '?', 'DH AH', '?', 'DH AH', '?', 'DH AH', '?']\n",
            "\n",
            "['The printed passion of the dream remains:--']\n",
            "[31, 0, 40, 0, 31, 0, 31, 0, 36, 0]\n",
            "['DH AH', '?', 'AH V', '?', 'DH AH', '?', 'DH AH', '?', 'AH', '?']\n",
            "\n",
            "['And piecemeal shares and maims the felon round.']\n",
            "[7, 0, 31, 0, 0, 0, 31, 0, 31, 0]\n",
            "['AE N D', '?', 'DH AH', '?', '?', '?', 'DH AH', '?', 'DH AH', '?']\n",
            "\n",
            "['A happy nation, and a happy king.']\n",
            "[31, 0, 40, 0, 31, 7, 31, 40, 40, 0]\n",
            "['DH AH', '?', 'AH V', '?', 'DH AH', 'AE N D', 'DH AH', 'AH V', 'AH V', '?']\n",
            "\n",
            "['And Miscreator, makes and helps along']\n",
            "[7, 0, 31, 0, 7, 0, 7, 0, 31, 0]\n",
            "['AE N D', '?', 'DH AH', '?', 'AE N D', '?', 'AE N D', '?', 'DH AH', '?']\n",
            "\n",
            "['The dashing waters when the air is still']\n",
            "[31, 0, 31, 0, 31, 0, 31, 0, 31, 0]\n",
            "['DH AH', '?', 'DH AH', '?', 'DH AH', '?', 'DH AH', '?', 'DH AH', '?']\n",
            "\n",
            "['And still its ice the freezing silence kept:']\n",
            "[7, 0, 31, 0, 31, 0, 31, 0, 31, 0]\n",
            "['AE N D', '?', 'DH AH', '?', 'DH AH', '?', 'DH AH', '?', 'DH AH', '?']\n",
            "\n",
            "['That shrink in misty mournfulness from sight,']\n",
            "[36, 0, 31, 0, 31, 0, 31, 0, 31, 0]\n",
            "['AH', '?', 'DH AH', '?', 'DH AH', '?', 'DH AH', '?', 'DH AH', '?']\n",
            "\n",
            "['And secret seeds of envy, lay behind;']\n",
            "[7, 0, 31, 0, 31, 0, 31, 0, 31, 0]\n",
            "['AE N D', '?', 'DH AH', '?', 'DH AH', '?', 'DH AH', '?', 'DH AH', '?']\n",
            "\n",
            "['Of trees and crack of branches, common things,']\n",
            "[40, 0, 7, 0, 7, 0, 7, 0, 7, 0]\n",
            "['AH V', '?', 'AE N D', '?', 'AE N D', '?', 'AE N D', '?', 'AE N D', '?']\n",
            "\n",
            "['And pious tribute at her altars pay:']\n",
            "[7, 0, 170, 0, 170, 0, 170, 0, 0, 0]\n",
            "['AE N D', '?', 'HH ER', '?', 'HH ER', '?', 'HH ER', '?', '?', '?']\n",
            "\n",
            "['Courageous, and refreshed for future toil,']\n",
            "[36, 0, 36, 0, 7, 0, 7, 0, 7, 0]\n",
            "['AH', '?', 'AH', '?', 'AE N D', '?', 'AE N D', '?', 'AE N D', '?']\n",
            "\n",
            "['Upon the wall and windows blots of gilt.']\n",
            "[67, 0, 31, 0, 31, 0, 31, 0, 31, 0]\n",
            "['IH N', '?', 'DH AH', '?', 'DH AH', '?', 'DH AH', '?', 'DH AH', '?']\n",
            "\n",
            "['And lay upon the threshold like a log.']\n",
            "[7, 0, 31, 0, 31, 0, 31, 0, 31, 0]\n",
            "['AE N D', '?', 'DH AH', '?', 'DH AH', '?', 'DH AH', '?', 'DH AH', '?']\n",
            "\n",
            "['In synod unbenign; and taught the fixed']\n",
            "[30, 0, 31, 0, 31, 0, 31, 0, 31, 0]\n",
            "['T UW', '?', 'DH AH', '?', 'DH AH', '?', 'DH AH', '?', 'DH AH', '?']\n",
            "\n",
            "['And left him to his rest.  An end of Love.']\n",
            "[7, 0, 10, 0, 10, 0, 10, 0, 10, 0]\n",
            "['AE N D', '?', 'HH IH Z', '?', 'HH IH Z', '?', 'HH IH Z', '?', 'HH IH Z', '?']\n",
            "\n",
            "['And human hearts and minds to show it by,']\n",
            "[7, 0, 31, 0, 7, 0, 7, 0, 7, 0]\n",
            "['AE N D', '?', 'DH AH', '?', 'AE N D', '?', 'AE N D', '?', 'AE N D', '?']\n",
            "\n",
            "['The outward struggle and the inward strife.']\n",
            "[31, 0, 40, 0, 7, 7, 31, 0, 40, 0]\n",
            "['DH AH', '?', 'AH V', '?', 'AE N D', 'AE N D', 'DH AH', '?', 'AH V', '?']\n",
            "\n",
            "['His arms and bosom, seem to melt away.']\n",
            "[10, 0, 0, 0, 7, 0, 10, 0, 10, 0]\n",
            "['HH IH Z', '?', '?', '?', 'AE N D', '?', 'HH IH Z', '?', 'HH IH Z', '?']\n",
            "\n",
            "['And noise, and tumult rises from the crowd.']\n",
            "[7, 0, 31, 0, 31, 0, 31, 0, 31, 0]\n",
            "['AE N D', '?', 'DH AH', '?', 'DH AH', '?', 'DH AH', '?', 'DH AH', '?']\n",
            "\n",
            "['Cannot devise a torment, so it be']\n",
            "[62, 0, 36, 0, 36, 0, 11, 0, 30, 0]\n",
            "['F AO R', '?', 'AH', '?', 'AH', '?', 'W IH L', '?', 'T UW', '?']\n",
            "\n",
            "['The damsel put the pair without reply:']\n",
            "[31, 0, 31, 0, 7, 0, 31, 0, 31, 0]\n",
            "['DH AH', '?', 'DH AH', '?', 'AE N D', '?', 'DH AH', '?', 'DH AH', '?']\n",
            "\n",
            "['Or that it hardens more and helps to bind']\n",
            "[50, 0, 31, 0, 50, 0, 31, 0, 31, 0]\n",
            "['AO R', '?', 'DH AH', '?', 'AO R', '?', 'DH AH', '?', 'DH AH', '?']\n",
            "\n",
            "['And flowing waters, and the starry flame,']\n",
            "[7, 0, 31, 0, 31, 0, 31, 0, 31, 0]\n",
            "['AE N D', '?', 'DH AH', '?', 'DH AH', '?', 'DH AH', '?', 'DH AH', '?']\n",
            "\n",
            "['The spoil or spoiler? this behold in me;']\n",
            "[31, 0, 31, 0, 31, 0, 31, 0, 31, 0]\n",
            "['DH AH', '?', 'DH AH', '?', 'DH AH', '?', 'DH AH', '?', 'DH AH', '?']\n",
            "\n",
            "['And rode with them, and spake to none; the day']\n",
            "[7, 0, 31, 0, 31, 0, 31, 0, 31, 0]\n",
            "['AE N D', '?', 'DH AH', '?', 'DH AH', '?', 'DH AH', '?', 'DH AH', '?']\n",
            "\n",
            "['Of finest metal was her armour bright,']\n",
            "[170, 0, 0, 0, 0, 0, 170, 0, 0, 0]\n",
            "['HH ER', '?', '?', '?', '?', '?', 'HH ER', '?', '?', '?']\n",
            "\n",
            "['The doleful city all around invest,']\n",
            "[31, 0, 31, 0, 31, 0, 31, 0, 31, 0]\n",
            "['DH AH', '?', 'DH AH', '?', 'DH AH', '?', 'DH AH', '?', 'DH AH', '?']\n",
            "\n",
            "['Of crowded cities, was from passing tale']\n",
            "[31, 0, 31, 0, 31, 0, 31, 0, 31, 0]\n",
            "['DH AH', '?', 'DH AH', '?', 'DH AH', '?', 'DH AH', '?', 'DH AH', '?']\n",
            "\n",
            "['An Arab fearless as the face of Truth']\n",
            "[36, 0, 40, 0, 7, 0, 31, 0, 40, 0]\n",
            "['AH', '?', 'AH V', '?', 'AE N D', '?', 'DH AH', '?', 'AH V', '?']\n",
            "\n",
            "['It lightened toil, and took the edge from pain,']\n",
            "[36, 0, 7, 0, 7, 0, 7, 0, 7, 0]\n",
            "['AH', '?', 'AE N D', '?', 'AE N D', '?', 'AE N D', '?', 'AE N D', '?']\n",
            "\n",
            "['That brought with it another civil war.']\n",
            "[52, 0, 31, 0, 31, 0, 31, 0, 31, 0]\n",
            "['DH AE T', '?', 'DH AH', '?', 'DH AH', '?', 'DH AH', '?', 'DH AH', '?']\n",
            "\n",
            "['Apart from all, in pride of conscious strength,']\n",
            "[40, 0, 36, 0, 7, 0, 7, 0, 7, 0]\n",
            "['AH V', '?', 'AH', '?', 'AE N D', '?', 'AE N D', '?', 'AE N D', '?']\n",
            "\n",
            "['And far and near throughout the land the men']\n",
            "[7, 0, 31, 0, 31, 0, 31, 40, 31, 0]\n",
            "['AE N D', '?', 'DH AH', '?', 'DH AH', '?', 'DH AH', 'AH V', 'DH AH', '?']\n",
            "\n",
            "['Remembered--I. And, oh! a little while']\n",
            "[36, 0, 36, 0, 36, 0, 36, 0, 36, 0]\n",
            "['AH', '?', 'AH', '?', 'AH', '?', 'AH', '?', 'AH', '?']\n",
            "\n",
            "['And clip his borders short, and drive his herds,']\n",
            "[7, 0, 10, 0, 7, 0, 10, 0, 31, 0]\n",
            "['AE N D', '?', 'HH IH Z', '?', 'AE N D', '?', 'HH IH Z', '?', 'DH AH', '?']\n",
            "\n",
            "['And suffer me in anguish to depart']\n",
            "[7, 0, 36, 0, 7, 0, 7, 0, 30, 0]\n",
            "['AE N D', '?', 'AH', '?', 'AE N D', '?', 'AE N D', '?', 'T UW', '?']\n",
            "\n",
            "['The king from sovereign peril saved his head,']\n",
            "[31, 0, 10, 0, 10, 0, 10, 0, 10, 0]\n",
            "['DH AH', '?', 'HH IH Z', '?', 'HH IH Z', '?', 'HH IH Z', '?', 'HH IH Z', '?']\n",
            "\n",
            "['The point is turned; the twilight shadow fills']\n",
            "[52, 0, 31, 0, 31, 0, 31, 0, 31, 0]\n",
            "['DH AE T', '?', 'DH AH', '?', 'DH AH', '?', 'DH AH', '?', 'DH AH', '?']\n",
            "\n",
            "['Arriving all confused among the rest']\n",
            "[2, 0, 31, 0, 31, 0, 31, 0, 31, 0]\n",
            "['F R AH M', '?', 'DH AH', '?', 'DH AH', '?', 'DH AH', '?', 'DH AH', '?']\n",
            "\n"
          ],
          "name": "stdout"
        }
      ]
    },
    {
      "metadata": {
        "id": "yyDGVtigW57f",
        "colab_type": "code",
        "outputId": "e670ac74-77ff-4426-aed0-3e30a3d53853",
        "colab": {
          "base_uri": "https://localhost:8080/",
          "height": 231
        }
      },
      "cell_type": "code",
      "source": [
        "categories = df_train.label.cat.categories.tolist()\n",
        "predict_logits = predicts.argmax(axis=1)\n",
        "print(\"Categorie: {0}\".format(categories))\n",
        "predict_labels = [categories[logit] for logit in predict_logits]\n",
        "predict_labels"
      ],
      "execution_count": 17,
      "outputs": [
        {
          "output_type": "error",
          "ename": "NameError",
          "evalue": "ignored",
          "traceback": [
            "\u001b[0;31m---------------------------------------------------------------------------\u001b[0m",
            "\u001b[0;31mNameError\u001b[0m                                 Traceback (most recent call last)",
            "\u001b[0;32m<ipython-input-17-7f6e6bf5580f>\u001b[0m in \u001b[0;36m<module>\u001b[0;34m()\u001b[0m\n\u001b[0;32m----> 1\u001b[0;31m \u001b[0mcategories\u001b[0m \u001b[0;34m=\u001b[0m \u001b[0mdf_train\u001b[0m\u001b[0;34m.\u001b[0m\u001b[0mlabel\u001b[0m\u001b[0;34m.\u001b[0m\u001b[0mcat\u001b[0m\u001b[0;34m.\u001b[0m\u001b[0mcategories\u001b[0m\u001b[0;34m.\u001b[0m\u001b[0mtolist\u001b[0m\u001b[0;34m(\u001b[0m\u001b[0;34m)\u001b[0m\u001b[0;34m\u001b[0m\u001b[0m\n\u001b[0m\u001b[1;32m      2\u001b[0m \u001b[0mpredict_logits\u001b[0m \u001b[0;34m=\u001b[0m \u001b[0mpredicts\u001b[0m\u001b[0;34m.\u001b[0m\u001b[0margmax\u001b[0m\u001b[0;34m(\u001b[0m\u001b[0maxis\u001b[0m\u001b[0;34m=\u001b[0m\u001b[0;36m1\u001b[0m\u001b[0;34m)\u001b[0m\u001b[0;34m\u001b[0m\u001b[0m\n\u001b[1;32m      3\u001b[0m \u001b[0mprint\u001b[0m\u001b[0;34m(\u001b[0m\u001b[0;34m\"Categorie: {0}\"\u001b[0m\u001b[0;34m.\u001b[0m\u001b[0mformat\u001b[0m\u001b[0;34m(\u001b[0m\u001b[0mcategories\u001b[0m\u001b[0;34m)\u001b[0m\u001b[0;34m)\u001b[0m\u001b[0;34m\u001b[0m\u001b[0m\n\u001b[1;32m      4\u001b[0m \u001b[0mpredict_labels\u001b[0m \u001b[0;34m=\u001b[0m \u001b[0;34m[\u001b[0m\u001b[0mcategories\u001b[0m\u001b[0;34m[\u001b[0m\u001b[0mlogit\u001b[0m\u001b[0;34m]\u001b[0m \u001b[0;32mfor\u001b[0m \u001b[0mlogit\u001b[0m \u001b[0;32min\u001b[0m \u001b[0mpredict_logits\u001b[0m\u001b[0;34m]\u001b[0m\u001b[0;34m\u001b[0m\u001b[0m\n\u001b[1;32m      5\u001b[0m \u001b[0mpredict_labels\u001b[0m\u001b[0;34m\u001b[0m\u001b[0m\n",
            "\u001b[0;31mNameError\u001b[0m: name 'df_train' is not defined"
          ]
        }
      ]
    },
    {
      "metadata": {
        "id": "hYhmukbSKpnp",
        "colab_type": "code",
        "colab": {}
      },
      "cell_type": "code",
      "source": [
        "\n",
        "os.remove('./model.h5')"
      ],
      "execution_count": 0,
      "outputs": []
    }
  ]
}