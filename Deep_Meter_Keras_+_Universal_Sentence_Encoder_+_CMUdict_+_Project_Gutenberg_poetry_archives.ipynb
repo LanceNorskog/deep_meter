{
  "nbformat": 4,
  "nbformat_minor": 0,
  "metadata": {
    "colab": {
      "name": "Deep Meter: Keras + Universal Sentence Encoder + CMUdict + Project Gutenberg poetry archives",
      "version": "0.3.2",
      "provenance": [],
      "collapsed_sections": []
    },
    "kernelspec": {
      "name": "python3",
      "display_name": "Python 3"
    },
    "accelerator": "GPU"
  },
  "cells": [
    {
      "metadata": {
        "id": "co7MV6sX7Xto",
        "colab_type": "text"
      },
      "cell_type": "markdown",
      "source": [
        "# [Keras + Universal Sentence Encoder = Deep Meter](https://www.dlology.com/blog/keras-meets-universal-sentence-encoder-transfer-learning-for-text-data/) "
      ]
    },
    {
      "metadata": {
        "id": "eAVQGidpL8v5",
        "colab_type": "text"
      },
      "cell_type": "markdown",
      "source": [
        "This notebook creates an autoencoder using the Universal Sentence Encoder. The autoencoder output is CMUdict syllables. The dataset is that subset of Allison Parrish's Project Gutenberg poetry archive which happens to scan in iambic pentameter.\n",
        "\n",
        "The notebook is based on Chengwei Zhang's example of wrapping the USE inside a larger tensorflow model saves to a Keras model (without save the USE itself in the TF model).\n",
        "\n",
        "The Universal Sentence Encoder makes getting sentence level embeddings as easy as it has historically been to lookup the embeddings for individual words. The sentence embeddings can then be trivially used to compute sentence level meaning similarity as well as to enable better performance on downstream classification tasks using less supervised training data.\n",
        "\n",
        "Since there are 10 one-hot values for 10 sets of 6k syllables, this is \"multi-label classification\"\n",
        "Changes for multi-label classification:\n",
        "sigmoid activation instead of softmax\n",
        "binary_crossentropy\n",
        "\n",
        "Text format is tab-separated, 2 columns: first text, second multi-level\n",
        "array of syllables:\n"
      ]
    },
    {
      "metadata": {
        "id": "pOTzp8O36CyQ",
        "colab_type": "text"
      },
      "cell_type": "markdown",
      "source": [
        "# Getting Started\n",
        "\n",
        "This section sets up the environment for access to the Universal Sentence Encoder on TF Hub and provides examples of applying the encoder to words, sentences, and paragraphs."
      ]
    },
    {
      "metadata": {
        "id": "lVjNK8shFKOC",
        "colab_type": "code",
        "outputId": "6a990a8b-9b29-4ae6-ddb4-532b380de9ab",
        "colab": {
          "base_uri": "https://localhost:8080/",
          "height": 208
        }
      },
      "cell_type": "code",
      "source": [
        "# Install the latest Tensorflow version.\n",
        "!pip3 install --quiet \"tensorflow>=1.7\"\n",
        "# Install TF-Hub.\n",
        "!pip3 install --quiet tensorflow-hub\n",
        "%cd /content\n",
        "!git clone https://github.com/LanceNorskog/deep_meter || true\n",
        "%cd deep_meter\n",
        "!git pull\n",
        "# could not figure out how to read gzipped files as text!\n",
        "!gunzip -qf blobs/*.gz || true\n",
        "!gunzip -qf prepped_data/*.gz || true"
      ],
      "execution_count": 1,
      "outputs": [
        {
          "output_type": "stream",
          "text": [
            "/content\n",
            "Cloning into 'deep_meter'...\n",
            "remote: Enumerating objects: 222, done.\u001b[K\n",
            "remote: Counting objects: 100% (222/222), done.\u001b[K\n",
            "remote: Compressing objects: 100% (156/156), done.\u001b[K\n",
            "remote: Total 222 (delta 119), reused 159 (delta 59), pack-reused 0\u001b[K\n",
            "Receiving objects: 100% (222/222), 20.71 MiB | 8.80 MiB/s, done.\n",
            "Resolving deltas: 100% (119/119), done.\n",
            "/content/deep_meter\n",
            "Already up to date.\n",
            "gzip: blobs/*.gz: No such file or directory\n"
          ],
          "name": "stdout"
        }
      ]
    },
    {
      "metadata": {
        "id": "MSeY-MUQo2Ha",
        "colab_type": "code",
        "outputId": "fea9fa6b-545a-4e68-983a-ebcb7acf2e92",
        "colab": {
          "base_uri": "https://localhost:8080/",
          "height": 34
        }
      },
      "cell_type": "code",
      "source": [
        "# boilerplate from base notebook\n",
        "import tensorflow as tf\n",
        "import tensorflow_hub as hub\n",
        "import matplotlib.pyplot as plt\n",
        "import numpy as np\n",
        "import os\n",
        "import pandas as pd\n",
        "import re\n",
        "import seaborn as sns\n",
        "import keras.layers as layers\n",
        "from keras.models import Model\n",
        "from keras import backend as K\n",
        "np.random.seed(10)"
      ],
      "execution_count": 2,
      "outputs": [
        {
          "output_type": "stream",
          "text": [
            "Using TensorFlow backend.\n"
          ],
          "name": "stderr"
        }
      ]
    },
    {
      "metadata": {
        "id": "feBc_8Y-pt6F",
        "colab_type": "code",
        "colab": {}
      },
      "cell_type": "code",
      "source": [
        "# github deep_meter code\n",
        "import utils\n",
        "# should not need this to use utils.flatten but is true anyway?\n",
        "from itertools import chain\n",
        "import subprocess\n",
        "import syllables\n",
        "# misc for this notebook\n",
        "from ast import literal_eval\n",
        "\n",
        "import scipy\n",
        "\n"
      ],
      "execution_count": 0,
      "outputs": []
    },
    {
      "metadata": {
        "id": "zwty8Z6mAkdV",
        "colab_type": "code",
        "colab": {}
      },
      "cell_type": "code",
      "source": [
        "module_url = \"https://tfhub.dev/google/universal-sentence-encoder-large/3\" #@param [\"https://tfhub.dev/google/universal-sentence-encoder/2\", \"https://tfhub.dev/google/universal-sentence-encoder-large/3\"]"
      ],
      "execution_count": 0,
      "outputs": []
    },
    {
      "metadata": {
        "id": "Q8F4LNGFqOiq",
        "colab_type": "code",
        "outputId": "e301de2e-529e-43fe-9d6f-e3bf413b91e9",
        "colab": {
          "base_uri": "https://localhost:8080/",
          "height": 69
        }
      },
      "cell_type": "code",
      "source": [
        "# Import the Universal Sentence Encoder's TF Hub module\n",
        "embed = hub.Module(module_url)\n",
        "embed_size = embed.get_output_info_dict()['default'].get_shape()[1].value"
      ],
      "execution_count": 5,
      "outputs": [
        {
          "output_type": "stream",
          "text": [
            "INFO:tensorflow:Using /tmp/tfhub_modules to cache modules.\n",
            "INFO:tensorflow:Downloading TF-Hub Module 'https://tfhub.dev/google/universal-sentence-encoder-large/3'.\n",
            "INFO:tensorflow:Downloaded TF-Hub Module 'https://tfhub.dev/google/universal-sentence-encoder-large/3'.\n"
          ],
          "name": "stdout"
        }
      ]
    },
    {
      "metadata": {
        "id": "gLsW4_Jr7zOJ",
        "colab_type": "code",
        "colab": {}
      },
      "cell_type": "code",
      "source": [
        "#sentence_labels = utils.flatten([['AE N D'], ['S T AH', 'B ER N'], ['B R AE S'], ['AE N D'], ['T IH N'], ['AE N D'], ['S AA', 'L AH D'], ['G OW L D']])\n",
        "#other_sentence = utils.flatten([['T UW'], ['M IY'], ['IH T'], ['F L OW Z'], ['AH'], ['S AH', 'L AH N'], ['S T R IY M'], ['AH V'], ['T EH R Z']])\n",
        "#third_sentence = utils.flatten([['DH AH'], ['N OW', 'B AH L'], ['S IY', 'M AH N'], ['HH UW'], ['W IH TH', 'HH EH L D'], ['DH AH'], ['HH AE N D']])"
      ],
      "execution_count": 0,
      "outputs": []
    },
    {
      "metadata": {
        "id": "FwAQNy1eMDkQ",
        "colab_type": "code",
        "colab": {}
      },
      "cell_type": "code",
      "source": [
        "# read classified poetry lines: text tab [['syll', 'la', 'ble'], ...]\n",
        "# clip to only most common syllables with syllable manager\n",
        "def get_data(filename, syll_mgr, num_symbols):\n",
        "    lines = open(filename, 'r').read().splitlines()\n",
        "    text_lines = []\n",
        "    enc_array = []\n",
        "    num_syllables = syll_mgr.get_size()\n",
        "    for i in range(0, len(lines)):\n",
        "      parts = lines[i].split(\"\\t\")\n",
        "      label = utils.flatten(literal_eval(parts[1]))\n",
        "      if len(label) != num_symbols:\n",
        "        continue\n",
        "      enc = np.zeros((num_symbols * syll_mgr.get_size()), dtype=np.int8)\n",
        "      for j in range(num_symbols):\n",
        "        enc[num_syllables * j + syll_mgr.get_encoding(label[j])] = 1\n",
        "      text_lines.append([parts[0]])\n",
        "      enc_array.append(enc)\n",
        "\n",
        "    return (np.array(text_lines), np.array(enc_array))\n"
      ],
      "execution_count": 0,
      "outputs": []
    },
    {
      "metadata": {
        "id": "3HAtd4X5DayF",
        "colab_type": "code",
        "colab": {}
      },
      "cell_type": "code",
      "source": [
        "# syllables in descending order of occurrence - 6k in gutenberg.iambic_pentameter, 15k total\n",
        "# clamp to most common 100 syllables while debugging- use NCE to get all syllables or interesting number\n",
        "# 98 + pause + wildcard\n",
        "num_syllables = 1500 \n",
        "# iambic pentameter\n",
        "num_symbols = 10\n",
        "syll_mgr = syllables.syllables(num_syllables)\n",
        "\n",
        "# slow\n",
        "num_epochs = 40\n",
        "adam_0001 = tf.train.AdamOptimizer(0.001)"
      ],
      "execution_count": 0,
      "outputs": []
    },
    {
      "metadata": {
        "id": "eN9aqig-QpDZ",
        "colab_type": "code",
        "colab": {}
      },
      "cell_type": "code",
      "source": [
        "(train_text, train_label) = get_data('prepped_data/gutenberg.iambic_pentameter.train', syll_mgr, num_symbols)\n",
        "num_training = len(train_text)\n",
        "#train_text = train_text[0:10000]\n",
        "#train_label = train_label[0:10000]\n",
        "\n",
        "(test_text, test_label) = get_data('prepped_data/gutenberg.iambic_pentameter.test', syll_mgr, num_symbols)\n",
        "num_testing = len(test_text)\n"
      ],
      "execution_count": 0,
      "outputs": []
    },
    {
      "metadata": {
        "id": "-mQUV_7dIm-9",
        "colab_type": "code",
        "outputId": "2f10823c-ad44-4d7e-a8f0-6b2f1b6eb95c",
        "colab": {
          "base_uri": "https://localhost:8080/",
          "height": 156
        }
      },
      "cell_type": "code",
      "source": [
        "\n",
        "for i in range(2):\n",
        "  print(train_text[i][0])\n",
        "  print(train_label[i])\n",
        "  syll_mgr.interpret2(train_label[i])"
      ],
      "execution_count": 10,
      "outputs": [
        {
          "output_type": "stream",
          "text": [
            "And stubborn brass, and tin, and solid gold;\n",
            "[0 0 0 ... 0 0 0]\n",
            "[7, 38, 343, 0, 7, 0, 7, 77, 78, 114]\n",
            "['AE N D', 'S T AH', 'B ER N', '?', 'AE N D', '?', 'AE N D', 'S AA', 'L AH D', 'G OW L D']\n",
            "To me, it flows a sullen stream of tears.\n",
            "[0 0 0 ... 0 0 0]\n",
            "[30, 59, 231, 0, 36, 175, 937, 0, 40, 977]\n",
            "['T UW', 'M IY', 'IH T', '?', 'AH', 'S AH', 'L AH N', '?', 'AH V', 'T EH R Z']\n"
          ],
          "name": "stdout"
        }
      ]
    },
    {
      "metadata": {
        "id": "ukpQVkEN1e_q",
        "colab_type": "code",
        "outputId": "77a72011-7342-4c0e-c968-4cb814e83f6f",
        "colab": {
          "base_uri": "https://localhost:8080/",
          "height": 34
        }
      },
      "cell_type": "code",
      "source": [
        "messages = []\n",
        "for i in range(200):\n",
        "  messages.append(train_text[i][0])\n",
        "with tf.Session() as session:\n",
        "  session.run([tf.global_variables_initializer(), tf.tables_initializer()])\n",
        "  message_embeddings = session.run(embed(messages))\n",
        "predicts = message_embeddings"
      ],
      "execution_count": 11,
      "outputs": [
        {
          "output_type": "stream",
          "text": [
            "INFO:tensorflow:Saver not created because there are no variables in the graph to restore\n"
          ],
          "name": "stdout"
        }
      ]
    },
    {
      "metadata": {
        "id": "7EiWYaaoryJV",
        "colab_type": "code",
        "outputId": "04a4f81d-76d6-43d7-e926-8f3e8587b08a",
        "colab": {
          "base_uri": "https://localhost:8080/",
          "height": 34
        }
      },
      "cell_type": "code",
      "source": [
        "predicts = message_embeddings\n",
        "print(len(predicts))\n",
        "first = predicts[0]\n",
        "for i in range(len(predicts) - 1):\n",
        "  v = predicts[i]\n",
        "  #print(scipy.spatial.distance.cosine(v, first))"
      ],
      "execution_count": 12,
      "outputs": [
        {
          "output_type": "stream",
          "text": [
            "200\n"
          ],
          "name": "stdout"
        }
      ]
    },
    {
      "metadata": {
        "id": "Sf9A4Xl6J7c6",
        "colab_type": "text"
      },
      "cell_type": "markdown",
      "source": [
        "## Wrap embed module in a Lambda layer\n",
        "Explicitly cast the input as a string"
      ]
    },
    {
      "metadata": {
        "id": "PRD3fWgJjOrP",
        "colab_type": "code",
        "colab": {}
      },
      "cell_type": "code",
      "source": [
        "def UniversalEmbedding(x):\n",
        "    return embed(tf.squeeze(tf.cast(x, tf.string)), signature=\"default\", as_dict=True)[\"default\"]\n"
      ],
      "execution_count": 0,
      "outputs": []
    },
    {
      "metadata": {
        "id": "qX2rBOuxDP1m",
        "colab_type": "text"
      },
      "cell_type": "markdown",
      "source": [
        "## Assemble model"
      ]
    },
    {
      "metadata": {
        "id": "t3fllZkVjXKV",
        "colab_type": "code",
        "outputId": "f23ebbe0-7d4f-492f-e06b-73c76ece3ebf",
        "colab": {
          "base_uri": "https://localhost:8080/",
          "height": 295
        }
      },
      "cell_type": "code",
      "source": [
        "# changed accuracy from 'choose your own accuracy'\n",
        "input_text = layers.Input(shape=(1,), dtype=tf.string)\n",
        "embedding = layers.Lambda(UniversalEmbedding, output_shape=(embed_size,))(input_text)\n",
        "dense = layers.Dense(1024, activation='relu')(embedding)\n",
        "pred = layers.Dense(num_syllables * num_symbols, activation='sigmoid')(dense)\n",
        "model = Model(inputs=[input_text], outputs=pred)\n",
        "model.compile(loss='binary_crossentropy', optimizer=adam_0001, metrics=['binary_accuracy'])\n",
        "model.summary()"
      ],
      "execution_count": 14,
      "outputs": [
        {
          "output_type": "stream",
          "text": [
            "INFO:tensorflow:Saver not created because there are no variables in the graph to restore\n",
            "_________________________________________________________________\n",
            "Layer (type)                 Output Shape              Param #   \n",
            "=================================================================\n",
            "input_1 (InputLayer)         (None, 1)                 0         \n",
            "_________________________________________________________________\n",
            "lambda_1 (Lambda)            (None, 512)               0         \n",
            "_________________________________________________________________\n",
            "dense_1 (Dense)              (None, 1024)              525312    \n",
            "_________________________________________________________________\n",
            "dense_2 (Dense)              (None, 15000)             15375000  \n",
            "=================================================================\n",
            "Total params: 15,900,312\n",
            "Trainable params: 15,900,312\n",
            "Non-trainable params: 0\n",
            "_________________________________________________________________\n"
          ],
          "name": "stdout"
        }
      ]
    },
    {
      "metadata": {
        "id": "9PfsPdG8FZBI",
        "colab_type": "code",
        "outputId": "6571044d-4c48-430a-9cd8-a123c3c9d249",
        "colab": {
          "base_uri": "https://localhost:8080/",
          "height": 34
        }
      },
      "cell_type": "code",
      "source": [
        "test_label.shape"
      ],
      "execution_count": 15,
      "outputs": [
        {
          "output_type": "execute_result",
          "data": {
            "text/plain": [
              "(4200, 15000)"
            ]
          },
          "metadata": {
            "tags": []
          },
          "execution_count": 15
        }
      ]
    },
    {
      "metadata": {
        "id": "gPYVmBr2Fbob",
        "colab_type": "code",
        "outputId": "61576f78-4529-47b0-ccec-379c54a45678",
        "colab": {
          "base_uri": "https://localhost:8080/",
          "height": 69
        }
      },
      "cell_type": "code",
      "source": [
        "print(test_text[200])\n",
        "syll_mgr.interpret2(test_label[200])"
      ],
      "execution_count": 16,
      "outputs": [
        {
          "output_type": "stream",
          "text": [
            "['In this: whatever other blunders lie']\n",
            "[67, 224, 213, 65, 47, 36, 280, 0, 487, 901]\n",
            "['IH N', 'DH IH S', 'W AH T', 'EH', 'V ER', 'AH', 'DH ER', '?', 'D ER Z', 'L AY']\n"
          ],
          "name": "stdout"
        }
      ]
    },
    {
      "metadata": {
        "id": "bqcRy_JWXe0u",
        "colab_type": "text"
      },
      "cell_type": "markdown",
      "source": [
        "## Train Keras model and save weights\n",
        "This only trains and save our Keras layers not the embed module' weights."
      ]
    },
    {
      "metadata": {
        "id": "_stfC_7VFhS8",
        "colab_type": "code",
        "outputId": "6748fbb0-e0b4-4d9c-a774-06fc3f8be890",
        "colab": {
          "base_uri": "https://localhost:8080/",
          "height": 1444
        }
      },
      "cell_type": "code",
      "source": [
        "use_saved_model=False\n",
        "retrain=False\n",
        "if not use_saved_model or not os.path.exists('./model.h5'):\n",
        "  with tf.Session() as session:\n",
        "    K.set_session(session)\n",
        "    session.run(tf.global_variables_initializer())\n",
        "    if retrain:\n",
        "      model.load_weights('./model.h5')  \n",
        "    else:\n",
        "      session.run(tf.tables_initializer())\n",
        "    history = model.fit(train_text, \n",
        "            train_label,\n",
        "            validation_data=(test_text, test_label),\n",
        "            epochs=num_epochs,\n",
        "            batch_size=32)\n",
        "    model.save_weights('./model.h5')\n"
      ],
      "execution_count": 17,
      "outputs": [
        {
          "output_type": "stream",
          "text": [
            "Train on 58498 samples, validate on 4200 samples\n",
            "Epoch 1/40\n",
            "58498/58498 [==============================] - 115s 2ms/step - loss: 0.0088 - binary_accuracy: 0.9990 - val_loss: 0.0038 - val_binary_accuracy: 0.9993\n",
            "Epoch 2/40\n",
            "58498/58498 [==============================] - 111s 2ms/step - loss: 0.0036 - binary_accuracy: 0.9994 - val_loss: 0.0035 - val_binary_accuracy: 0.9994\n",
            "Epoch 3/40\n",
            "58498/58498 [==============================] - 109s 2ms/step - loss: 0.0033 - binary_accuracy: 0.9994 - val_loss: 0.0032 - val_binary_accuracy: 0.9994\n",
            "Epoch 4/40\n",
            "58498/58498 [==============================] - 110s 2ms/step - loss: 0.0031 - binary_accuracy: 0.9994 - val_loss: 0.0031 - val_binary_accuracy: 0.9994\n",
            "Epoch 5/40\n",
            "58498/58498 [==============================] - 110s 2ms/step - loss: 0.0029 - binary_accuracy: 0.9994 - val_loss: 0.0030 - val_binary_accuracy: 0.9994\n",
            "Epoch 6/40\n",
            "58498/58498 [==============================] - 109s 2ms/step - loss: 0.0027 - binary_accuracy: 0.9994 - val_loss: 0.0029 - val_binary_accuracy: 0.9994\n",
            "Epoch 7/40\n",
            "58498/58498 [==============================] - 110s 2ms/step - loss: 0.0025 - binary_accuracy: 0.9994 - val_loss: 0.0029 - val_binary_accuracy: 0.9994\n",
            "Epoch 8/40\n",
            "58498/58498 [==============================] - 109s 2ms/step - loss: 0.0024 - binary_accuracy: 0.9994 - val_loss: 0.0029 - val_binary_accuracy: 0.9994\n",
            "Epoch 9/40\n",
            "58498/58498 [==============================] - 107s 2ms/step - loss: 0.0023 - binary_accuracy: 0.9994 - val_loss: 0.0029 - val_binary_accuracy: 0.9994\n",
            "Epoch 10/40\n",
            "58498/58498 [==============================] - 107s 2ms/step - loss: 0.0022 - binary_accuracy: 0.9994 - val_loss: 0.0029 - val_binary_accuracy: 0.9994\n",
            "Epoch 11/40\n",
            "58498/58498 [==============================] - 106s 2ms/step - loss: 0.0021 - binary_accuracy: 0.9994 - val_loss: 0.0029 - val_binary_accuracy: 0.9994\n",
            "Epoch 12/40\n",
            "58498/58498 [==============================] - 105s 2ms/step - loss: 0.0020 - binary_accuracy: 0.9994 - val_loss: 0.0029 - val_binary_accuracy: 0.9994\n",
            "Epoch 13/40\n",
            "58498/58498 [==============================] - 105s 2ms/step - loss: 0.0019 - binary_accuracy: 0.9995 - val_loss: 0.0029 - val_binary_accuracy: 0.9994\n",
            "Epoch 14/40\n",
            "58498/58498 [==============================] - 105s 2ms/step - loss: 0.0018 - binary_accuracy: 0.9995 - val_loss: 0.0030 - val_binary_accuracy: 0.9994\n",
            "Epoch 15/40\n",
            "58498/58498 [==============================] - 104s 2ms/step - loss: 0.0017 - binary_accuracy: 0.9995 - val_loss: 0.0030 - val_binary_accuracy: 0.9994\n",
            "Epoch 16/40\n",
            "58498/58498 [==============================] - 104s 2ms/step - loss: 0.0016 - binary_accuracy: 0.9995 - val_loss: 0.0030 - val_binary_accuracy: 0.9994\n",
            "Epoch 17/40\n",
            "58498/58498 [==============================] - 104s 2ms/step - loss: 0.0016 - binary_accuracy: 0.9995 - val_loss: 0.0031 - val_binary_accuracy: 0.9994\n",
            "Epoch 18/40\n",
            "58498/58498 [==============================] - 104s 2ms/step - loss: 0.0015 - binary_accuracy: 0.9995 - val_loss: 0.0031 - val_binary_accuracy: 0.9994\n",
            "Epoch 19/40\n",
            "58498/58498 [==============================] - 105s 2ms/step - loss: 0.0015 - binary_accuracy: 0.9995 - val_loss: 0.0032 - val_binary_accuracy: 0.9994\n",
            "Epoch 20/40\n",
            "58498/58498 [==============================] - 105s 2ms/step - loss: 0.0014 - binary_accuracy: 0.9996 - val_loss: 0.0032 - val_binary_accuracy: 0.9994\n",
            "Epoch 21/40\n",
            "58498/58498 [==============================] - 104s 2ms/step - loss: 0.0014 - binary_accuracy: 0.9996 - val_loss: 0.0033 - val_binary_accuracy: 0.9994\n",
            "Epoch 22/40\n",
            "58498/58498 [==============================] - 104s 2ms/step - loss: 0.0013 - binary_accuracy: 0.9996 - val_loss: 0.0033 - val_binary_accuracy: 0.9993\n",
            "Epoch 23/40\n",
            "58498/58498 [==============================] - 102s 2ms/step - loss: 0.0013 - binary_accuracy: 0.9996 - val_loss: 0.0033 - val_binary_accuracy: 0.9993\n",
            "Epoch 24/40\n",
            "58498/58498 [==============================] - 102s 2ms/step - loss: 0.0013 - binary_accuracy: 0.9996 - val_loss: 0.0034 - val_binary_accuracy: 0.9993\n",
            "Epoch 25/40\n",
            "58498/58498 [==============================] - 102s 2ms/step - loss: 0.0012 - binary_accuracy: 0.9996 - val_loss: 0.0034 - val_binary_accuracy: 0.9993\n",
            "Epoch 26/40\n",
            "58498/58498 [==============================] - 106s 2ms/step - loss: 0.0012 - binary_accuracy: 0.9996 - val_loss: 0.0035 - val_binary_accuracy: 0.9993\n",
            "Epoch 27/40\n",
            "58498/58498 [==============================] - 104s 2ms/step - loss: 0.0012 - binary_accuracy: 0.9996 - val_loss: 0.0035 - val_binary_accuracy: 0.9993\n",
            "Epoch 28/40\n",
            "58498/58498 [==============================] - 103s 2ms/step - loss: 0.0011 - binary_accuracy: 0.9996 - val_loss: 0.0035 - val_binary_accuracy: 0.9993\n",
            "Epoch 29/40\n",
            "58498/58498 [==============================] - 102s 2ms/step - loss: 0.0011 - binary_accuracy: 0.9996 - val_loss: 0.0036 - val_binary_accuracy: 0.9993\n",
            "Epoch 30/40\n",
            "58498/58498 [==============================] - 101s 2ms/step - loss: 0.0011 - binary_accuracy: 0.9996 - val_loss: 0.0036 - val_binary_accuracy: 0.9993\n",
            "Epoch 31/40\n",
            "58498/58498 [==============================] - 100s 2ms/step - loss: 0.0011 - binary_accuracy: 0.9996 - val_loss: 0.0036 - val_binary_accuracy: 0.9993\n",
            "Epoch 32/40\n",
            "58498/58498 [==============================] - 102s 2ms/step - loss: 0.0011 - binary_accuracy: 0.9996 - val_loss: 0.0037 - val_binary_accuracy: 0.9993\n",
            "Epoch 33/40\n",
            "58498/58498 [==============================] - 100s 2ms/step - loss: 0.0011 - binary_accuracy: 0.9996 - val_loss: 0.0037 - val_binary_accuracy: 0.9993\n",
            "Epoch 34/40\n",
            "58498/58498 [==============================] - 98s 2ms/step - loss: 0.0010 - binary_accuracy: 0.9997 - val_loss: 0.0037 - val_binary_accuracy: 0.9993\n",
            "Epoch 35/40\n",
            "58498/58498 [==============================] - 97s 2ms/step - loss: 0.0010 - binary_accuracy: 0.9997 - val_loss: 0.0038 - val_binary_accuracy: 0.9993\n",
            "Epoch 36/40\n",
            "58498/58498 [==============================] - 97s 2ms/step - loss: 0.0010 - binary_accuracy: 0.9997 - val_loss: 0.0038 - val_binary_accuracy: 0.9993\n",
            "Epoch 37/40\n",
            "58498/58498 [==============================] - 96s 2ms/step - loss: 9.9396e-04 - binary_accuracy: 0.9997 - val_loss: 0.0038 - val_binary_accuracy: 0.9993\n",
            "Epoch 38/40\n",
            "58498/58498 [==============================] - 104s 2ms/step - loss: 9.8102e-04 - binary_accuracy: 0.9997 - val_loss: 0.0039 - val_binary_accuracy: 0.9993\n",
            "Epoch 39/40\n",
            "58498/58498 [==============================] - 103s 2ms/step - loss: 9.6921e-04 - binary_accuracy: 0.9997 - val_loss: 0.0039 - val_binary_accuracy: 0.9993\n",
            "Epoch 40/40\n",
            "58498/58498 [==============================] - 103s 2ms/step - loss: 9.5797e-04 - binary_accuracy: 0.9997 - val_loss: 0.0039 - val_binary_accuracy: 0.9993\n"
          ],
          "name": "stdout"
        }
      ]
    },
    {
      "metadata": {
        "id": "UW1CiBhnXnxa",
        "colab_type": "code",
        "colab": {
          "base_uri": "https://localhost:8080/",
          "height": 34
        },
        "outputId": "962f8132-1881-4ba0-a6b8-1e1d05bb5e59"
      },
      "cell_type": "code",
      "source": [
        "!ls -alh | grep model.h5"
      ],
      "execution_count": 18,
      "outputs": [
        {
          "output_type": "stream",
          "text": [
            "-rw-r--r-- 1 root root  61M Oct 25 07:05 model.h5\n"
          ],
          "name": "stdout"
        }
      ]
    },
    {
      "metadata": {
        "id": "nQux6qLdXabG",
        "colab_type": "text"
      },
      "cell_type": "markdown",
      "source": [
        "## Make predictions"
      ]
    },
    {
      "metadata": {
        "id": "fSDxetlfUEiD",
        "colab_type": "code",
        "colab": {}
      },
      "cell_type": "code",
      "source": [
        "\n",
        "#new_text = np.array(new_text, dtype=object)[:, np.newaxis]\n",
        "with tf.Session() as session:\n",
        "  K.set_session(session)\n",
        "  session.run(tf.global_variables_initializer())\n",
        "  session.run(tf.tables_initializer())\n",
        "  model.load_weights('./model.h5')  \n",
        "  predicts = model.predict(test_text, batch_size=32)"
      ],
      "execution_count": 0,
      "outputs": []
    },
    {
      "metadata": {
        "id": "U9V5JOWGq4Cd",
        "colab_type": "code",
        "outputId": "57bf74cd-fbbc-4ac7-c013-27dea85118f4",
        "colab": {
          "base_uri": "https://localhost:8080/",
          "height": 86
        }
      },
      "cell_type": "code",
      "source": [
        "first = predicts[0]\n",
        "max_d = -1000000\n",
        "min_d = 1000000\n",
        "max_i = 0\n",
        "min_i = 0\n",
        "for i in range(len(predicts) - 1):\n",
        "  v = predicts[i]\n",
        "  d = scipy.spatial.distance.cosine(v, first)\n",
        "  if max_d < d:\n",
        "    max_d = d\n",
        "    max_i = i\n",
        "  if min_d > d:\n",
        "    min_d = d\n",
        "    min_i = i\n",
        "print(\"Min and max distances: {0} and {1}\".format(min_d, max_d))\n",
        "print(test_text[max_i])\n",
        "syll_mgr.interpret2(predicts[max_i])"
      ],
      "execution_count": 20,
      "outputs": [
        {
          "output_type": "stream",
          "text": [
            "Min and max distances: 1.4913212920131258e-07 and 0.9777119112860508\n",
            "['And I myself sometimes despise myself;']\n",
            "[7, 400, 166, 59, 30, 232, 166, 232, 23, 59]\n",
            "['AE N D', 'AY', 'M AY', 'M IY', 'T UW', 'S EH L F', 'M AY', 'S EH L F', 'T AH D', 'M IY']\n"
          ],
          "name": "stdout"
        }
      ]
    },
    {
      "metadata": {
        "id": "xaR0d5VPU23Z",
        "colab_type": "code",
        "outputId": "6b9eee7f-dc04-43b6-a753-6a31ba7ed693",
        "colab": {
          "base_uri": "https://localhost:8080/",
          "height": 7832
        }
      },
      "cell_type": "code",
      "source": [
        "for i in range(10,100):\n",
        "  print(test_text[i])\n",
        "  print(predicts[i])\n",
        "  syll_mgr.interpret2(predicts[i])"
      ],
      "execution_count": 21,
      "outputs": [
        {
          "output_type": "stream",
          "text": [
            "['Of humble seeming: and, behind them all,']\n",
            "[2.4422268e-06 8.7528755e-11 5.7407025e-05 ... 6.8707769e-14 2.0976985e-15\n",
            " 1.9471729e-14]\n",
            "[40, 133, 490, 0, 7, 0, 153, 0, 153, 232]\n",
            "['AH V', 'AO L', 'B AH L', '?', 'AE N D', '?', 'DH EH M', '?', 'DH EH M', 'S EH L F']\n",
            "['Behind his head upon the shoulders lay,']\n",
            "[1.2396988e-04 3.6442779e-10 3.2505766e-03 ... 9.3542960e-12 9.0013996e-11\n",
            " 3.8869730e-17]\n",
            "[36, 212, 10, 445, 31, 577, 23, 483, 10, 483]\n",
            "['AH', 'HH AE N D', 'HH IH Z', 'HH EH D', 'DH AH', 'N IH R', 'T AH D', 'L EY', 'HH IH Z', 'L EY']\n",
            "['Discover countries, with a kindred heart']\n",
            "[2.8849248e-05 3.1957718e-12 4.8156802e-05 ... 2.9524280e-12 1.2790000e-15\n",
            " 2.5503381e-15]\n",
            "[76, 0, 31, 0, 0, 116, 117, 671, 36, 417]\n",
            "['W IH DH', '?', 'DH AH', '?', '?', 'N EY', 'SH AH N Z', 'HH AA R T', 'AH', 'W ER L D']\n",
            "['Was open in his praise, and plaudits rose']\n",
            "[9.0654630e-06 1.8941564e-10 5.4859862e-05 ... 1.8990082e-13 5.2471371e-11\n",
            " 4.3360500e-13]\n",
            "[156, 0, 7, 1246, 7, 0, 7, 0, 10, 422]\n",
            "['W AA Z', '?', 'AE N D', 'B Y UW', 'AE N D', '?', 'AE N D', '?', 'HH IH Z', 'R OW Z']\n",
            "['A spear the hero bore of wondrous strength,']\n",
            "[7.2381174e-04 9.1294078e-10 9.3998132e-08 ... 9.7747303e-11 6.8861375e-11\n",
            " 1.4791771e-10]\n",
            "[31, 166, 376, 0, 376, 91, 376, 0, 376, 91]\n",
            "['DH AH', 'M AY', 'R OW', '?', 'R OW', 'S P IH R', 'R OW', '?', 'R OW', 'S P IH R']\n",
            "['Were things indifferent to the Shepherds thoughts.']\n",
            "[2.0170282e-04 7.5820895e-12 1.3554087e-05 ... 3.3387515e-15 3.3374674e-14\n",
            " 3.3075413e-15]\n",
            "[161, 600, 40, 256, 766, 115, 31, 0, 0, 24]\n",
            "['W ER', 'TH IH NG Z', 'AH V', 'D IH', 'F R AH N T', 'M AH NG', 'DH AH', '?', '?', 'TH AO T S']\n",
            "['That to the young supplies a guiding light,']\n",
            "[1.06296075e-05 1.54519897e-10 5.31937985e-05 ... 3.25164507e-07\n",
            " 1.20109353e-13 1.81574905e-12]\n",
            "[30, 72, 31, 0, 31, 0, 31, 671, 31, 512]\n",
            "['T UW', 'TH R UW', 'DH AH', '?', 'DH AH', '?', 'DH AH', 'HH AA R T', 'DH AH', 'L AY T']\n",
            "['Of Greeks a mighty army, all in vain;']\n",
            "[8.7815635e-05 3.9144551e-10 4.9041032e-06 ... 1.6831707e-15 1.1617552e-13\n",
            " 2.0475772e-12]\n",
            "[40, 133, 31, 0, 40, 133, 40, 0, 136, 0]\n",
            "['AH V', 'AO L', 'DH AH', '?', 'AH V', 'AO L', 'AH V', '?', 'L IY', '?']\n",
            "['Into the mighty vision passing--there,']\n",
            "[1.5781773e-04 6.0775340e-09 2.5121401e-05 ... 4.4658331e-12 1.6336646e-11\n",
            " 1.4144697e-10]\n",
            "[36, 30, 31, 166, 403, 506, 316, 812, 342, 0]\n",
            "['AH', 'T UW', 'DH AH', 'M AY', 'T IY', 'V IH', 'ZH AH N', 'P AE', 'S IH NG', '?']\n",
            "['Them in his anger, whom his anger saves']\n",
            "[6.3450494e-07 5.2254041e-11 2.0465117e-05 ... 8.5844011e-14 5.6724361e-11\n",
            " 4.9738859e-13]\n",
            "[153, 0, 10, 245, 246, 258, 10, 245, 246, 259]\n",
            "['DH EH M', '?', 'HH IH Z', 'AE NG', 'G ER', 'HH UW M', 'HH IH Z', 'AE NG', 'G ER', 'S EY V Z']\n",
            "['And in the soul within the sense began']\n",
            "[3.2498842e-04 8.1639667e-10 1.4442684e-01 ... 2.8384962e-14 6.3150499e-11\n",
            " 5.0390985e-12]\n",
            "[7, 67, 31, 1250, 31, 2, 31, 718, 156, 718]\n",
            "['AE N D', 'IH N', 'DH AH', 'JH OY N D', 'DH AH', 'F R AH M', 'DH AH', 'S OW L', 'W AA Z', 'S OW L']\n",
            "['For Daphnis reigns above, and deals from thence']\n",
            "[3.8562930e-06 1.9541651e-09 1.8773723e-01 ... 1.2759714e-11 6.2373181e-13\n",
            " 1.3129617e-15]\n",
            "[62, 41, 237, 0, 7, 0, 0, 587, 30, 602]\n",
            "['F AO R', 'R IY', 'P ER', '?', 'AE N D', '?', '?', 'N AA T', 'T UW', 'S AY N']\n",
            "['For one that looked with such a captains mien:']\n",
            "[4.4292301e-07 1.4772879e-10 1.2871588e-08 ... 1.2588601e-09 8.4046827e-13\n",
            " 1.6678188e-11]\n",
            "[62, 708, 52, 0, 40, 0, 40, 0, 237, 1325]\n",
            "['F AO R', 'S AH M', 'DH AE T', '?', 'AH V', '?', 'AH V', '?', 'P ER', 'M EY D']\n",
            "['Of thought between her fingers and her brain,']\n",
            "[4.2151799e-03 9.0953023e-11 1.6050143e-04 ... 3.8522935e-12 2.3405052e-11\n",
            " 2.7701908e-13]\n",
            "[30, 879, 280, 674, 170, 161, 170, 0, 170, 818]\n",
            "['T UW', 'TH AO T', 'DH ER', 'T W IY N', 'HH ER', 'W ER', 'HH ER', '?', 'HH ER', 'B R EY N']\n",
            "['And still the red sedan of rank appeals,']\n",
            "[1.7695878e-09 1.3307788e-12 1.4249069e-12 ... 5.4096885e-13 4.6158396e-14\n",
            " 1.0814739e-12]\n",
            "[7, 446, 52, 0, 31, 775, 31, 0, 36, 0]\n",
            "['AE N D', 'N AW', 'DH AE T', '?', 'DH AH', 'M EH N', 'DH AH', '?', 'AH', '?']\n",
            "['With this eternal silence;--more a god,']\n",
            "[5.1734055e-06 4.6230300e-10 5.2041719e-07 ... 2.5837508e-14 3.3858940e-11\n",
            " 2.8432174e-09]\n",
            "[76, 6, 16, 439, 16, 17, 18, 231, 36, 439]\n",
            "['W IH DH', 'T ER', 'IH', 'G AA D', 'IH', 'M AO R', 'T AH L', 'IH T', 'AH', 'G AA D']\n",
            "['Forgot, nutritious, grateful to the taste,']\n",
            "[9.2409382e-06 2.7187955e-11 1.0161636e-09 ... 4.8652407e-13 1.8888023e-14\n",
            " 2.6960068e-15]\n",
            "[262, 0, 6, 727, 31, 40, 31, 0, 6, 0]\n",
            "['F ER', '?', 'T ER', 'G UH D', 'DH AH', 'AH V', 'DH AH', '?', 'T ER', '?']\n",
            "['Of full perfection prompt his daring dream,']\n",
            "[2.3431878e-06 1.2516697e-10 2.2280529e-08 ... 4.9111230e-16 9.5254067e-13\n",
            " 3.9874457e-10]\n",
            "[76, 1000, 28, 5, 34, 0, 10, 0, 179, 0]\n",
            "['W IH DH', 'D EH', 'K W AH L', 'EY', 'SH AH N', '?', 'HH IH Z', '?', 'T IH NG', '?']\n",
            "['And all the spaces of the midnight town']\n",
            "[8.7646150e-08 1.6031344e-10 6.5845343e-15 ... 2.2898130e-19 4.7943299e-12\n",
            " 6.6939405e-12]\n",
            "[7, 133, 31, 0, 31, 40, 31, 40, 31, 0]\n",
            "['AE N D', 'AO L', 'DH AH', '?', 'DH AH', 'AH V', 'DH AH', 'AH V', 'DH AH', '?']\n",
            "['The sandbar sings in moonlit veils of foam.']\n",
            "[1.3028875e-04 7.4897297e-11 7.2959381e-08 ... 4.7189425e-14 4.2184463e-14\n",
            " 4.0597435e-14]\n",
            "[31, 0, 0, 0, 261, 0, 31, 0, 67, 0]\n",
            "['DH AH', '?', '?', '?', 'T ER Z', '?', 'DH AH', '?', 'IH N', '?']\n",
            "['And darkness settled on the outer world.']\n",
            "[1.3926729e-06 1.8933689e-10 1.8140675e-07 ... 1.2614785e-15 2.0674519e-14\n",
            " 4.3508816e-12]\n",
            "[7, 307, 30, 307, 256, 307, 308, 67, 31, 0]\n",
            "['AE N D', 'D AA R K', 'T UW', 'D AA R K', 'D IH', 'D AA R K', 'N AH S', 'IH N', 'DH AH', '?']\n",
            "['Or castle, high embattled on the point']\n",
            "[4.0357836e-08 4.0549668e-11 1.3819644e-10 ... 4.8888808e-08 4.7803113e-13\n",
            " 5.5312488e-10]\n",
            "[50, 0, 2, 0, 0, 0, 0, 0, 215, 0]\n",
            "['AO R', '?', 'F R AH M', '?', '?', '?', '?', '?', 'S AH L', '?']\n",
            "['The each with All in one, sublime design?']\n",
            "[3.0493134e-06 1.9352610e-11 9.3695571e-06 ... 1.8826826e-12 8.6761622e-12\n",
            " 9.3905664e-12]\n",
            "[31, 511, 7, 7, 76, 596, 76, 620, 36, 596]\n",
            "['DH AH', 'M AE N', 'AE N D', 'AE N D', 'W IH DH', 'IY CH', 'W IH DH', 'W AH N', 'AH', 'IY CH']\n",
            "['The curving prow, the tall and stately mast,']\n",
            "[7.9815589e-05 1.1124133e-10 4.6025306e-10 ... 1.8579279e-06 1.0468289e-14\n",
            " 3.5208696e-13]\n",
            "[31, 0, 745, 0, 31, 0, 0, 0, 31, 0]\n",
            "['DH AH', '?', 'N AH T', '?', 'DH AH', '?', '?', '?', 'DH AH', '?']\n",
            "['And bids anew the martial thunder rise.']\n",
            "[7.7058240e-07 2.1029738e-12 9.7927666e-09 ... 6.7907775e-15 1.8522564e-13\n",
            " 1.4091500e-12]\n",
            "[7, 0, 0, 2, 31, 0, 31, 0, 18, 471]\n",
            "['AE N D', '?', '?', 'F R AH M', 'DH AH', '?', 'DH AH', '?', 'T AH L', 'R AY Z']\n",
            "['And hearing harlot muttered twice or thrice,']\n",
            "[5.2060432e-07 2.3282976e-10 8.9942114e-07 ... 3.1351616e-12 5.8699393e-11\n",
            " 9.2854318e-12]\n",
            "[7, 0, 0, 0, 416, 247, 426, 0, 36, 0]\n",
            "['AE N D', '?', '?', '?', 'D AH N T', 'W EH N', 'M AH N', '?', 'AH', '?']\n",
            "['That evening passed with music, chat, and song,']\n",
            "[1.0292028e-06 3.4636769e-11 9.1863910e-07 ... 2.8066562e-15 1.6681417e-13\n",
            " 4.1844939e-10]\n",
            "[52, 539, 328, 523, 7, 983, 31, 0, 7, 638]\n",
            "['DH AE T', 'IY V', 'N IH NG', 'P AE S T', 'AE N D', 'M Y UW', 'DH AH', '?', 'AE N D', 'S AO NG']\n",
            "['With childlike pleasure at the blooming sun;']\n",
            "[3.9250601e-08 7.8838036e-10 6.6120253e-04 ... 5.6281858e-11 2.3787700e-10\n",
            " 5.5353933e-15]\n",
            "[76, 0, 36, 0, 0, 753, 31, 539, 328, 180]\n",
            "['W IH DH', '?', 'AH', '?', '?', 'AE T', 'DH AH', 'IY V', 'N IH NG', 'S AH N']\n",
            "['And send her back with gentle words to earth']\n",
            "[3.7501556e-07 3.7310124e-10 3.6038507e-12 ... 1.9395076e-14 5.2762582e-12\n",
            " 1.1055288e-13]\n",
            "[7, 608, 170, 1019, 170, 509, 7, 0, 170, 204]\n",
            "['AE N D', 'S EH N D', 'HH ER', 'F R IY', 'HH ER', 'ER TH', 'AE N D', '?', 'HH ER', 'G R EY T']\n",
            "['With glowing eyes and pale, unsmiling face,']\n",
            "[1.7933551e-06 7.5184742e-10 7.7259308e-04 ... 3.4077209e-15 2.4762269e-12\n",
            " 3.9491971e-15]\n",
            "[76, 710, 36, 0, 7, 307, 7, 0, 78, 177]\n",
            "['W IH DH', 'AY Z', 'AH', '?', 'AE N D', 'D AA R K', 'AE N D', '?', 'L AH D', 'D EY']\n",
            "['Its beauties first? That she will show to me']\n",
            "[3.2358408e-02 1.5802795e-11 4.1694835e-05 ... 3.0013339e-10 6.9517069e-16\n",
            " 4.6954024e-10]\n",
            "[657, 0, 403, 1246, 403, 59, 30, 166, 403, 59]\n",
            "['JH AH S T', '?', 'T IY', 'B Y UW', 'T IY', 'M IY', 'T UW', 'M AY', 'T IY', 'M IY']\n",
            "['A man is likewise counsel for himself,']\n",
            "[1.8789591e-02 5.1596821e-11 6.6053847e-09 ... 3.0996454e-09 1.4080733e-11\n",
            " 1.0142498e-14]\n",
            "[67, 511, 36, 775, 86, 19, 86, 30, 36, 511]\n",
            "['IH N', 'M AE N', 'AH', 'M EH N', 'IH Z', 'B AH T', 'IH Z', 'T UW', 'AH', 'M AE N']\n",
            "['And awful, mighty eyes that cowed and held']\n",
            "[5.2611952e-08 1.2288195e-09 1.4992222e-13 ... 3.1302398e-11 2.4965481e-12\n",
            " 2.1805366e-16]\n",
            "[7, 929, 76, 0, 254, 710, 40, 0, 40, 710]\n",
            "['AE N D', 'HH AO', 'W IH DH', '?', 'F AH L', 'AY Z', 'AH V', '?', 'AH V', 'AY Z']\n",
            "['Of thoughts revolved, his final sentence chose']\n",
            "[3.8786666e-07 5.4840368e-11 7.3136155e-09 ... 3.6603412e-18 4.8420549e-15\n",
            " 1.6745787e-12]\n",
            "[31, 0, 280, 690, 276, 1153, 14, 0, 195, 640]\n",
            "['DH AH', '?', 'DH ER', 'S EH N', 'Z IH NG', 'F AA R', 'D IH D', '?', 'R IH', 'S EY']\n",
            "['His head, his shoulders, and his knees embraced;']\n",
            "[4.4078668e-05 1.5463083e-09 2.6532283e-05 ... 1.5468006e-13 3.6545658e-10\n",
            " 2.4503696e-14]\n",
            "[10, 0, 10, 0, 10, 0, 10, 0, 10, 0]\n",
            "['HH IH Z', '?', 'HH IH Z', '?', 'HH IH Z', '?', 'HH IH Z', '?', 'HH IH Z', '?']\n",
            "['And came into the vale in little space,']\n",
            "[1.9585384e-09 2.2102230e-10 5.6438886e-08 ... 1.1377050e-15 5.0674860e-11\n",
            " 2.3677349e-13]\n",
            "[7, 0, 36, 812, 31, 67, 31, 30, 31, 0]\n",
            "['AE N D', '?', 'AH', 'P AE', 'DH AH', 'IH N', 'DH AH', 'T UW', 'DH AH', '?']\n",
            "['In forest wild, in thicket, brake, or den;']\n",
            "[2.0571093e-03 1.6143640e-11 2.0749616e-03 ... 8.1825639e-14 2.0434599e-17\n",
            " 7.9564706e-16]\n",
            "[67, 524, 0, 0, 50, 566, 762, 0, 266, 0]\n",
            "['IH N', 'HH IH L', '?', '?', 'AO R', 'TH IH', 'K IH T', '?', 'R AH', '?']\n",
            "['In spite of changes. Look for me until']\n",
            "[1.2769380e-07 4.0368164e-11 6.6622692e-07 ... 1.6845554e-11 1.4884285e-14\n",
            " 8.1881489e-15]\n",
            "[67, 0, 62, 0, 62, 1117, 62, 59, 435, 740]\n",
            "['IH N', '?', 'F AO R', '?', 'F AO R', 'L UH K', 'F AO R', 'M IY', 'AH N', 'T IH L']\n",
            "['The parchment of the future, it were vain--']\n",
            "[1.18055454e-04 5.98707195e-11 6.75398448e-09 ... 1.07683090e-11\n",
            " 2.35675607e-12 9.00286703e-17]\n",
            "[31, 231, 156, 40, 34, 0, 0, 0, 0, 526]\n",
            "['DH AH', 'IH T', 'W AA Z', 'AH V', 'SH AH N', '?', '?', '?', '?', 'G R UW']\n",
            "['The spirits of the Seasons seem to stand.']\n",
            "[2.3498769e-04 2.4419808e-10 1.8451972e-02 ... 1.9282427e-14 3.0312929e-12\n",
            " 5.8542518e-11]\n",
            "[31, 1190, 40, 40, 31, 197, 1348, 40, 31, 0]\n",
            "['DH AH', 'M AE', 'AH V', 'AH V', 'DH AH', 'S IY', 'Z AH N Z', 'AH V', 'DH AH', '?']\n",
            "['For lo! his passion, but an art of craft,']\n",
            "[4.1039370e-06 1.5300600e-10 6.2360464e-06 ... 1.1797262e-09 1.2304183e-10\n",
            " 1.4712703e-10]\n",
            "[62, 0, 89, 812, 34, 7, 117, 7, 86, 0]\n",
            "['F AO R', '?', 'B IH', 'P AE', 'SH AH N', 'AE N D', 'SH AH N Z', 'AE N D', 'IH Z', '?']\n",
            "['Is due, and not to war, intrepid still']\n",
            "[4.1230207e-05 5.5576627e-11 2.3189437e-04 ... 1.1421742e-13 1.6809308e-12\n",
            " 1.8958735e-10]\n",
            "[86, 587, 67, 0, 136, 0, 62, 65, 231, 0]\n",
            "['IH Z', 'N AA T', 'IH N', '?', 'L IY', '?', 'F AO R', 'EH', 'IH T', '?']\n",
            "['Or sleeping, walk a restless world of dreams.']\n",
            "[1.1194378e-09 3.9949190e-11 1.8860991e-10 ... 2.1757494e-17 3.8926321e-14\n",
            " 1.3691458e-13]\n",
            "[50, 0, 36, 0, 75, 0, 31, 613, 136, 561]\n",
            "['AO R', '?', 'AH', '?', 'L AH S', '?', 'DH AH', 'R EH S T', 'L IY', 'S L IY P']\n",
            "['Of teaching school, a school of Czechs and Poles']\n",
            "[1.5537391e-07 1.0971028e-10 6.5917533e-04 ... 1.3595387e-06 8.5748645e-13\n",
            " 1.3523517e-12]\n",
            "[40, 81, 67, 203, 0, 0, 0, 0, 426, 0]\n",
            "['AH V', 'L IH', 'IH N', 'R EH D', '?', '?', '?', '?', 'M AH N', '?']\n",
            "['And drops of blood bedew the conscious lawn;']\n",
            "[5.7246771e-06 5.6422361e-10 1.0438592e-08 ... 1.7476571e-17 6.8488522e-09\n",
            " 1.3509905e-12]\n",
            "[7, 0, 7, 0, 31, 0, 31, 0, 31, 0]\n",
            "['AE N D', '?', 'AE N D', '?', 'DH AH', '?', 'DH AH', '?', 'DH AH', '?']\n",
            "['From daylight till the evening, wet or fine,']\n",
            "[1.5078303e-05 2.3836101e-11 2.7490521e-06 ... 5.4004820e-13 9.7995944e-15\n",
            " 3.0693758e-17]\n",
            "[31, 0, 50, 331, 136, 0, 31, 0, 50, 177]\n",
            "['DH AH', '?', 'AO R', 'N AY T', 'L IY', '?', 'DH AH', '?', 'AO R', 'D EY']\n",
            "['A doom that ever poised itself to fall,']\n",
            "[1.6787444e-05 2.3028317e-10 8.0791367e-11 ... 6.3566468e-18 3.3115899e-10\n",
            " 4.5455264e-14]\n",
            "[36, 0, 1422, 0, 7, 52, 231, 445, 7, 20]\n",
            "['AH', '?', 'T ER D', '?', 'AE N D', 'DH AE T', 'IH T', 'HH EH D', 'AE N D', 'D UW M']\n",
            "['Of wailing women pierce the vaulted skies.']\n",
            "[9.5313462e-06 9.6641917e-10 3.6115507e-05 ... 3.2226491e-12 5.9798006e-15\n",
            " 2.6970496e-12]\n",
            "[40, 0, 276, 168, 31, 0, 31, 0, 0, 0]\n",
            "['AH V', '?', 'Z IH NG', 'W IH', 'DH AH', '?', 'DH AH', '?', '?', '?']\n",
            "['To happy havens under all the sky,']\n",
            "[2.8422399e-05 3.1651421e-09 1.2760371e-04 ... 3.0562744e-12 2.1862017e-11\n",
            " 9.4866545e-14]\n",
            "[30, 0, 36, 497, 1002, 497, 1002, 497, 1002, 1257]\n",
            "['T UW', '?', 'AH', 'HH AE', 'P IY', 'HH AE', 'P IY', 'HH AE', 'P IY', 'S K AY']\n",
            "['In purple clusters hangs the vines increase,']\n",
            "[2.1773397e-07 1.5268699e-11 9.2285685e-05 ... 1.7617465e-14 7.3412440e-13\n",
            " 2.5633079e-13]\n",
            "[31, 0, 36, 0, 865, 137, 31, 0, 0, 0]\n",
            "['DH AH', '?', 'AH', '?', 'CH AH Z', 'D AW N', 'DH AH', '?', '?', '?']\n",
            "['A shepherd meeting thee, the oar surveys,']\n",
            "[5.5589455e-05 9.6341518e-11 2.5668356e-09 ... 1.1673422e-12 3.4354472e-13\n",
            " 2.7075854e-08]\n",
            "[31, 0, 758, 0, 31, 31, 0, 0, 404, 0]\n",
            "['DH AH', '?', 'L ER', '?', 'DH AH', 'DH AH', '?', '?', 'D IH NG', '?']\n",
            "['The printed passion of the dream remains:--']\n",
            "[4.8519767e-05 3.4959466e-11 3.8395136e-09 ... 2.9273435e-14 1.7702989e-14\n",
            " 1.3394848e-13]\n",
            "[31, 553, 57, 40, 31, 184, 31, 0, 36, 0]\n",
            "['DH AH', 'B AY', 'IH K', 'AH V', 'DH AH', 'AW T', 'DH AH', '?', 'AH', '?']\n",
            "['And piecemeal shares and maims the felon round.']\n",
            "[9.46766221e-09 2.88895817e-11 7.54900213e-08 ... 3.65457539e-20\n",
            " 1.07147596e-10 6.50483209e-11]\n",
            "[7, 0, 0, 0, 0, 0, 12, 1036, 0, 0]\n",
            "['AE N D', '?', '?', '?', '?', '?', 'K AH N', 'L AO', '?', '?']\n",
            "['A happy nation, and a happy king.']\n",
            "[7.0143119e-06 2.4279445e-11 2.5967706e-09 ... 5.0382121e-13 3.2132281e-12\n",
            " 2.5982167e-17]\n",
            "[36, 497, 1002, 497, 117, 0, 10, 497, 1002, 609]\n",
            "['AH', 'HH AE', 'P IY', 'HH AE', 'SH AH N Z', '?', 'HH IH Z', 'HH AE', 'P IY', 'S T EY T']\n",
            "['And Miscreator, makes and helps along']\n",
            "[8.1922899e-06 1.6899111e-10 1.2380558e-09 ... 8.2874034e-11 6.7475525e-11\n",
            " 1.5821652e-10]\n",
            "[7, 621, 412, 0, 31, 0, 7, 0, 878, 0]\n",
            "['AE N D', 'G IH V Z', 'T AH N', '?', 'DH AH', '?', 'AE N D', '?', 'K AE N', '?']\n",
            "['The dashing waters when the air is still']\n",
            "[7.0709575e-06 6.9794692e-10 5.8468508e-08 ... 2.1054233e-11 1.4609232e-11\n",
            " 1.4711634e-14]\n",
            "[31, 0, 261, 356, 261, 0, 231, 356, 52, 0]\n",
            "['DH AH', '?', 'T ER Z', 'W AO', 'T ER Z', '?', 'IH T', 'W AO', 'DH AE T', '?']\n",
            "['And still its ice the freezing silence kept:']\n",
            "[2.5737167e-05 3.9577543e-12 1.0517679e-11 ... 1.2344606e-19 5.6904677e-15\n",
            " 3.5132809e-14]\n",
            "[7, 0, 31, 0, 30, 0, 6, 0, 915, 1078]\n",
            "['AE N D', '?', 'DH AH', '?', 'T UW', '?', 'T ER', '?', 'L AH N S', 'K OW L D']\n",
            "['That shrink in misty mournfulness from sight,']\n",
            "[5.3649856e-06 5.3068244e-10 4.8906156e-08 ... 3.3687760e-16 4.1470245e-13\n",
            " 1.4479202e-12]\n",
            "[52, 0, 292, 67, 170, 0, 67, 0, 84, 0]\n",
            "['DH AE T', '?', 'D ER', 'IH N', 'HH ER', '?', 'IH N', '?', 'ER', '?']\n",
            "['And secret seeds of envy, lay behind;']\n",
            "[9.2656782e-10 1.4952320e-10 1.5872727e-11 ... 1.4986374e-15 2.2966648e-17\n",
            " 1.5974264e-14]\n",
            "[7, 0, 75, 0, 31, 0, 31, 0, 0, 0]\n",
            "['AE N D', '?', 'L AH S', '?', 'DH AH', '?', 'DH AH', '?', '?', '?']\n",
            "['Of trees and crack of branches, common things,']\n",
            "[9.9446870e-06 1.2923382e-10 1.7819670e-07 ... 3.2797509e-14 3.6428340e-09\n",
            " 1.2790384e-16]\n",
            "[40, 772, 7, 772, 7, 772, 377, 600, 12, 772]\n",
            "['AH V', 'T R IY Z', 'AE N D', 'T R IY Z', 'AE N D', 'T R IY Z', 'N IY', 'TH IH NG Z', 'K AH N', 'T R IY Z']\n",
            "['And pious tribute at her altars pay:']\n",
            "[1.17122774e-07 1.59685476e-09 1.02584495e-11 ... 1.39873616e-12\n",
            " 9.75038886e-12 5.99397337e-11]\n",
            "[7, 0, 36, 0, 261, 0, 170, 0, 0, 0]\n",
            "['AE N D', '?', 'AH', '?', 'T ER Z', '?', 'HH ER', '?', '?', '?']\n",
            "['Courageous, and refreshed for future toil,']\n",
            "[1.52322507e-04 4.46678305e-10 4.65605972e-08 ... 1.13053698e-10\n",
            " 9.81164911e-13 1.05964804e-13]\n",
            "[195, 0, 209, 0, 7, 168, 0, 62, 36, 0]\n",
            "['R IH', '?', 'JH AH S', '?', 'AE N D', 'W IH', '?', 'F AO R', 'AH', '?']\n",
            "['Upon the wall and windows blots of gilt.']\n",
            "[3.9951615e-07 1.8351871e-09 4.3335731e-05 ... 1.1361124e-09 9.2142871e-10\n",
            " 7.2510882e-15]\n",
            "[67, 0, 31, 0, 31, 0, 40, 40, 31, 0]\n",
            "['IH N', '?', 'DH AH', '?', 'DH AH', '?', 'AH V', 'AH V', 'DH AH', '?']\n",
            "['And lay upon the threshold like a log.']\n",
            "[1.4906285e-09 4.4224780e-11 2.7776416e-12 ... 1.0040814e-17 5.8796340e-10\n",
            " 1.0262917e-10]\n",
            "[7, 107, 36, 410, 121, 40, 36, 40, 31, 0]\n",
            "['AE N D', 'AA N', 'AH', 'L AY K', 'OW L D', 'AH V', 'AH', 'AH V', 'DH AH', '?']\n",
            "['In synod unbenign; and taught the fixed']\n",
            "[2.1984081e-06 4.0240707e-11 5.0377766e-06 ... 8.5435224e-01 4.9967565e-12\n",
            " 2.1780656e-14]\n",
            "[67, 62, 195, 1284, 156, 0, 31, 0, 31, 1497]\n",
            "['IH N', 'F AO R', 'R IH', 'F IH K S T', 'W AA Z', '?', 'DH AH', '?', 'DH AH', 'T AO T']\n",
            "['And left him to his rest.  An end of Love.']\n",
            "[9.6400257e-09 8.2113434e-11 3.0042908e-09 ... 7.5859320e-21 1.3452924e-12\n",
            " 8.0232973e-12]\n",
            "[7, 295, 30, 701, 30, 671, 535, 454, 40, 454]\n",
            "['AE N D', 'L EH F T', 'T UW', 'B AE K', 'T UW', 'HH AA R T', 'V IH NG', 'L AH V', 'AH V', 'L AH V']\n",
            "['And human hearts and minds to show it by,']\n",
            "[8.1464829e-10 1.0860222e-11 1.4512812e-10 ... 9.5208787e-14 7.3036710e-14\n",
            " 4.3156905e-15]\n",
            "[7, 425, 7, 0, 30, 425, 7, 425, 878, 0]\n",
            "['AE N D', 'HH Y UW', 'AE N D', '?', 'T UW', 'HH Y UW', 'AE N D', 'HH Y UW', 'K AE N', '?']\n",
            "['The outward struggle and the inward strife.']\n",
            "[1.5284916e-06 1.7083059e-10 5.6244731e-11 ... 2.4107785e-11 1.7570679e-11\n",
            " 8.1361708e-18]\n",
            "[31, 1082, 163, 690, 316, 7, 0, 7, 31, 0]\n",
            "['DH AH', 'T R AH', 'W ER D', 'S EH N', 'ZH AH N', 'AE N D', '?', 'AE N D', 'DH AH', '?']\n",
            "['His arms and bosom, seem to melt away.']\n",
            "[1.0078422e-03 9.5180920e-12 5.4820450e-09 ... 4.8164308e-22 2.1692349e-14\n",
            " 1.1663639e-18]\n",
            "[10, 0, 7, 0, 10, 0, 14, 0, 39, 0]\n",
            "['HH IH Z', '?', 'AE N D', '?', 'HH IH Z', '?', 'D IH D', '?', 'D IY', '?']\n",
            "['And noise, and tumult rises from the crowd.']\n",
            "[1.1934472e-06 3.1829652e-09 4.8782036e-05 ... 1.4120509e-15 2.2566686e-09\n",
            " 3.9192924e-12]\n",
            "[7, 0, 7, 131, 31, 0, 31, 0, 31, 0]\n",
            "['AE N D', '?', 'AE N D', 'R AY', 'DH AH', '?', 'DH AH', '?', 'DH AH', '?']\n",
            "['Cannot devise a torment, so it be']\n",
            "[4.5594701e-04 1.0383636e-10 1.2624163e-07 ... 1.4086789e-13 1.2340601e-12\n",
            " 1.2861083e-12]\n",
            "[399, 1000, 231, 235, 878, 102, 231, 102, 256, 102]\n",
            "['IH F', 'D EH', 'IH T', 'T AO R', 'K AE N', 'B IY', 'IH T', 'B IY', 'D IH', 'B IY']\n",
            "['The damsel put the pair without reply:']\n",
            "[1.4442815e-05 1.5689218e-10 9.5737157e-08 ... 2.7173825e-13 2.7593932e-15\n",
            " 2.1234303e-11]\n",
            "[31, 0, 136, 0, 7, 0, 31, 0, 195, 326]\n",
            "['DH AH', '?', 'L IY', '?', 'AE N D', '?', 'DH AH', '?', 'R IH', 'P L AY']\n",
            "['Or that it hardens more and helps to bind']\n",
            "[3.0008277e-08 4.1271726e-12 1.3411990e-11 ... 2.3333832e-14 1.7163088e-12\n",
            " 2.0835737e-16]\n",
            "[50, 237, 231, 0, 195, 231, 231, 0, 30, 0]\n",
            "['AO R', 'P ER', 'IH T', '?', 'R IH', 'IH T', 'IH T', '?', 'T UW', '?']\n",
            "['And flowing waters, and the starry flame,']\n",
            "[1.2043607e-06 6.3426481e-10 3.2932141e-15 ... 8.0320207e-13 2.3923802e-13\n",
            " 1.9358111e-11]\n",
            "[7, 356, 31, 0, 31, 0, 31, 0, 59, 0]\n",
            "['AE N D', 'W AO', 'DH AH', '?', 'DH AH', '?', 'DH AH', '?', 'M IY', '?']\n",
            "['The spoil or spoiler? this behold in me;']\n",
            "[2.7329975e-04 6.9302244e-11 1.4243809e-05 ... 1.4094020e-13 1.9412093e-11\n",
            " 4.3505556e-13]\n",
            "[89, 0, 102, 457, 31, 1091, 31, 400, 0, 0]\n",
            "['B IH', '?', 'B IY', 'S IY N', 'DH AH', 'Y EH T', 'DH AH', 'AY', '?', '?']\n",
            "['And rode with them, and spake to none; the day']\n",
            "[8.3143938e-08 1.0079231e-09 4.1830588e-09 ... 8.0749303e-15 4.8865910e-14\n",
            " 5.3345974e-15]\n",
            "[7, 0, 76, 62, 76, 442, 153, 435, 76, 177]\n",
            "['AE N D', '?', 'W IH DH', 'F AO R', 'W IH DH', 'P AA N', 'DH EH M', 'AH N', 'W IH DH', 'D EY']\n",
            "['Of finest metal was her armour bright,']\n",
            "[7.65139833e-02 1.90485877e-10 1.01301936e-04 ... 2.99936378e-15\n",
            " 2.00791125e-13 7.33434774e-07]\n",
            "[0, 0, 36, 0, 1008, 0, 36, 0, 490, 512]\n",
            "['?', '?', 'AH', '?', 'M ER', '?', 'AH', '?', 'B AH L', 'L AY T']\n",
            "['The doleful city all around invest,']\n",
            "[1.5760452e-02 6.7184133e-11 1.4569683e-08 ... 2.8900372e-12 6.9149991e-15\n",
            " 8.2366405e-16]\n",
            "[31, 0, 31, 1190, 31, 0, 31, 0, 403, 0]\n",
            "['DH AH', '?', 'DH AH', 'M AE', 'DH AH', '?', 'DH AH', '?', 'T IY', '?']\n",
            "['Of crowded cities, was from passing tale']\n",
            "[1.5865653e-05 3.1076652e-10 1.1013498e-03 ... 1.0491494e-18 4.7053777e-15\n",
            " 8.3438118e-13]\n",
            "[36, 1273, 40, 0, 403, 553, 31, 0, 0, 0]\n",
            "['AH', 'T R AE', 'AH V', '?', 'T IY', 'B AY', 'DH AH', '?', '?', '?']\n",
            "['An Arab fearless as the face of Truth']\n",
            "[5.4573367e-04 4.1954641e-11 3.8827266e-06 ... 1.5057211e-10 3.0665130e-14\n",
            " 1.6366943e-17]\n",
            "[514, 0, 0, 76, 30, 7, 0, 27, 40, 664]\n",
            "['D AH', '?', '?', 'W IH DH', 'T UW', 'AE N D', '?', 'IY', 'AH V', 'T R UW TH']\n",
            "['It lightened toil, and took the edge from pain,']\n",
            "[1.1388870e-02 2.3712514e-09 5.3499162e-04 ... 4.0795102e-12 3.5706860e-09\n",
            " 7.0700754e-12]\n",
            "[231, 0, 303, 702, 30, 0, 30, 7, 31, 0]\n",
            "['IH T', '?', 'L IH NG', 'F IY', 'T UW', '?', 'T UW', 'AE N D', 'DH AH', '?']\n",
            "['That brought with it another civil war.']\n",
            "[3.4278910e-06 8.5106103e-11 2.7212725e-06 ... 4.0255479e-17 7.5329541e-11\n",
            " 2.5147875e-14]\n",
            "[52, 460, 136, 222, 280, 460, 721, 105, 36, 105]\n",
            "['DH AE T', 'S IH', 'L IY', 'K AH', 'DH ER', 'S IH', 'V AH L', 'W AO R', 'AH', 'W AO R']\n",
            "['Apart from all, in pride of conscious strength,']\n",
            "[3.6770771e-07 4.5872109e-10 6.7249108e-05 ... 3.4194760e-17 4.8664084e-10\n",
            " 5.7399911e-11]\n",
            "[435, 689, 40, 686, 2, 44, 31, 0, 40, 686]\n",
            "['AH N', 'P AA R T', 'AH V', 'S T R EH NG K TH', 'F R AH M', 'K ER', 'DH AH', '?', 'AH V', 'S T R EH NG K TH']\n",
            "['And far and near throughout the land the men']\n",
            "[9.3440389e-07 4.8656568e-10 4.0209508e-07 ... 8.9058309e-12 2.4227458e-14\n",
            " 2.4317923e-14]\n",
            "[7, 2, 31, 0, 31, 184, 31, 1153, 31, 140]\n",
            "['AE N D', 'F R AH M', 'DH AH', '?', 'DH AH', 'AW T', 'DH AH', 'F AA R', 'DH AH', 'L AE N D']\n",
            "['Remembered--I. And, oh! a little while']\n",
            "[2.1675639e-04 8.2796031e-10 2.3283004e-05 ... 5.4476293e-12 1.5963554e-09\n",
            " 1.7760004e-11]\n",
            "[67, 0, 18, 911, 7, 0, 47, 0, 36, 911]\n",
            "['IH N', '?', 'T AH L', 'W AY L', 'AE N D', '?', 'V ER', '?', 'AH', 'W AY L']\n",
            "['And clip his borders short, and drive his herds,']\n",
            "[3.0706868e-10 2.5651947e-10 7.1874680e-09 ... 6.7743548e-13 3.7616485e-12\n",
            " 6.4881726e-13]\n",
            "[7, 0, 10, 0, 76, 0, 10, 76, 153, 0]\n",
            "['AE N D', '?', 'HH IH Z', '?', 'W IH DH', '?', 'HH IH Z', 'W IH DH', 'DH EH M', '?']\n",
            "['And suffer me in anguish to depart']\n",
            "[2.0251104e-10 4.8957621e-10 2.2438674e-15 ... 2.6433671e-15 5.4719217e-13\n",
            " 3.8303184e-17]\n",
            "[7, 0, 67, 59, 67, 319, 67, 6, 75, 0]\n",
            "['AE N D', '?', 'IH N', 'M IY', 'IH N', 'R EH', 'IH N', 'T ER', 'L AH S', '?']\n",
            "['The king from sovereign peril saved his head,']\n",
            "[5.9954160e-05 6.0841415e-10 1.4252505e-04 ... 1.7427977e-09 5.9497069e-12\n",
            " 8.5996915e-10]\n",
            "[31, 293, 727, 1008, 31, 1008, 14, 0, 62, 445]\n",
            "['DH AH', 'K IH NG', 'G UH D', 'M ER', 'DH AH', 'M ER', 'D IH D', '?', 'F AO R', 'HH EH D']\n",
            "['The point is turned; the twilight shadow fills']\n",
            "[3.0732469e-06 7.1462052e-11 2.8761947e-03 ... 2.7594102e-18 4.6469207e-16\n",
            " 4.5074482e-12]\n",
            "[89, 706, 86, 0, 31, 1140, 512, 0, 0, 0]\n",
            "['B IH', 'G EH N', 'IH Z', '?', 'DH AH', 'SH AE', 'L AY T', '?', '?', '?']\n",
            "['Arriving all confused among the rest']\n",
            "[1.8887079e-07 3.1266673e-10 5.1184532e-08 ... 1.6666357e-15 6.8863659e-13\n",
            " 2.7728075e-13]\n",
            "[12, 597, 23, 720, 7, 133, 404, 30, 31, 613]\n",
            "['K AH N', 'P AA R', 'T AH D', 'F Y UW', 'AE N D', 'AO L', 'D IH NG', 'T UW', 'DH AH', 'R EH S T']\n"
          ],
          "name": "stdout"
        }
      ]
    },
    {
      "metadata": {
        "id": "yyDGVtigW57f",
        "colab_type": "code",
        "outputId": "161e31f0-fb3e-41bb-aeb5-74db05cd6506",
        "colab": {
          "base_uri": "https://localhost:8080/",
          "height": 234
        }
      },
      "cell_type": "code",
      "source": [
        "categories = df_train.label.cat.categories.tolist()\n",
        "predict_logits = predicts.argmax(axis=1)\n",
        "print(\"Categorie: {0}\".format(categories))\n",
        "predict_labels = [categories[logit] for logit in predict_logits]\n",
        "predict_labels"
      ],
      "execution_count": 22,
      "outputs": [
        {
          "output_type": "error",
          "ename": "NameError",
          "evalue": "ignored",
          "traceback": [
            "\u001b[0;31m---------------------------------------------------------------------------\u001b[0m",
            "\u001b[0;31mNameError\u001b[0m                                 Traceback (most recent call last)",
            "\u001b[0;32m<ipython-input-22-7f6e6bf5580f>\u001b[0m in \u001b[0;36m<module>\u001b[0;34m()\u001b[0m\n\u001b[0;32m----> 1\u001b[0;31m \u001b[0mcategories\u001b[0m \u001b[0;34m=\u001b[0m \u001b[0mdf_train\u001b[0m\u001b[0;34m.\u001b[0m\u001b[0mlabel\u001b[0m\u001b[0;34m.\u001b[0m\u001b[0mcat\u001b[0m\u001b[0;34m.\u001b[0m\u001b[0mcategories\u001b[0m\u001b[0;34m.\u001b[0m\u001b[0mtolist\u001b[0m\u001b[0;34m(\u001b[0m\u001b[0;34m)\u001b[0m\u001b[0;34m\u001b[0m\u001b[0m\n\u001b[0m\u001b[1;32m      2\u001b[0m \u001b[0mpredict_logits\u001b[0m \u001b[0;34m=\u001b[0m \u001b[0mpredicts\u001b[0m\u001b[0;34m.\u001b[0m\u001b[0margmax\u001b[0m\u001b[0;34m(\u001b[0m\u001b[0maxis\u001b[0m\u001b[0;34m=\u001b[0m\u001b[0;36m1\u001b[0m\u001b[0;34m)\u001b[0m\u001b[0;34m\u001b[0m\u001b[0m\n\u001b[1;32m      3\u001b[0m \u001b[0mprint\u001b[0m\u001b[0;34m(\u001b[0m\u001b[0;34m\"Categorie: {0}\"\u001b[0m\u001b[0;34m.\u001b[0m\u001b[0mformat\u001b[0m\u001b[0;34m(\u001b[0m\u001b[0mcategories\u001b[0m\u001b[0;34m)\u001b[0m\u001b[0;34m)\u001b[0m\u001b[0;34m\u001b[0m\u001b[0m\n\u001b[1;32m      4\u001b[0m \u001b[0mpredict_labels\u001b[0m \u001b[0;34m=\u001b[0m \u001b[0;34m[\u001b[0m\u001b[0mcategories\u001b[0m\u001b[0;34m[\u001b[0m\u001b[0mlogit\u001b[0m\u001b[0;34m]\u001b[0m \u001b[0;32mfor\u001b[0m \u001b[0mlogit\u001b[0m \u001b[0;32min\u001b[0m \u001b[0mpredict_logits\u001b[0m\u001b[0;34m]\u001b[0m\u001b[0;34m\u001b[0m\u001b[0m\n\u001b[1;32m      5\u001b[0m \u001b[0mpredict_labels\u001b[0m\u001b[0;34m\u001b[0m\u001b[0m\n",
            "\u001b[0;31mNameError\u001b[0m: name 'df_train' is not defined"
          ]
        }
      ]
    },
    {
      "metadata": {
        "id": "hYhmukbSKpnp",
        "colab_type": "code",
        "outputId": "fa09a97d-de23-4bd8-8e2a-5e44774ba26d",
        "colab": {
          "base_uri": "https://localhost:8080/",
          "height": 183
        }
      },
      "cell_type": "code",
      "source": [
        "\n",
        "os.remove('./model.h5')"
      ],
      "execution_count": 0,
      "outputs": [
        {
          "output_type": "error",
          "ename": "FileNotFoundError",
          "evalue": "ignored",
          "traceback": [
            "\u001b[0;31m---------------------------------------------------------------------------\u001b[0m",
            "\u001b[0;31mFileNotFoundError\u001b[0m                         Traceback (most recent call last)",
            "\u001b[0;32m<ipython-input-41-13211db72c4c>\u001b[0m in \u001b[0;36m<module>\u001b[0;34m()\u001b[0m\n\u001b[1;32m      1\u001b[0m \u001b[0;34m\u001b[0m\u001b[0m\n\u001b[0;32m----> 2\u001b[0;31m \u001b[0mos\u001b[0m\u001b[0;34m.\u001b[0m\u001b[0mremove\u001b[0m\u001b[0;34m(\u001b[0m\u001b[0;34m'./model.h5'\u001b[0m\u001b[0;34m)\u001b[0m\u001b[0;34m\u001b[0m\u001b[0m\n\u001b[0m",
            "\u001b[0;31mFileNotFoundError\u001b[0m: [Errno 2] No such file or directory: './model.h5'"
          ]
        }
      ]
    }
  ]
}