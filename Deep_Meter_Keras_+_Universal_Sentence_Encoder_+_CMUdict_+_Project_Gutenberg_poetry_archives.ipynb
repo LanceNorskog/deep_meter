{
  "nbformat": 4,
  "nbformat_minor": 0,
  "metadata": {
    "colab": {
      "name": "Deep Meter: Keras + Universal Sentence Encoder + CMUdict + Project Gutenberg poetry archives",
      "version": "0.3.2",
      "provenance": [],
      "collapsed_sections": []
    },
    "kernelspec": {
      "name": "python3",
      "display_name": "Python 3"
    },
    "accelerator": "GPU"
  },
  "cells": [
    {
      "metadata": {
        "id": "co7MV6sX7Xto",
        "colab_type": "text"
      },
      "cell_type": "markdown",
      "source": [
        "# [Keras + Universal Sentence Encoder = Deep Meter](https://www.dlology.com/blog/keras-meets-universal-sentence-encoder-transfer-learning-for-text-data/) "
      ]
    },
    {
      "metadata": {
        "id": "eAVQGidpL8v5",
        "colab_type": "text"
      },
      "cell_type": "markdown",
      "source": [
        "This notebook creates an autoencoder using the Universal Sentence Encoder. The autoencoder output is CMUdict syllables. The dataset is that subset of Allison Parrish's Project Gutenberg poetry archive which happens to scan in iambic pentameter.\n",
        "\n",
        "The notebook is based on Chengwei Zhang's example of wrapping the USE inside a larger tensorflow model saves to a Keras model (without save the USE itself in the TF model).\n",
        "\n",
        "The Universal Sentence Encoder makes getting sentence level embeddings as easy as it has historically been to lookup the embeddings for individual words. The sentence embeddings can then be trivially used to compute sentence level meaning similarity as well as to enable better performance on downstream classification tasks using less supervised training data.\n",
        "\n",
        "Since there are 10 one-hot values for 10 sets of 6k syllables, this is \"multi-label classification\"\n",
        "Changes for multi-label classification:\n",
        "sigmoid activation instead of softmax\n",
        "binary_crossentropy\n",
        "\n",
        "Text format is tab-separated, 2 columns: first text, second multi-level\n",
        "array of syllables:\n"
      ]
    },
    {
      "metadata": {
        "id": "pOTzp8O36CyQ",
        "colab_type": "text"
      },
      "cell_type": "markdown",
      "source": [
        "# Getting Started\n",
        "\n",
        "This section sets up the environment for access to the Universal Sentence Encoder on TF Hub and provides examples of applying the encoder to words, sentences, and paragraphs."
      ]
    },
    {
      "metadata": {
        "id": "lVjNK8shFKOC",
        "colab_type": "code",
        "outputId": "89593c02-1cce-4014-85f9-dbd80424709f",
        "colab": {
          "base_uri": "https://localhost:8080/",
          "height": 121
        }
      },
      "cell_type": "code",
      "source": [
        "# Install the latest Tensorflow version.\n",
        "!pip3 install --quiet \"tensorflow>=1.7\"\n",
        "# Install TF-Hub.\n",
        "!pip3 install --quiet tensorflow-hub\n",
        "%cd /content\n",
        "!git clone https://github.com/LanceNorskog/deep_meter || true\n",
        "%cd deep_meter\n",
        "!git pull\n",
        "# could not figure out how to read gzipped files as text!\n",
        "!gunzip -qf blobs/*.gz || true\n",
        "!gunzip -qf prepped_data/*.gz || true"
      ],
      "execution_count": 1,
      "outputs": [
        {
          "output_type": "stream",
          "text": [
            "/content\n",
            "fatal: destination path 'deep_meter' already exists and is not an empty directory.\n",
            "/content/deep_meter\n",
            "Already up to date.\n",
            "gzip: blobs/*.gz: No such file or directory\n",
            "gzip: prepped_data/*.gz: No such file or directory\n"
          ],
          "name": "stdout"
        }
      ]
    },
    {
      "metadata": {
        "id": "MSeY-MUQo2Ha",
        "colab_type": "code",
        "outputId": "bd338c03-921b-41f0-9bfe-1bc47ff3a576",
        "colab": {
          "base_uri": "https://localhost:8080/",
          "height": 34
        }
      },
      "cell_type": "code",
      "source": [
        "# boilerplate from base notebook\n",
        "import tensorflow as tf\n",
        "import tensorflow_hub as hub\n",
        "import matplotlib.pyplot as plt\n",
        "import numpy as np\n",
        "import os\n",
        "import pandas as pd\n",
        "import re\n",
        "import seaborn as sns\n",
        "import keras.layers as layers\n",
        "from keras.models import Model\n",
        "from keras import backend as K\n",
        "np.random.seed(10)"
      ],
      "execution_count": 2,
      "outputs": [
        {
          "output_type": "stream",
          "text": [
            "Using TensorFlow backend.\n"
          ],
          "name": "stderr"
        }
      ]
    },
    {
      "metadata": {
        "id": "feBc_8Y-pt6F",
        "colab_type": "code",
        "colab": {}
      },
      "cell_type": "code",
      "source": [
        "# github deep_meter code\n",
        "import utils\n",
        "# should not need this to use utils.flatten but is true anyway?\n",
        "from itertools import chain\n",
        "import subprocess\n",
        "import syllables\n",
        "# misc for this notebook\n",
        "from ast import literal_eval\n",
        "\n",
        "import scipy\n",
        "\n"
      ],
      "execution_count": 0,
      "outputs": []
    },
    {
      "metadata": {
        "id": "zwty8Z6mAkdV",
        "colab_type": "code",
        "colab": {}
      },
      "cell_type": "code",
      "source": [
        "module_url = \"https://tfhub.dev/google/universal-sentence-encoder-large/3\" #@param [\"https://tfhub.dev/google/universal-sentence-encoder/2\", \"https://tfhub.dev/google/universal-sentence-encoder-large/3\"]"
      ],
      "execution_count": 0,
      "outputs": []
    },
    {
      "metadata": {
        "id": "Q8F4LNGFqOiq",
        "colab_type": "code",
        "outputId": "6ee38f02-28dc-4cce-a177-0d3b2ed97748",
        "colab": {
          "base_uri": "https://localhost:8080/",
          "height": 34
        }
      },
      "cell_type": "code",
      "source": [
        "# Import the Universal Sentence Encoder's TF Hub module\n",
        "embed = hub.Module(module_url)\n",
        "embed_size = embed.get_output_info_dict()['default'].get_shape()[1].value"
      ],
      "execution_count": 5,
      "outputs": [
        {
          "output_type": "stream",
          "text": [
            "INFO:tensorflow:Using /tmp/tfhub_modules to cache modules.\n"
          ],
          "name": "stdout"
        }
      ]
    },
    {
      "metadata": {
        "id": "gLsW4_Jr7zOJ",
        "colab_type": "code",
        "colab": {}
      },
      "cell_type": "code",
      "source": [
        "#sentence_labels = utils.flatten([['AE N D'], ['S T AH', 'B ER N'], ['B R AE S'], ['AE N D'], ['T IH N'], ['AE N D'], ['S AA', 'L AH D'], ['G OW L D']])\n",
        "#other_sentence = utils.flatten([['T UW'], ['M IY'], ['IH T'], ['F L OW Z'], ['AH'], ['S AH', 'L AH N'], ['S T R IY M'], ['AH V'], ['T EH R Z']])\n",
        "#third_sentence = utils.flatten([['DH AH'], ['N OW', 'B AH L'], ['S IY', 'M AH N'], ['HH UW'], ['W IH TH', 'HH EH L D'], ['DH AH'], ['HH AE N D']])"
      ],
      "execution_count": 0,
      "outputs": []
    },
    {
      "metadata": {
        "id": "FwAQNy1eMDkQ",
        "colab_type": "code",
        "colab": {}
      },
      "cell_type": "code",
      "source": [
        "# read classified poetry lines: text tab [['syll', 'la', 'ble'], ...]\n",
        "# clip to only most common syllables with syllable manager\n",
        "def get_data(filename, syll_mgr, num_symbols):\n",
        "    lines = open(filename, 'r').read().splitlines()\n",
        "    text_lines = []\n",
        "    enc_array = []\n",
        "    num_syllables = syll_mgr.get_size()\n",
        "    for i in range(0, len(lines)):\n",
        "      parts = lines[i].split(\"\\t\")\n",
        "      label = utils.flatten(literal_eval(parts[1]))\n",
        "      if len(label) != num_symbols:\n",
        "        continue\n",
        "      enc = np.zeros((num_symbols * syll_mgr.get_size()), dtype=np.int8)\n",
        "      for j in range(num_symbols):\n",
        "        enc[num_syllables * j + syll_mgr.get_encoding(label[j])] = 1\n",
        "      text_lines.append([parts[0]])\n",
        "      enc_array.append(enc)\n",
        "\n",
        "    return (np.array(text_lines), np.array(enc_array))\n"
      ],
      "execution_count": 0,
      "outputs": []
    },
    {
      "metadata": {
        "id": "3HAtd4X5DayF",
        "colab_type": "code",
        "colab": {}
      },
      "cell_type": "code",
      "source": [
        "# syllables in descending order of occurrence - 6k in gutenberg.iambic_pentameter, 15k total\n",
        "# clamp to most common 100 syllables while debugging- use NCE to get all syllables or interesting number\n",
        "# 98 + pause + wildcard\n",
        "num_syllables = 1500 \n",
        "# iambic pentameter\n",
        "num_symbols = 10\n",
        "syll_mgr = syllables.syllables(num_syllables)\n",
        "\n",
        "# slow\n",
        "num_epochs = 40\n",
        "adam_0001 = tf.train.AdamOptimizer(0.0005)"
      ],
      "execution_count": 0,
      "outputs": []
    },
    {
      "metadata": {
        "id": "eN9aqig-QpDZ",
        "colab_type": "code",
        "colab": {}
      },
      "cell_type": "code",
      "source": [
        "(train_text, train_label) = get_data('prepped_data/gutenberg.iambic_pentameter.train', syll_mgr, num_symbols)\n",
        "num_training = len(train_text)\n",
        "#train_text = train_text[0:10000]\n",
        "#train_label = train_label[0:10000]\n",
        "\n",
        "(test_text, test_label) = get_data('prepped_data/gutenberg.iambic_pentameter.test', syll_mgr, num_symbols)\n",
        "num_testing = len(test_text)\n"
      ],
      "execution_count": 0,
      "outputs": []
    },
    {
      "metadata": {
        "id": "-mQUV_7dIm-9",
        "colab_type": "code",
        "outputId": "99805d33-491c-4691-d35d-2c2ec9010446",
        "colab": {
          "base_uri": "https://localhost:8080/",
          "height": 156
        }
      },
      "cell_type": "code",
      "source": [
        "\n",
        "for i in range(2):\n",
        "  print(train_text[i][0])\n",
        "  print(train_label[i])\n",
        "  syll_mgr.interpret2(train_label[i])"
      ],
      "execution_count": 10,
      "outputs": [
        {
          "output_type": "stream",
          "text": [
            "And stubborn brass, and tin, and solid gold;\n",
            "[0 0 0 ... 0 0 0]\n",
            "[7, 38, 343, 0, 7, 0, 7, 77, 78, 114]\n",
            "['AE N D', 'S T AH', 'B ER N', '?', 'AE N D', '?', 'AE N D', 'S AA', 'L AH D', 'G OW L D']\n",
            "To me, it flows a sullen stream of tears.\n",
            "[0 0 0 ... 0 0 0]\n",
            "[30, 59, 231, 0, 36, 175, 937, 0, 40, 977]\n",
            "['T UW', 'M IY', 'IH T', '?', 'AH', 'S AH', 'L AH N', '?', 'AH V', 'T EH R Z']\n"
          ],
          "name": "stdout"
        }
      ]
    },
    {
      "metadata": {
        "id": "ukpQVkEN1e_q",
        "colab_type": "code",
        "outputId": "4f80c053-d0ea-4674-c86e-e4a87cd7ff6d",
        "colab": {
          "base_uri": "https://localhost:8080/",
          "height": 34
        }
      },
      "cell_type": "code",
      "source": [
        "messages = []\n",
        "for i in range(200):\n",
        "  messages.append(train_text[i][0])\n",
        "with tf.Session() as session:\n",
        "  session.run([tf.global_variables_initializer(), tf.tables_initializer()])\n",
        "  message_embeddings = session.run(embed(messages))\n",
        "predicts = message_embeddings"
      ],
      "execution_count": 11,
      "outputs": [
        {
          "output_type": "stream",
          "text": [
            "INFO:tensorflow:Saver not created because there are no variables in the graph to restore\n"
          ],
          "name": "stdout"
        }
      ]
    },
    {
      "metadata": {
        "id": "7EiWYaaoryJV",
        "colab_type": "code",
        "outputId": "94b924b1-1b63-4611-c94f-ef95a5e10f20",
        "colab": {
          "base_uri": "https://localhost:8080/",
          "height": 34
        }
      },
      "cell_type": "code",
      "source": [
        "predicts = message_embeddings\n",
        "print(len(predicts))\n",
        "first = predicts[0]\n",
        "for i in range(len(predicts) - 1):\n",
        "  v = predicts[i]\n",
        "  #print(scipy.spatial.distance.cosine(v, first))"
      ],
      "execution_count": 12,
      "outputs": [
        {
          "output_type": "stream",
          "text": [
            "200\n"
          ],
          "name": "stdout"
        }
      ]
    },
    {
      "metadata": {
        "id": "Sf9A4Xl6J7c6",
        "colab_type": "text"
      },
      "cell_type": "markdown",
      "source": [
        "## Wrap embed module in a Lambda layer\n",
        "Explicitly cast the input as a string"
      ]
    },
    {
      "metadata": {
        "id": "PRD3fWgJjOrP",
        "colab_type": "code",
        "colab": {}
      },
      "cell_type": "code",
      "source": [
        "def UniversalEmbedding(x):\n",
        "    return embed(tf.squeeze(tf.cast(x, tf.string)), signature=\"default\", as_dict=True)[\"default\"]\n"
      ],
      "execution_count": 0,
      "outputs": []
    },
    {
      "metadata": {
        "id": "qX2rBOuxDP1m",
        "colab_type": "text"
      },
      "cell_type": "markdown",
      "source": [
        "## Assemble model"
      ]
    },
    {
      "metadata": {
        "id": "t3fllZkVjXKV",
        "colab_type": "code",
        "outputId": "a69471cd-fe92-4206-c7c3-6e4e589a9f8a",
        "colab": {
          "base_uri": "https://localhost:8080/",
          "height": 295
        }
      },
      "cell_type": "code",
      "source": [
        "# changed accuracy from 'choose your own accuracy'\n",
        "input_text = layers.Input(shape=(1,), dtype=tf.string)\n",
        "embedding = layers.Lambda(UniversalEmbedding, output_shape=(embed_size,))(input_text)\n",
        "dense = layers.Dense(1024, activation='relu')(embedding)\n",
        "pred = layers.Dense(num_syllables * num_symbols, activation='sigmoid')(dense)\n",
        "model = Model(inputs=[input_text], outputs=pred)\n",
        "model.compile(loss='binary_crossentropy', optimizer=adam_0001, metrics=['binary_accuracy'])\n",
        "model.summary()"
      ],
      "execution_count": 14,
      "outputs": [
        {
          "output_type": "stream",
          "text": [
            "INFO:tensorflow:Saver not created because there are no variables in the graph to restore\n",
            "_________________________________________________________________\n",
            "Layer (type)                 Output Shape              Param #   \n",
            "=================================================================\n",
            "input_1 (InputLayer)         (None, 1)                 0         \n",
            "_________________________________________________________________\n",
            "lambda_1 (Lambda)            (None, 512)               0         \n",
            "_________________________________________________________________\n",
            "dense_1 (Dense)              (None, 1024)              525312    \n",
            "_________________________________________________________________\n",
            "dense_2 (Dense)              (None, 15000)             15375000  \n",
            "=================================================================\n",
            "Total params: 15,900,312\n",
            "Trainable params: 15,900,312\n",
            "Non-trainable params: 0\n",
            "_________________________________________________________________\n"
          ],
          "name": "stdout"
        }
      ]
    },
    {
      "metadata": {
        "id": "9PfsPdG8FZBI",
        "colab_type": "code",
        "outputId": "303f97cd-26d0-480b-ea8a-ad34e7eeba8a",
        "colab": {
          "base_uri": "https://localhost:8080/",
          "height": 34
        }
      },
      "cell_type": "code",
      "source": [
        "test_label.shape"
      ],
      "execution_count": 15,
      "outputs": [
        {
          "output_type": "execute_result",
          "data": {
            "text/plain": [
              "(4200, 15000)"
            ]
          },
          "metadata": {
            "tags": []
          },
          "execution_count": 15
        }
      ]
    },
    {
      "metadata": {
        "id": "gPYVmBr2Fbob",
        "colab_type": "code",
        "outputId": "d391fd3b-1c9b-4639-cfff-050cc1c1d26e",
        "colab": {
          "base_uri": "https://localhost:8080/",
          "height": 69
        }
      },
      "cell_type": "code",
      "source": [
        "print(test_text[200])\n",
        "syll_mgr.interpret2(test_label[200])"
      ],
      "execution_count": 16,
      "outputs": [
        {
          "output_type": "stream",
          "text": [
            "['In this: whatever other blunders lie']\n",
            "[67, 224, 213, 65, 47, 36, 280, 0, 487, 901]\n",
            "['IH N', 'DH IH S', 'W AH T', 'EH', 'V ER', 'AH', 'DH ER', '?', 'D ER Z', 'L AY']\n"
          ],
          "name": "stdout"
        }
      ]
    },
    {
      "metadata": {
        "id": "bqcRy_JWXe0u",
        "colab_type": "text"
      },
      "cell_type": "markdown",
      "source": [
        "## Train Keras model and save weights\n",
        "This only trains and save our Keras layers not the embed module' weights."
      ]
    },
    {
      "metadata": {
        "id": "_stfC_7VFhS8",
        "colab_type": "code",
        "outputId": "52e9d231-7c97-44cd-f75b-230c3b51ebd2",
        "colab": {
          "base_uri": "https://localhost:8080/",
          "height": 367
        }
      },
      "cell_type": "code",
      "source": [
        "use_saved_model=False\n",
        "retrain=False\n",
        "if not use_saved_model or not os.path.exists('./model.h5'):\n",
        "  with tf.Session() as session:\n",
        "    K.set_session(session)\n",
        "    session.run(tf.global_variables_initializer())\n",
        "    if retrain:\n",
        "      model.load_weights('./model.h5')  \n",
        "    else:\n",
        "      session.run(tf.tables_initializer())\n",
        "    history = model.fit(train_text, \n",
        "            train_label,\n",
        "            validation_data=(test_text, test_label),\n",
        "            epochs=num_epochs,\n",
        "            batch_size=32)\n",
        "    model.save_weights('./model.h5')\n"
      ],
      "execution_count": 0,
      "outputs": [
        {
          "output_type": "stream",
          "text": [
            "Train on 58498 samples, validate on 4200 samples\n",
            "Epoch 1/40\n",
            "58498/58498 [==============================] - 121s 2ms/step - loss: 0.0129 - binary_accuracy: 0.9988 - val_loss: 0.0039 - val_binary_accuracy: 0.9993\n",
            "Epoch 2/40\n",
            "58498/58498 [==============================] - 119s 2ms/step - loss: 0.0038 - binary_accuracy: 0.9993 - val_loss: 0.0037 - val_binary_accuracy: 0.9993\n",
            "Epoch 3/40\n",
            "58498/58498 [==============================] - 120s 2ms/step - loss: 0.0036 - binary_accuracy: 0.9994 - val_loss: 0.0035 - val_binary_accuracy: 0.9994\n",
            "Epoch 4/40\n",
            "58498/58498 [==============================] - 124s 2ms/step - loss: 0.0034 - binary_accuracy: 0.9994 - val_loss: 0.0033 - val_binary_accuracy: 0.9994\n",
            "Epoch 5/40\n",
            "58498/58498 [==============================] - 123s 2ms/step - loss: 0.0032 - binary_accuracy: 0.9994 - val_loss: 0.0032 - val_binary_accuracy: 0.9994\n",
            "Epoch 6/40\n",
            "58498/58498 [==============================] - 119s 2ms/step - loss: 0.0030 - binary_accuracy: 0.9994 - val_loss: 0.0031 - val_binary_accuracy: 0.9994\n",
            "Epoch 7/40\n",
            "58498/58498 [==============================] - 118s 2ms/step - loss: 0.0029 - binary_accuracy: 0.9994 - val_loss: 0.0030 - val_binary_accuracy: 0.9994\n",
            "Epoch 8/40\n",
            "58498/58498 [==============================] - 120s 2ms/step - loss: 0.0027 - binary_accuracy: 0.9994 - val_loss: 0.0030 - val_binary_accuracy: 0.9994\n",
            "Epoch 9/40\n",
            "27232/58498 [============>.................] - ETA: 1:00 - loss: 0.0026 - binary_accuracy: 0.9994"
          ],
          "name": "stdout"
        }
      ]
    },
    {
      "metadata": {
        "id": "UW1CiBhnXnxa",
        "colab_type": "code",
        "outputId": "40390ef0-396a-43d8-8e82-fee694ed9e23",
        "colab": {
          "base_uri": "https://localhost:8080/",
          "height": 34
        }
      },
      "cell_type": "code",
      "source": [
        "!ls -alh | grep model.h5"
      ],
      "execution_count": 59,
      "outputs": [
        {
          "output_type": "stream",
          "text": [
            "-rw-r--r-- 1 root root  61M Oct 24 23:58 model.h5\n"
          ],
          "name": "stdout"
        }
      ]
    },
    {
      "metadata": {
        "id": "nQux6qLdXabG",
        "colab_type": "text"
      },
      "cell_type": "markdown",
      "source": [
        "## Make predictions"
      ]
    },
    {
      "metadata": {
        "id": "fSDxetlfUEiD",
        "colab_type": "code",
        "colab": {}
      },
      "cell_type": "code",
      "source": [
        "\n",
        "#new_text = np.array(new_text, dtype=object)[:, np.newaxis]\n",
        "with tf.Session() as session:\n",
        "  K.set_session(session)\n",
        "  session.run(tf.global_variables_initializer())\n",
        "  session.run(tf.tables_initializer())\n",
        "  model.load_weights('./model.h5')  \n",
        "  predicts = model.predict(test_text, batch_size=32)"
      ],
      "execution_count": 0,
      "outputs": []
    },
    {
      "metadata": {
        "id": "U9V5JOWGq4Cd",
        "colab_type": "code",
        "colab": {
          "base_uri": "https://localhost:8080/",
          "height": 34
        },
        "outputId": "24461222-d159-44f0-b662-bac14fed531f"
      },
      "cell_type": "code",
      "source": [
        "first = predicts[0]\n",
        "max_d = -1000000\n",
        "min_d = 1000000\n",
        "max_i = 0\n",
        "min_i = 0\n",
        "for i in range(len(predicts) - 1):\n",
        "  v = predicts[i]\n",
        "  d = scipy.spatial.distance.cosine(v, first)\n",
        "  if max_d < d:\n",
        "    max_d = d\n",
        "    max_i = i\n",
        "  if min_d > d:\n",
        "    min_d = d\n",
        "    min_i = i\n",
        "print(\"Min and max distances: {0} and {1}\".format(min_d, max_d))\n",
        "print(test_text[max_i])\n",
        "syll_mgr.interpret2(predicts[max_i])"
      ],
      "execution_count": 61,
      "outputs": [
        {
          "output_type": "stream",
          "text": [
            "Min and max distances: 2.5659152136370267e-07 and 0.7241146681791546\n"
          ],
          "name": "stdout"
        }
      ]
    },
    {
      "metadata": {
        "id": "xaR0d5VPU23Z",
        "colab_type": "code",
        "outputId": "3a0356f4-5a00-440f-85b5-4f9abaeaa4a6",
        "colab": {
          "base_uri": "https://localhost:8080/",
          "height": 7867
        }
      },
      "cell_type": "code",
      "source": [
        "for i in range(10,100):\n",
        "  print(test_text[i])\n",
        "  print(predicts[i])\n",
        "  syll_mgr.interpret2(predicts[i])"
      ],
      "execution_count": 63,
      "outputs": [
        {
          "output_type": "stream",
          "text": [
            "[52, 86, 86, 0, 86, 0, 86, 0, 36, 0]\n",
            "['DH AE T', 'IH Z', 'IH Z', '?', 'IH Z', '?', 'IH Z', '?', 'AH', '?']\n",
            "['Of humble seeming: and, behind them all,']\n",
            "[4.5766789e-03 3.3007204e-06 1.1491964e-02 ... 4.3276616e-04 4.6846482e-05\n",
            " 1.3441233e-04]\n",
            "[7, 0, 7, 0, 7, 0, 7, 0, 7, 0]\n",
            "['AE N D', '?', 'AE N D', '?', 'AE N D', '?', 'AE N D', '?', 'AE N D', '?']\n",
            "['Behind his head upon the shoulders lay,']\n",
            "[1.2936460e-02 2.6487699e-06 2.0789757e-02 ... 1.6308608e-04 6.2689331e-05\n",
            " 6.8268339e-05]\n",
            "[36, 0, 10, 0, 7, 0, 10, 0, 10, 0]\n",
            "['AH', '?', 'HH IH Z', '?', 'AE N D', '?', 'HH IH Z', '?', 'HH IH Z', '?']\n",
            "['Discover countries, with a kindred heart']\n",
            "[3.3408054e-03 2.8292488e-06 6.2558122e-02 ... 2.9878257e-04 2.6774514e-05\n",
            " 1.1755040e-04]\n",
            "[36, 0, 40, 0, 7, 7, 31, 0, 40, 0]\n",
            "['AH', '?', 'AH V', '?', 'AE N D', 'AE N D', 'DH AH', '?', 'AH V', '?']\n",
            "['Was open in his praise, and plaudits rose']\n",
            "[9.5817139e-03 2.9603564e-06 7.9347733e-03 ... 4.6410994e-04 5.0481260e-05\n",
            " 1.0920774e-04]\n",
            "[10, 0, 10, 0, 10, 0, 10, 0, 10, 0]\n",
            "['HH IH Z', '?', 'HH IH Z', '?', 'HH IH Z', '?', 'HH IH Z', '?', 'HH IH Z', '?']\n",
            "['A spear the hero bore of wondrous strength,']\n",
            "[7.4519580e-03 2.8596849e-06 6.1139199e-03 ... 3.1678885e-04 5.1920168e-05\n",
            " 1.2502693e-04]\n",
            "[31, 0, 40, 0, 0, 0, 31, 0, 31, 0]\n",
            "['DH AH', '?', 'AH V', '?', '?', '?', 'DH AH', '?', 'DH AH', '?']\n",
            "['Were things indifferent to the Shepherds thoughts.']\n",
            "[1.8972050e-02 8.9985706e-06 5.5082813e-03 ... 1.0745642e-03 8.2607454e-05\n",
            " 2.6864622e-04]\n",
            "[31, 0, 0, 0, 31, 0, 31, 0, 36, 0]\n",
            "['DH AH', '?', '?', '?', 'DH AH', '?', 'DH AH', '?', 'AH', '?']\n",
            "['That to the young supplies a guiding light,']\n",
            "[5.83450636e-03 3.00551324e-06 1.29711917e-02 ... 5.29508514e-04\n",
            " 3.56182209e-05 1.19420336e-04]\n",
            "[31, 0, 31, 0, 31, 0, 31, 0, 31, 0]\n",
            "['DH AH', '?', 'DH AH', '?', 'DH AH', '?', 'DH AH', '?', 'DH AH', '?']\n",
            "['Of Greeks a mighty army, all in vain;']\n",
            "[3.6276234e-03 2.8418126e-06 6.3171932e-03 ... 4.2411350e-04 3.7102436e-05\n",
            " 1.2472423e-04]\n",
            "[40, 0, 31, 0, 0, 0, 31, 0, 40, 0]\n",
            "['AH V', '?', 'DH AH', '?', '?', '?', 'DH AH', '?', 'AH V', '?']\n",
            "['Into the mighty vision passing--there,']\n",
            "[7.4037882e-03 3.7151246e-06 8.1632577e-02 ... 2.2357171e-04 4.6277724e-05\n",
            " 1.3703936e-04]\n",
            "[36, 0, 31, 0, 31, 0, 31, 0, 31, 0]\n",
            "['AH', '?', 'DH AH', '?', 'DH AH', '?', 'DH AH', '?', 'DH AH', '?']\n",
            "['Them in his anger, whom his anger saves']\n",
            "[4.2691724e-03 4.3403988e-06 5.3947410e-03 ... 8.1497914e-04 6.5173132e-05\n",
            " 1.5484086e-04]\n",
            "[31, 0, 10, 0, 10, 0, 10, 0, 10, 0]\n",
            "['DH AH', '?', 'HH IH Z', '?', 'HH IH Z', '?', 'HH IH Z', '?', 'HH IH Z', '?']\n",
            "['And in the soul within the sense began']\n",
            "[8.6470591e-03 3.2757930e-06 2.1166395e-02 ... 4.3276034e-04 3.1001971e-05\n",
            " 1.1678029e-04]\n",
            "[7, 0, 31, 0, 31, 0, 31, 0, 31, 0]\n",
            "['AE N D', '?', 'DH AH', '?', 'DH AH', '?', 'DH AH', '?', 'DH AH', '?']\n",
            "['For Daphnis reigns above, and deals from thence']\n",
            "[7.2697294e-03 3.0426177e-06 5.6978907e-02 ... 4.1916230e-04 4.3369506e-05\n",
            " 1.2828728e-04]\n",
            "[30, 0, 31, 0, 7, 0, 31, 0, 31, 0]\n",
            "['T UW', '?', 'DH AH', '?', 'AE N D', '?', 'DH AH', '?', 'DH AH', '?']\n",
            "['For one that looked with such a captains mien:']\n",
            "[6.5954775e-03 2.5105787e-06 7.3573021e-03 ... 4.9941789e-04 4.9429622e-05\n",
            " 1.3282758e-04]\n",
            "[36, 0, 31, 0, 0, 0, 31, 0, 0, 0]\n",
            "['AH', '?', 'DH AH', '?', '?', '?', 'DH AH', '?', '?', '?']\n",
            "['Of thought between her fingers and her brain,']\n",
            "[7.8191478e-03 2.6626105e-06 1.2679323e-02 ... 2.8150540e-04 3.1663469e-05\n",
            " 9.2286296e-05]\n",
            "[170, 0, 170, 0, 170, 0, 170, 0, 170, 0]\n",
            "['HH ER', '?', 'HH ER', '?', 'HH ER', '?', 'HH ER', '?', 'HH ER', '?']\n",
            "['And still the red sedan of rank appeals,']\n",
            "[4.9225716e-03 3.1712343e-06 1.4610110e-03 ... 3.6188713e-04 4.6011366e-05\n",
            " 1.5003298e-04]\n",
            "[7, 0, 31, 0, 0, 0, 31, 0, 0, 0]\n",
            "['AE N D', '?', 'DH AH', '?', '?', '?', 'DH AH', '?', '?', '?']\n",
            "['With this eternal silence;--more a god,']\n",
            "[8.0951164e-03 1.9369609e-06 1.1467343e-02 ... 3.6265349e-04 2.6861728e-05\n",
            " 1.2088918e-04]\n",
            "[7, 0, 36, 0, 36, 0, 36, 0, 36, 0]\n",
            "['AE N D', '?', 'AH', '?', 'AH', '?', 'AH', '?', 'AH', '?']\n",
            "['Forgot, nutritious, grateful to the taste,']\n",
            "[3.7737100e-03 1.8732126e-06 1.4994221e-03 ... 3.4261763e-04 2.5951565e-05\n",
            " 7.5762080e-05]\n",
            "[7, 0, 31, 0, 0, 0, 31, 0, 0, 0]\n",
            "['AE N D', '?', 'DH AH', '?', '?', '?', 'DH AH', '?', '?', '?']\n",
            "['Of full perfection prompt his daring dream,']\n",
            "[8.5563203e-03 2.3062901e-06 9.9301580e-03 ... 2.3470623e-04 4.1358267e-05\n",
            " 9.0859474e-05]\n",
            "[10, 0, 10, 0, 10, 0, 10, 0, 10, 0]\n",
            "['HH IH Z', '?', 'HH IH Z', '?', 'HH IH Z', '?', 'HH IH Z', '?', 'HH IH Z', '?']\n",
            "['And all the spaces of the midnight town']\n",
            "[7.3883327e-04 1.4542261e-06 2.2301588e-03 ... 1.1221473e-04 2.1667023e-05\n",
            " 4.0873485e-05]\n",
            "[7, 0, 31, 0, 31, 0, 31, 0, 31, 0]\n",
            "['AE N D', '?', 'DH AH', '?', 'DH AH', '?', 'DH AH', '?', 'DH AH', '?']\n",
            "['The sandbar sings in moonlit veils of foam.']\n",
            "[1.0317217e-02 1.9776726e-06 4.2179348e-03 ... 1.0326180e-04 2.8290866e-05\n",
            " 5.2333351e-05]\n",
            "[31, 0, 0, 0, 31, 0, 31, 0, 31, 0]\n",
            "['DH AH', '?', '?', '?', 'DH AH', '?', 'DH AH', '?', 'DH AH', '?']\n",
            "['And darkness settled on the outer world.']\n",
            "[3.7949318e-03 2.3317034e-06 9.8879104e-03 ... 1.9151164e-04 2.6853917e-05\n",
            " 7.2803574e-05]\n",
            "[7, 0, 31, 0, 31, 0, 31, 0, 31, 0]\n",
            "['AE N D', '?', 'DH AH', '?', 'DH AH', '?', 'DH AH', '?', 'DH AH', '?']\n",
            "['Or castle, high embattled on the point']\n",
            "[3.2199370e-03 2.8388217e-06 6.5960828e-03 ... 2.3622793e-04 5.3576481e-05\n",
            " 1.2241623e-04]\n",
            "[50, 0, 31, 0, 31, 0, 31, 0, 31, 0]\n",
            "['AO R', '?', 'DH AH', '?', 'DH AH', '?', 'DH AH', '?', 'DH AH', '?']\n",
            "['The each with All in one, sublime design?']\n",
            "[8.8008661e-03 3.4901470e-06 2.8799320e-02 ... 3.9118296e-04 3.9610324e-05\n",
            " 1.7493255e-04]\n",
            "[40, 0, 40, 0, 0, 0, 31, 0, 40, 0]\n",
            "['AH V', '?', 'AH V', '?', '?', '?', 'DH AH', '?', 'AH V', '?']\n",
            "['The curving prow, the tall and stately mast,']\n",
            "[9.5228674e-03 2.2253830e-06 1.4632815e-02 ... 1.3275314e-04 4.1249947e-05\n",
            " 8.1907914e-05]\n",
            "[31, 0, 31, 0, 31, 0, 31, 0, 31, 0]\n",
            "['DH AH', '?', 'DH AH', '?', 'DH AH', '?', 'DH AH', '?', 'DH AH', '?']\n",
            "['And bids anew the martial thunder rise.']\n",
            "[5.1255380e-03 3.0906851e-06 1.8066415e-03 ... 2.4683060e-04 5.3529853e-05\n",
            " 1.2012938e-04]\n",
            "[7, 0, 31, 0, 31, 0, 31, 0, 31, 0]\n",
            "['AE N D', '?', 'DH AH', '?', 'DH AH', '?', 'DH AH', '?', 'DH AH', '?']\n",
            "['And hearing harlot muttered twice or thrice,']\n",
            "[4.1141431e-03 4.6472019e-06 9.7708916e-04 ... 4.5212058e-04 6.2944884e-05\n",
            " 1.1618715e-04]\n",
            "[7, 0, 0, 0, 0, 0, 0, 0, 0, 0]\n",
            "['AE N D', '?', '?', '?', '?', '?', '?', '?', '?', '?']\n",
            "['That evening passed with music, chat, and song,']\n",
            "[9.8385392e-03 4.2664174e-06 1.3779991e-02 ... 2.5956280e-04 4.5336044e-05\n",
            " 1.0211789e-04]\n",
            "[31, 0, 0, 0, 7, 0, 7, 0, 7, 0]\n",
            "['DH AH', '?', '?', '?', 'AE N D', '?', 'AE N D', '?', 'AE N D', '?']\n",
            "['With childlike pleasure at the blooming sun;']\n",
            "[2.5191610e-03 2.1478918e-06 2.2808433e-02 ... 9.9044242e-05 3.1330543e-05\n",
            " 5.0365325e-05]\n",
            "[76, 0, 31, 0, 7, 0, 7, 0, 7, 0]\n",
            "['W IH DH', '?', 'DH AH', '?', 'AE N D', '?', 'AE N D', '?', 'AE N D', '?']\n",
            "['And send her back with gentle words to earth']\n",
            "[1.5696565e-03 2.8805007e-06 2.1092903e-03 ... 2.9888426e-04 3.3267544e-05\n",
            " 7.4209725e-05]\n",
            "[7, 0, 170, 0, 170, 0, 170, 0, 170, 0]\n",
            "['AE N D', '?', 'HH ER', '?', 'HH ER', '?', 'HH ER', '?', 'HH ER', '?']\n",
            "['With glowing eyes and pale, unsmiling face,']\n",
            "[4.2184354e-03 2.5904583e-06 8.5421940e-03 ... 9.3818067e-05 4.8199487e-05\n",
            " 6.8179666e-05]\n",
            "[76, 0, 36, 0, 7, 0, 36, 0, 7, 0]\n",
            "['W IH DH', '?', 'AH', '?', 'AE N D', '?', 'AH', '?', 'AE N D', '?']\n",
            "['Its beauties first? That she will show to me']\n",
            "[1.6078038e-02 2.0319414e-06 9.8455884e-03 ... 2.0906482e-04 1.8381681e-05\n",
            " 9.8460689e-05]\n",
            "[36, 0, 170, 0, 170, 0, 170, 0, 170, 0]\n",
            "['AH', '?', 'HH ER', '?', 'HH ER', '?', 'HH ER', '?', 'HH ER', '?']\n",
            "['A man is likewise counsel for himself,']\n",
            "[7.3641273e-03 1.6595620e-06 3.4547052e-03 ... 7.6978718e-04 3.0415176e-05\n",
            " 1.0950765e-04]\n",
            "[31, 0, 0, 0, 31, 0, 31, 0, 36, 0]\n",
            "['DH AH', '?', '?', '?', 'DH AH', '?', 'DH AH', '?', 'AH', '?']\n",
            "['And awful, mighty eyes that cowed and held']\n",
            "[2.1749807e-03 2.3540711e-06 5.9565651e-04 ... 1.5229217e-04 4.1815489e-05\n",
            " 6.8136374e-05]\n",
            "[7, 0, 0, 0, 0, 0, 0, 0, 0, 0]\n",
            "['AE N D', '?', '?', '?', '?', '?', '?', '?', '?', '?']\n",
            "['Of thoughts revolved, his final sentence chose']\n",
            "[9.71332379e-03 2.31678564e-06 5.62956044e-03 ... 6.23328611e-04\n",
            " 3.85668354e-05 1.08680404e-04]\n",
            "[30, 0, 10, 0, 7, 0, 30, 0, 30, 0]\n",
            "['T UW', '?', 'HH IH Z', '?', 'AE N D', '?', 'T UW', '?', 'T UW', '?']\n",
            "['His head, his shoulders, and his knees embraced;']\n",
            "[1.2120873e-02 1.8250183e-06 6.4882264e-03 ... 1.6398221e-04 4.7601370e-05\n",
            " 5.4453991e-05]\n",
            "[10, 0, 10, 0, 10, 0, 10, 0, 10, 0]\n",
            "['HH IH Z', '?', 'HH IH Z', '?', 'HH IH Z', '?', 'HH IH Z', '?', 'HH IH Z', '?']\n",
            "['And came into the vale in little space,']\n",
            "[1.6979306e-03 1.9551633e-06 3.4305262e-03 ... 1.4377538e-04 4.0562805e-05\n",
            " 5.0169408e-05]\n",
            "[7, 0, 31, 0, 31, 0, 31, 0, 31, 0]\n",
            "['AE N D', '?', 'DH AH', '?', 'DH AH', '?', 'DH AH', '?', 'DH AH', '?']\n",
            "['In forest wild, in thicket, brake, or den;']\n",
            "[9.29188915e-03 3.62320930e-06 4.09316793e-02 ... 1.90707127e-04\n",
            " 4.96065149e-05 1.15072966e-04]\n",
            "[50, 0, 31, 0, 50, 0, 50, 0, 31, 0]\n",
            "['AO R', '?', 'DH AH', '?', 'AO R', '?', 'AO R', '?', 'DH AH', '?']\n",
            "['In spite of changes. Look for me until']\n",
            "[9.8173516e-03 2.7949354e-06 8.8754728e-02 ... 2.4232015e-04 2.3285644e-05\n",
            " 1.0907160e-04]\n",
            "[67, 0, 31, 0, 7, 0, 31, 0, 30, 0]\n",
            "['IH N', '?', 'DH AH', '?', 'AE N D', '?', 'DH AH', '?', 'T UW', '?']\n",
            "['The parchment of the future, it were vain--']\n",
            "[2.4758264e-02 2.5831953e-06 3.1115159e-03 ... 4.2115492e-04 3.3288270e-05\n",
            " 1.2126232e-04]\n",
            "[31, 0, 0, 0, 0, 0, 31, 0, 0, 0]\n",
            "['DH AH', '?', '?', '?', '?', '?', 'DH AH', '?', '?', '?']\n",
            "['The spirits of the Seasons seem to stand.']\n",
            "[8.8442154e-03 2.2811673e-06 2.7699986e-02 ... 1.6815192e-04 2.0313861e-05\n",
            " 7.9619917e-05]\n",
            "[31, 0, 31, 0, 31, 0, 31, 0, 31, 0]\n",
            "['DH AH', '?', 'DH AH', '?', 'DH AH', '?', 'DH AH', '?', 'DH AH', '?']\n",
            "['For lo! his passion, but an art of craft,']\n",
            "[8.4623154e-03 2.9600233e-06 3.4038443e-02 ... 4.8042802e-04 5.0314342e-05\n",
            " 1.3814181e-04]\n",
            "[36, 0, 40, 0, 0, 0, 10, 0, 40, 0]\n",
            "['AH', '?', 'AH V', '?', '?', '?', 'HH IH Z', '?', 'AH V', '?']\n",
            "['Is due, and not to war, intrepid still']\n",
            "[2.1070149e-02 3.7452123e-06 9.1953659e-03 ... 3.7667472e-04 4.2642507e-05\n",
            " 2.1707924e-04]\n",
            "[86, 0, 36, 0, 31, 0, 31, 0, 36, 0]\n",
            "['IH Z', '?', 'AH', '?', 'DH AH', '?', 'DH AH', '?', 'AH', '?']\n",
            "['Or sleeping, walk a restless world of dreams.']\n",
            "[2.1083381e-03 3.3244200e-06 2.0611668e-03 ... 1.6811265e-04 4.5384106e-05\n",
            " 8.0572281e-05]\n",
            "[50, 0, 31, 0, 31, 0, 31, 0, 31, 0]\n",
            "['AO R', '?', 'DH AH', '?', 'DH AH', '?', 'DH AH', '?', 'DH AH', '?']\n",
            "['Of teaching school, a school of Czechs and Poles']\n",
            "[3.9666989e-03 4.2761894e-06 2.3733968e-02 ... 7.1759470e-04 5.8033464e-05\n",
            " 1.7044805e-04]\n",
            "[40, 0, 31, 0, 0, 0, 31, 0, 7, 0]\n",
            "['AH V', '?', 'DH AH', '?', '?', '?', 'DH AH', '?', 'AE N D', '?']\n",
            "['And drops of blood bedew the conscious lawn;']\n",
            "[2.3745392e-03 1.8565323e-06 1.2342940e-03 ... 9.6436292e-05 3.6238049e-05\n",
            " 4.9845083e-05]\n",
            "[7, 0, 31, 0, 31, 0, 31, 0, 31, 0]\n",
            "['AE N D', '?', 'DH AH', '?', 'DH AH', '?', 'DH AH', '?', 'DH AH', '?']\n",
            "['From daylight till the evening, wet or fine,']\n",
            "[1.1889988e-02 3.3225624e-06 3.6467008e-02 ... 1.5223771e-04 3.7560862e-05\n",
            " 8.8816538e-05]\n",
            "[67, 0, 31, 0, 50, 0, 31, 0, 31, 0]\n",
            "['IH N', '?', 'DH AH', '?', 'AO R', '?', 'DH AH', '?', 'DH AH', '?']\n",
            "['A doom that ever poised itself to fall,']\n",
            "[2.7499873e-02 3.3885756e-06 1.6936574e-02 ... 1.3683461e-04 5.1696265e-05\n",
            " 1.4711384e-04]\n",
            "[36, 0, 36, 0, 36, 0, 31, 0, 31, 0]\n",
            "['AH', '?', 'AH', '?', 'AH', '?', 'DH AH', '?', 'DH AH', '?']\n",
            "['Of wailing women pierce the vaulted skies.']\n",
            "[1.9693391e-03 2.7362123e-06 1.0875063e-02 ... 1.7626616e-04 2.8230790e-05\n",
            " 7.3403717e-05]\n",
            "[40, 0, 31, 0, 31, 0, 31, 0, 31, 0]\n",
            "['AH V', '?', 'DH AH', '?', 'DH AH', '?', 'DH AH', '?', 'DH AH', '?']\n",
            "['To happy havens under all the sky,']\n",
            "[2.9179049e-03 1.8274166e-06 3.8365375e-02 ... 1.3995200e-04 1.9018415e-05\n",
            " 5.6378612e-05]\n",
            "[30, 0, 31, 0, 31, 0, 31, 0, 31, 0]\n",
            "['T UW', '?', 'DH AH', '?', 'DH AH', '?', 'DH AH', '?', 'DH AH', '?']\n",
            "['In purple clusters hangs the vines increase,']\n",
            "[2.5533844e-02 3.2252437e-06 1.1287707e-02 ... 1.4507968e-04 4.1818315e-05\n",
            " 9.2681039e-05]\n",
            "[31, 0, 0, 0, 31, 0, 31, 0, 31, 0]\n",
            "['DH AH', '?', '?', '?', 'DH AH', '?', 'DH AH', '?', 'DH AH', '?']\n",
            "['A shepherd meeting thee, the oar surveys,']\n",
            "[5.64153446e-03 2.77144022e-06 3.39020826e-02 ... 3.40292900e-04\n",
            " 3.78585501e-05 1.10048844e-04]\n",
            "[31, 0, 31, 0, 31, 0, 31, 0, 31, 0]\n",
            "['DH AH', '?', 'DH AH', '?', 'DH AH', '?', 'DH AH', '?', 'DH AH', '?']\n",
            "['The printed passion of the dream remains:--']\n",
            "[1.6789550e-02 3.8200919e-06 9.6483165e-03 ... 3.4361467e-04 4.0074239e-05\n",
            " 1.4976041e-04]\n",
            "[31, 0, 0, 0, 0, 0, 31, 0, 0, 0]\n",
            "['DH AH', '?', '?', '?', '?', '?', 'DH AH', '?', '?', '?']\n",
            "['And piecemeal shares and maims the felon round.']\n",
            "[2.6554703e-03 2.8423274e-06 2.4662777e-03 ... 3.0453459e-04 6.0354960e-05\n",
            " 1.0998537e-04]\n",
            "[7, 0, 31, 0, 7, 0, 31, 0, 31, 0]\n",
            "['AE N D', '?', 'DH AH', '?', 'AE N D', '?', 'DH AH', '?', 'DH AH', '?']\n",
            "['A happy nation, and a happy king.']\n",
            "[5.6887330e-03 2.5654454e-06 1.4819863e-02 ... 3.3114915e-04 3.1236119e-05\n",
            " 1.0970403e-04]\n",
            "[31, 0, 40, 0, 0, 40, 31, 0, 40, 0]\n",
            "['DH AH', '?', 'AH V', '?', '?', 'AH V', 'DH AH', '?', 'AH V', '?']\n",
            "['And Miscreator, makes and helps along']\n",
            "[6.1752750e-03 3.5935905e-06 3.4545509e-03 ... 4.4226990e-04 5.2369345e-05\n",
            " 1.4525132e-04]\n",
            "[7, 0, 31, 0, 7, 0, 31, 0, 31, 0]\n",
            "['AE N D', '?', 'DH AH', '?', 'AE N D', '?', 'DH AH', '?', 'DH AH', '?']\n",
            "['The dashing waters when the air is still']\n",
            "[1.5709246e-02 1.4597757e-06 2.8485686e-02 ... 7.3102579e-05 1.9039247e-05\n",
            " 5.3896863e-05]\n",
            "[31, 0, 31, 0, 31, 0, 31, 0, 31, 0]\n",
            "['DH AH', '?', 'DH AH', '?', 'DH AH', '?', 'DH AH', '?', 'DH AH', '?']\n",
            "['And still its ice the freezing silence kept:']\n",
            "[1.8052824e-02 4.0835771e-06 9.1734220e-04 ... 2.2053694e-04 4.9905819e-05\n",
            " 1.1569174e-04]\n",
            "[7, 0, 31, 0, 31, 0, 31, 0, 31, 0]\n",
            "['AE N D', '?', 'DH AH', '?', 'DH AH', '?', 'DH AH', '?', 'DH AH', '?']\n",
            "['That shrink in misty mournfulness from sight,']\n",
            "[2.0451715e-02 2.6370849e-06 6.1346316e-03 ... 9.5264448e-05 3.2607350e-05\n",
            " 8.9926391e-05]\n",
            "[52, 0, 31, 0, 31, 0, 31, 0, 31, 0]\n",
            "['DH AE T', '?', 'DH AH', '?', 'DH AH', '?', 'DH AH', '?', 'DH AH', '?']\n",
            "['And secret seeds of envy, lay behind;']\n",
            "[1.3028317e-03 2.7342326e-06 2.0497777e-03 ... 2.0864284e-04 3.2514814e-05\n",
            " 7.1933900e-05]\n",
            "[7, 0, 31, 0, 31, 0, 31, 0, 0, 0]\n",
            "['AE N D', '?', 'DH AH', '?', 'DH AH', '?', 'DH AH', '?', '?', '?']\n",
            "['Of trees and crack of branches, common things,']\n",
            "[7.6258890e-03 2.3787011e-06 2.1559265e-02 ... 1.9200348e-04 3.8199010e-05\n",
            " 8.0442391e-05]\n",
            "[40, 0, 7, 0, 7, 0, 7, 0, 7, 0]\n",
            "['AH V', '?', 'AE N D', '?', 'AE N D', '?', 'AE N D', '?', 'AE N D', '?']\n",
            "['And pious tribute at her altars pay:']\n",
            "[1.4684007e-03 2.2314293e-06 1.1438957e-03 ... 3.4067899e-04 3.0058745e-05\n",
            " 7.6548931e-05]\n",
            "[7, 0, 170, 0, 0, 0, 170, 0, 170, 0]\n",
            "['AE N D', '?', 'HH ER', '?', '?', '?', 'HH ER', '?', 'HH ER', '?']\n",
            "['Courageous, and refreshed for future toil,']\n",
            "[1.2358639e-02 3.6911347e-06 3.2077681e-02 ... 3.6143308e-04 4.7388676e-05\n",
            " 1.5407251e-04]\n",
            "[36, 0, 36, 0, 7, 0, 36, 0, 30, 0]\n",
            "['AH', '?', 'AH', '?', 'AE N D', '?', 'AH', '?', 'T UW', '?']\n",
            "['Upon the wall and windows blots of gilt.']\n",
            "[5.2694730e-03 3.0101282e-06 6.1677154e-02 ... 2.4909023e-04 4.2496198e-05\n",
            " 1.0530357e-04]\n",
            "[67, 0, 31, 0, 31, 0, 31, 0, 31, 0]\n",
            "['IH N', '?', 'DH AH', '?', 'DH AH', '?', 'DH AH', '?', 'DH AH', '?']\n",
            "['And lay upon the threshold like a log.']\n",
            "[2.0214519e-03 3.0667238e-06 6.0592075e-03 ... 2.4040826e-04 5.1259754e-05\n",
            " 8.6740503e-05]\n",
            "[7, 0, 31, 0, 31, 0, 31, 0, 31, 0]\n",
            "['AE N D', '?', 'DH AH', '?', 'DH AH', '?', 'DH AH', '?', 'DH AH', '?']\n",
            "['In synod unbenign; and taught the fixed']\n",
            "[2.7962867e-03 2.6955258e-06 1.2982692e-02 ... 1.0595372e-03 3.9323455e-05\n",
            " 1.2082660e-04]\n",
            "[31, 0, 31, 0, 31, 0, 31, 0, 31, 0]\n",
            "['DH AH', '?', 'DH AH', '?', 'DH AH', '?', 'DH AH', '?', 'DH AH', '?']\n",
            "['And left him to his rest.  An end of Love.']\n",
            "[1.9440183e-03 1.7978280e-06 8.8273000e-04 ... 2.7415575e-04 3.2925225e-05\n",
            " 5.1931660e-05]\n",
            "[7, 0, 10, 0, 10, 0, 10, 0, 10, 0]\n",
            "['AE N D', '?', 'HH IH Z', '?', 'HH IH Z', '?', 'HH IH Z', '?', 'HH IH Z', '?']\n",
            "['And human hearts and minds to show it by,']\n",
            "[2.0837332e-03 2.4794986e-06 2.3583500e-03 ... 5.3220749e-04 3.4668887e-05\n",
            " 9.9170793e-05]\n",
            "[7, 0, 31, 0, 7, 0, 7, 0, 7, 0]\n",
            "['AE N D', '?', 'DH AH', '?', 'AE N D', '?', 'AE N D', '?', 'AE N D', '?']\n",
            "['The outward struggle and the inward strife.']\n",
            "[7.7599925e-03 1.8931687e-06 5.7770401e-02 ... 2.2334437e-04 2.4818009e-05\n",
            " 9.7657277e-05]\n",
            "[31, 0, 40, 0, 7, 7, 31, 0, 40, 0]\n",
            "['DH AH', '?', 'AH V', '?', 'AE N D', 'AE N D', 'DH AH', '?', 'AH V', '?']\n",
            "['His arms and bosom, seem to melt away.']\n",
            "[2.69415081e-02 4.51401911e-06 1.86239381e-03 ... 1.94758715e-04\n",
            " 8.25768075e-05 1.01757934e-04]\n",
            "[10, 0, 0, 0, 7, 0, 10, 0, 10, 0]\n",
            "['HH IH Z', '?', '?', '?', 'AE N D', '?', 'HH IH Z', '?', 'HH IH Z', '?']\n",
            "['And noise, and tumult rises from the crowd.']\n",
            "[7.8677535e-03 2.4941908e-06 1.8935699e-03 ... 1.4653214e-04 4.3834665e-05\n",
            " 7.3492600e-05]\n",
            "[7, 0, 31, 0, 31, 0, 31, 0, 31, 0]\n",
            "['AE N D', '?', 'DH AH', '?', 'DH AH', '?', 'DH AH', '?', 'DH AH', '?']\n",
            "['Cannot devise a torment, so it be']\n",
            "[2.1819314e-02 2.6275532e-06 8.4447926e-03 ... 3.9904000e-04 3.0184849e-05\n",
            " 1.5947946e-04]\n",
            "[399, 0, 36, 0, 30, 0, 36, 0, 36, 0]\n",
            "['IH F', '?', 'AH', '?', 'T UW', '?', 'AH', '?', 'AH', '?']\n",
            "['The damsel put the pair without reply:']\n",
            "[1.2196603e-02 3.8032513e-06 5.4870388e-03 ... 3.3844434e-04 5.0593790e-05\n",
            " 1.0167026e-04]\n",
            "[31, 0, 0, 0, 7, 0, 31, 0, 36, 0]\n",
            "['DH AH', '?', '?', '?', 'AE N D', '?', 'DH AH', '?', 'AH', '?']\n",
            "['Or that it hardens more and helps to bind']\n",
            "[1.0940583e-02 4.0878904e-06 1.1999335e-03 ... 4.8834406e-04 7.7921693e-05\n",
            " 1.4923056e-04]\n",
            "[50, 0, 31, 0, 31, 0, 31, 0, 31, 0]\n",
            "['AO R', '?', 'DH AH', '?', 'DH AH', '?', 'DH AH', '?', 'DH AH', '?']\n",
            "['And flowing waters, and the starry flame,']\n",
            "[1.1605661e-03 1.4895044e-06 2.7540384e-03 ... 9.0655485e-05 2.3855891e-05\n",
            " 3.5448051e-05]\n",
            "[7, 0, 31, 0, 31, 0, 31, 0, 31, 0]\n",
            "['AE N D', '?', 'DH AH', '?', 'DH AH', '?', 'DH AH', '?', 'DH AH', '?']\n",
            "['The spoil or spoiler? this behold in me;']\n",
            "[1.0267880e-02 2.1191161e-06 1.1758096e-02 ... 2.5903003e-04 2.6299565e-05\n",
            " 1.3275490e-04]\n",
            "[31, 0, 31, 0, 31, 40, 31, 0, 31, 0]\n",
            "['DH AH', '?', 'DH AH', '?', 'DH AH', 'AH V', 'DH AH', '?', 'DH AH', '?']\n",
            "['And rode with them, and spake to none; the day']\n",
            "[7.8613620e-04 2.5064878e-06 4.0830546e-03 ... 4.2618267e-04 3.5095840e-05\n",
            " 6.4639040e-05]\n",
            "[7, 0, 31, 0, 7, 0, 31, 0, 31, 0]\n",
            "['AE N D', '?', 'DH AH', '?', 'AE N D', '?', 'DH AH', '?', 'DH AH', '?']\n",
            "['Of finest metal was her armour bright,']\n",
            "[1.2181939e-02 4.2051747e-06 8.5469568e-03 ... 2.0571749e-04 5.2615131e-05\n",
            " 1.2336786e-04]\n",
            "[170, 0, 0, 0, 170, 0, 170, 0, 31, 0]\n",
            "['HH ER', '?', '?', '?', 'HH ER', '?', 'HH ER', '?', 'DH AH', '?']\n",
            "['The doleful city all around invest,']\n",
            "[8.2478961e-03 2.3190582e-06 2.4238931e-02 ... 2.2186417e-04 3.3454999e-05\n",
            " 1.2067909e-04]\n",
            "[31, 0, 31, 0, 0, 0, 31, 0, 0, 0]\n",
            "['DH AH', '?', 'DH AH', '?', '?', '?', 'DH AH', '?', '?', '?']\n",
            "['Of crowded cities, was from passing tale']\n",
            "[7.0547643e-03 2.9484129e-06 2.9304337e-02 ... 3.0068716e-04 3.3020031e-05\n",
            " 1.1705700e-04]\n",
            "[31, 0, 31, 0, 31, 0, 31, 0, 31, 0]\n",
            "['DH AH', '?', 'DH AH', '?', 'DH AH', '?', 'DH AH', '?', 'DH AH', '?']\n",
            "['An Arab fearless as the face of Truth']\n",
            "[7.9136342e-03 2.1656010e-06 1.6444352e-02 ... 3.3331849e-04 3.0264951e-05\n",
            " 1.1594908e-04]\n",
            "[36, 0, 40, 0, 0, 0, 31, 0, 40, 0]\n",
            "['AH', '?', 'AH V', '?', '?', '?', 'DH AH', '?', 'AH V', '?']\n",
            "['It lightened toil, and took the edge from pain,']\n",
            "[1.3055354e-02 1.8147560e-06 8.3506284e-03 ... 1.7968725e-04 3.1383683e-05\n",
            " 7.1085808e-05]\n",
            "[31, 0, 31, 0, 7, 0, 7, 0, 7, 0]\n",
            "['DH AH', '?', 'DH AH', '?', 'AE N D', '?', 'AE N D', '?', 'AE N D', '?']\n",
            "['That brought with it another civil war.']\n",
            "[1.2576314e-02 3.2695980e-06 6.7618238e-03 ... 4.2501499e-04 4.7166086e-05\n",
            " 1.5889310e-04]\n",
            "[31, 0, 31, 0, 31, 0, 31, 0, 31, 0]\n",
            "['DH AH', '?', 'DH AH', '?', 'DH AH', '?', 'DH AH', '?', 'DH AH', '?']\n",
            "['Apart from all, in pride of conscious strength,']\n",
            "[1.0131110e-02 3.4634193e-06 1.2607041e-02 ... 4.6469498e-04 5.1352174e-05\n",
            " 1.6459284e-04]\n",
            "[40, 0, 7, 0, 7, 0, 7, 0, 7, 0]\n",
            "['AH V', '?', 'AE N D', '?', 'AE N D', '?', 'AE N D', '?', 'AE N D', '?']\n",
            "['And far and near throughout the land the men']\n",
            "[1.0380682e-03 2.3663856e-06 1.2362976e-02 ... 2.7025852e-04 3.2983491e-05\n",
            " 7.0799098e-05]\n",
            "[7, 0, 31, 0, 31, 0, 31, 0, 31, 0]\n",
            "['AE N D', '?', 'DH AH', '?', 'DH AH', '?', 'DH AH', '?', 'DH AH', '?']\n",
            "['Remembered--I. And, oh! a little while']\n",
            "[2.8859423e-02 5.0724384e-06 1.1868295e-01 ... 2.5213938e-04 6.1092222e-05\n",
            " 2.0501629e-04]\n",
            "[36, 0, 36, 0, 7, 0, 36, 0, 36, 0]\n",
            "['AH', '?', 'AH', '?', 'AE N D', '?', 'AH', '?', 'AH', '?']\n",
            "['And clip his borders short, and drive his herds,']\n",
            "[7.6462241e-04 1.7543334e-06 2.6036445e-03 ... 2.1195547e-04 4.8679845e-05\n",
            " 5.2326566e-05]\n",
            "[7, 0, 10, 0, 7, 0, 31, 0, 31, 0]\n",
            "['AE N D', '?', 'HH IH Z', '?', 'AE N D', '?', 'DH AH', '?', 'DH AH', '?']\n",
            "['And suffer me in anguish to depart']\n",
            "[1.5516174e-03 2.0214732e-06 3.6768138e-03 ... 2.1631375e-04 2.4501291e-05\n",
            " 6.3071246e-05]\n",
            "[7, 0, 31, 0, 30, 0, 7, 0, 30, 0]\n",
            "['AE N D', '?', 'DH AH', '?', 'T UW', '?', 'AE N D', '?', 'T UW', '?']\n",
            "['The king from sovereign peril saved his head,']\n",
            "[7.4675707e-03 2.8502127e-06 3.7459119e-03 ... 4.7913988e-04 5.6073259e-05\n",
            " 1.3085712e-04]\n",
            "[31, 0, 31, 0, 31, 0, 31, 0, 31, 0]\n",
            "['DH AH', '?', 'DH AH', '?', 'DH AH', '?', 'DH AH', '?', 'DH AH', '?']\n",
            "['The point is turned; the twilight shadow fills']\n",
            "[3.0948291e-02 3.5790413e-06 7.8453450e-03 ... 1.7449690e-04 4.0875628e-05\n",
            " 1.1394405e-04]\n",
            "[52, 0, 31, 0, 31, 0, 31, 0, 31, 0]\n",
            "['DH AE T', '?', 'DH AH', '?', 'DH AH', '?', 'DH AH', '?', 'DH AH', '?']\n",
            "['Arriving all confused among the rest']\n",
            "[5.1581720e-03 3.3563974e-06 9.0082496e-02 ... 2.7848408e-04 4.0843290e-05\n",
            " 1.2856712e-04]\n",
            "[36, 0, 31, 0, 7, 0, 31, 0, 31, 0]\n",
            "['AH', '?', 'DH AH', '?', 'AE N D', '?', 'DH AH', '?', 'DH AH', '?']\n"
          ],
          "name": "stdout"
        }
      ]
    },
    {
      "metadata": {
        "id": "yyDGVtigW57f",
        "colab_type": "code",
        "outputId": "f6462842-3cd4-4164-920f-fc04c5a9df0e",
        "colab": {
          "base_uri": "https://localhost:8080/",
          "height": 235
        }
      },
      "cell_type": "code",
      "source": [
        "categories = df_train.label.cat.categories.tolist()\n",
        "predict_logits = predicts.argmax(axis=1)\n",
        "print(\"Categorie: {0}\".format(categories))\n",
        "predict_labels = [categories[logit] for logit in predict_logits]\n",
        "predict_labels"
      ],
      "execution_count": 37,
      "outputs": [
        {
          "output_type": "error",
          "ename": "NameError",
          "evalue": "ignored",
          "traceback": [
            "\u001b[0;31m---------------------------------------------------------------------------\u001b[0m",
            "\u001b[0;31mNameError\u001b[0m                                 Traceback (most recent call last)",
            "\u001b[0;32m<ipython-input-37-7f6e6bf5580f>\u001b[0m in \u001b[0;36m<module>\u001b[0;34m()\u001b[0m\n\u001b[0;32m----> 1\u001b[0;31m \u001b[0mcategories\u001b[0m \u001b[0;34m=\u001b[0m \u001b[0mdf_train\u001b[0m\u001b[0;34m.\u001b[0m\u001b[0mlabel\u001b[0m\u001b[0;34m.\u001b[0m\u001b[0mcat\u001b[0m\u001b[0;34m.\u001b[0m\u001b[0mcategories\u001b[0m\u001b[0;34m.\u001b[0m\u001b[0mtolist\u001b[0m\u001b[0;34m(\u001b[0m\u001b[0;34m)\u001b[0m\u001b[0;34m\u001b[0m\u001b[0m\n\u001b[0m\u001b[1;32m      2\u001b[0m \u001b[0mpredict_logits\u001b[0m \u001b[0;34m=\u001b[0m \u001b[0mpredicts\u001b[0m\u001b[0;34m.\u001b[0m\u001b[0margmax\u001b[0m\u001b[0;34m(\u001b[0m\u001b[0maxis\u001b[0m\u001b[0;34m=\u001b[0m\u001b[0;36m1\u001b[0m\u001b[0;34m)\u001b[0m\u001b[0;34m\u001b[0m\u001b[0m\n\u001b[1;32m      3\u001b[0m \u001b[0mprint\u001b[0m\u001b[0;34m(\u001b[0m\u001b[0;34m\"Categorie: {0}\"\u001b[0m\u001b[0;34m.\u001b[0m\u001b[0mformat\u001b[0m\u001b[0;34m(\u001b[0m\u001b[0mcategories\u001b[0m\u001b[0;34m)\u001b[0m\u001b[0;34m)\u001b[0m\u001b[0;34m\u001b[0m\u001b[0m\n\u001b[1;32m      4\u001b[0m \u001b[0mpredict_labels\u001b[0m \u001b[0;34m=\u001b[0m \u001b[0;34m[\u001b[0m\u001b[0mcategories\u001b[0m\u001b[0;34m[\u001b[0m\u001b[0mlogit\u001b[0m\u001b[0;34m]\u001b[0m \u001b[0;32mfor\u001b[0m \u001b[0mlogit\u001b[0m \u001b[0;32min\u001b[0m \u001b[0mpredict_logits\u001b[0m\u001b[0;34m]\u001b[0m\u001b[0;34m\u001b[0m\u001b[0m\n\u001b[1;32m      5\u001b[0m \u001b[0mpredict_labels\u001b[0m\u001b[0;34m\u001b[0m\u001b[0m\n",
            "\u001b[0;31mNameError\u001b[0m: name 'df_train' is not defined"
          ]
        }
      ]
    },
    {
      "metadata": {
        "id": "hYhmukbSKpnp",
        "colab_type": "code",
        "colab": {
          "base_uri": "https://localhost:8080/",
          "height": 183
        },
        "outputId": "fa09a97d-de23-4bd8-8e2a-5e44774ba26d"
      },
      "cell_type": "code",
      "source": [
        "\n",
        "os.remove('./model.h5')"
      ],
      "execution_count": 41,
      "outputs": [
        {
          "output_type": "error",
          "ename": "FileNotFoundError",
          "evalue": "ignored",
          "traceback": [
            "\u001b[0;31m---------------------------------------------------------------------------\u001b[0m",
            "\u001b[0;31mFileNotFoundError\u001b[0m                         Traceback (most recent call last)",
            "\u001b[0;32m<ipython-input-41-13211db72c4c>\u001b[0m in \u001b[0;36m<module>\u001b[0;34m()\u001b[0m\n\u001b[1;32m      1\u001b[0m \u001b[0;34m\u001b[0m\u001b[0m\n\u001b[0;32m----> 2\u001b[0;31m \u001b[0mos\u001b[0m\u001b[0;34m.\u001b[0m\u001b[0mremove\u001b[0m\u001b[0;34m(\u001b[0m\u001b[0;34m'./model.h5'\u001b[0m\u001b[0;34m)\u001b[0m\u001b[0;34m\u001b[0m\u001b[0m\n\u001b[0m",
            "\u001b[0;31mFileNotFoundError\u001b[0m: [Errno 2] No such file or directory: './model.h5'"
          ]
        }
      ]
    }
  ]
}