{
  "nbformat": 4,
  "nbformat_minor": 0,
  "metadata": {
    "colab": {
      "name": "Deep Meter: Keras + Universal Sentence Encoder + CMUdict + Project Gutenberg poetry archives",
      "version": "0.3.2",
      "provenance": [],
      "collapsed_sections": []
    },
    "kernelspec": {
      "name": "python3",
      "display_name": "Python 3"
    },
    "accelerator": "GPU"
  },
  "cells": [
    {
      "metadata": {
        "id": "co7MV6sX7Xto",
        "colab_type": "text"
      },
      "cell_type": "markdown",
      "source": [
        "# [Keras + Universal Sentence Encoder = Deep Meter](https://www.dlology.com/blog/keras-meets-universal-sentence-encoder-transfer-learning-for-text-data/) "
      ]
    },
    {
      "metadata": {
        "id": "eAVQGidpL8v5",
        "colab_type": "text"
      },
      "cell_type": "markdown",
      "source": [
        "This notebook creates an autoencoder using the Universal Sentence Encoder. The autoencoder output is CMUdict syllables. The dataset is that subset of Allison Parrish's Project Gutenberg poetry archive which happens to scan in iambic pentameter.\n",
        "\n",
        "The notebook is based on Chengwei Zhang's example of wrapping the USE inside a larger tensorflow model saves to a Keras model (without save the USE itself in the TF model).\n",
        "\n",
        "The Universal Sentence Encoder makes getting sentence level embeddings as easy as it has historically been to lookup the embeddings for individual words. The sentence embeddings can then be trivially used to compute sentence level meaning similarity as well as to enable better performance on downstream classification tasks using less supervised training data.\n",
        "\n",
        "Since there are 10 one-hot values for 10 sets of 6k syllables, this is \"multi-label classification\"\n",
        "Changes for multi-label classification:\n",
        "sigmoid activation instead of softmax\n",
        "binary_crossentropy\n",
        "\n",
        "Text format is tab-separated, 2 columns: first text, second multi-level\n",
        "array of syllables:\n"
      ]
    },
    {
      "metadata": {
        "id": "pOTzp8O36CyQ",
        "colab_type": "text"
      },
      "cell_type": "markdown",
      "source": [
        "# Getting Started\n",
        "\n",
        "This section sets up the environment for access to the Universal Sentence Encoder on TF Hub and provides examples of applying the encoder to words, sentences, and paragraphs."
      ]
    },
    {
      "metadata": {
        "id": "lVjNK8shFKOC",
        "colab_type": "code",
        "outputId": "6d7ffdb7-c4d8-498a-fd97-bbd038b34c7d",
        "colab": {
          "base_uri": "https://localhost:8080/",
          "height": 289
        }
      },
      "cell_type": "code",
      "source": [
        "# Install the latest Tensorflow version.\n",
        "!pip3 install --quiet \"tensorflow>=1.7\"\n",
        "# Install TF-Hub.\n",
        "!pip3 install --quiet tensorflow-hub\n",
        "%cd /content\n",
        "!git clone https://github.com/LanceNorskog/deep_meter || true\n",
        "%cd deep_meter\n",
        "!git pull\n",
        "# could not figure out how to read gzipped files as text!\n",
        "!gunzip -qf blobs/*.gz || true\n",
        "!gunzip -qf prepped_data/*.gz || true"
      ],
      "execution_count": 1,
      "outputs": [
        {
          "output_type": "stream",
          "text": [
            "/content\n",
            "fatal: destination path 'deep_meter' already exists and is not an empty directory.\n",
            "/content/deep_meter\n",
            "remote: Enumerating objects: 5, done.\u001b[K\n",
            "remote: Counting objects: 100% (5/5), done.\u001b[K\n",
            "remote: Compressing objects: 100% (1/1), done.\u001b[K\n",
            "remote: Total 3 (delta 2), reused 3 (delta 2), pack-reused 0\u001b[K\n",
            "Unpacking objects: 100% (3/3), done.\n",
            "From https://github.com/LanceNorskog/deep_meter\n",
            "   5ea83be..7b7f079  master     -> origin/master\n",
            "Updating 5ea83be..7b7f079\n",
            "Fast-forward\n",
            " ...Udict_+_Project_Gutenberg_poetry_archives.ipynb | 618 \u001b[32m+++++++++\u001b[m\u001b[31m------------\u001b[m\n",
            " 1 file changed, 270 insertions(+), 348 deletions(-)\n",
            "gzip: blobs/*.gz: No such file or directory\n",
            "gzip: prepped_data/*.gz: No such file or directory\n"
          ],
          "name": "stdout"
        }
      ]
    },
    {
      "metadata": {
        "id": "MSeY-MUQo2Ha",
        "colab_type": "code",
        "colab": {}
      },
      "cell_type": "code",
      "source": [
        "# boilerplate from base notebook\n",
        "import tensorflow as tf\n",
        "import tensorflow_hub as hub\n",
        "import matplotlib.pyplot as plt\n",
        "import numpy as np\n",
        "import os\n",
        "import pandas as pd\n",
        "import re\n",
        "import seaborn as sns\n",
        "import keras.layers as layers\n",
        "from keras.models import Model\n",
        "from keras import backend as K\n",
        "from keras.callbacks import EarlyStopping, ModelCheckpoint\n",
        "from tensorflow.keras.optimizers import Nadam, Adam\n",
        "np.random.seed(10)"
      ],
      "execution_count": 0,
      "outputs": []
    },
    {
      "metadata": {
        "id": "feBc_8Y-pt6F",
        "colab_type": "code",
        "colab": {}
      },
      "cell_type": "code",
      "source": [
        "# github deep_meter code\n",
        "import utils\n",
        "# should not need this to use utils.flatten but is true anyway?\n",
        "from itertools import chain\n",
        "import subprocess\n",
        "import syllables\n",
        "# misc for this notebook\n",
        "from ast import literal_eval\n",
        "\n",
        "import scipy\n",
        "\n"
      ],
      "execution_count": 0,
      "outputs": []
    },
    {
      "metadata": {
        "id": "zwty8Z6mAkdV",
        "colab_type": "code",
        "colab": {}
      },
      "cell_type": "code",
      "source": [
        "module_url = \"https://tfhub.dev/google/universal-sentence-encoder-large/3\" #@param [\"https://tfhub.dev/google/universal-sentence-encoder/2\", \"https://tfhub.dev/google/universal-sentence-encoder-large/3\"]"
      ],
      "execution_count": 0,
      "outputs": []
    },
    {
      "metadata": {
        "id": "Q8F4LNGFqOiq",
        "colab_type": "code",
        "outputId": "8d573b58-d482-48c1-c3d1-80aff1f6bb07",
        "colab": {
          "base_uri": "https://localhost:8080/",
          "height": 34
        }
      },
      "cell_type": "code",
      "source": [
        "# Import the Universal Sentence Encoder's TF Hub module\n",
        "embed = hub.Module(module_url)\n",
        "embed_size = embed.get_output_info_dict()['default'].get_shape()[1].value"
      ],
      "execution_count": 7,
      "outputs": [
        {
          "output_type": "stream",
          "text": [
            "INFO:tensorflow:Using /tmp/tfhub_modules to cache modules.\n"
          ],
          "name": "stdout"
        }
      ]
    },
    {
      "metadata": {
        "id": "FwAQNy1eMDkQ",
        "colab_type": "code",
        "colab": {}
      },
      "cell_type": "code",
      "source": [
        "# read classified poetry lines: text tab [['syll', 'la', 'ble'], ...]\n",
        "# clip to only most common syllables with syllable manager\n",
        "def get_data(filename, syll_mgr, num_symbols):\n",
        "    lines = open(filename, 'r').read().splitlines()\n",
        "    text_lines = []\n",
        "    enc_array = []\n",
        "    num_syllables = syll_mgr.get_size()\n",
        "    for i in range(0, len(lines)):\n",
        "      parts = lines[i].split(\"\\t\")\n",
        "      label = utils.flatten(literal_eval(parts[1]))\n",
        "      if len(label) != num_symbols:\n",
        "        continue\n",
        "      enc = np.zeros((num_symbols * syll_mgr.get_size()), dtype=np.int8)\n",
        "      for j in range(num_symbols):\n",
        "        enc[num_syllables * j + syll_mgr.get_encoding(label[j])] = 1\n",
        "      text_lines.append([parts[0]])\n",
        "      enc_array.append(enc)\n",
        "\n",
        "    return (np.array(text_lines), np.array(enc_array))\n"
      ],
      "execution_count": 0,
      "outputs": []
    },
    {
      "metadata": {
        "id": "3HAtd4X5DayF",
        "colab_type": "code",
        "colab": {}
      },
      "cell_type": "code",
      "source": [
        "# syllables in descending order of occurrence - 6k in gutenberg.iambic_pentameter, 15k total\n",
        "# clamp to most common 100 syllables while debugging- use NCE to get all syllables or interesting number\n",
        "# 98 + pause + wildcard\n",
        "# iambic pentameter\n",
        "num_symbols = 10\n",
        "#syll_mgr = syllables.syllables(num_syllables)\n",
        "syll_mgr = syllables.syllables()\n",
        "num_syllables = syll_mgr.get_size() \n",
        "\n"
      ],
      "execution_count": 0,
      "outputs": []
    },
    {
      "metadata": {
        "id": "eN9aqig-QpDZ",
        "colab_type": "code",
        "colab": {
          "base_uri": "https://localhost:8080/",
          "height": 34
        },
        "outputId": "976ad91a-add2-4946-b05e-5a89bae76889"
      },
      "cell_type": "code",
      "source": [
        "(train_text, train_label) = get_data('prepped_data/gutenberg.iambic_pentameter.train', syll_mgr, num_symbols)\n",
        "num_training = len(train_text)\n",
        "#train_text = train_text[0:10000]\n",
        "#train_label = train_label[0:10000]\n",
        "\n",
        "(test_text, test_label) = get_data('prepped_data/gutenberg.iambic_pentameter.test', syll_mgr, num_symbols)\n",
        "num_testing = len(test_text)\n",
        "train_label.shape\n"
      ],
      "execution_count": 26,
      "outputs": [
        {
          "output_type": "execute_result",
          "data": {
            "text/plain": [
              "(58498, 66350)"
            ]
          },
          "metadata": {
            "tags": []
          },
          "execution_count": 26
        }
      ]
    },
    {
      "metadata": {
        "id": "-mQUV_7dIm-9",
        "colab_type": "code",
        "colab": {}
      },
      "cell_type": "code",
      "source": [
        "\n",
        "# slow\n",
        "num_epochs = 50\n",
        "adam_0001 = Adam(0.0001)\n",
        "adam_0001 = tf.contrib.opt.NadamOptimizer(0.0001)"
      ],
      "execution_count": 0,
      "outputs": []
    },
    {
      "metadata": {
        "id": "Sf9A4Xl6J7c6",
        "colab_type": "text"
      },
      "cell_type": "markdown",
      "source": [
        "## Wrap embed module in a Lambda layer\n",
        "Explicitly cast the input as a string"
      ]
    },
    {
      "metadata": {
        "id": "PRD3fWgJjOrP",
        "colab_type": "code",
        "colab": {}
      },
      "cell_type": "code",
      "source": [
        "def UniversalEmbedding(x):\n",
        "    return embed(tf.squeeze(tf.cast(x, tf.string)), signature=\"default\", as_dict=True)[\"default\"]\n"
      ],
      "execution_count": 0,
      "outputs": []
    },
    {
      "metadata": {
        "id": "qXdBwma1fUsn",
        "colab_type": "code",
        "colab": {}
      },
      "cell_type": "code",
      "source": [
        "def weighted_binary_crossentropy(positive_weights, y_pred):\n",
        "    y_true = K.cast(K.greater(positive_weights, 1), K.floatx())\n",
        "    loss = -positive_weights*y_true*K.log(y_pred + K.epsilon()) - (1-y_true)*K.log(1 - y_pred + K.epsilon())\n",
        "    return K.mean(loss, axis=-1)"
      ],
      "execution_count": 0,
      "outputs": []
    },
    {
      "metadata": {
        "id": "qX2rBOuxDP1m",
        "colab_type": "text"
      },
      "cell_type": "markdown",
      "source": [
        "## Assemble model"
      ]
    },
    {
      "metadata": {
        "id": "t3fllZkVjXKV",
        "colab_type": "code",
        "outputId": "16dd63fb-37a3-4d3b-950d-e1d0a2e23413",
        "colab": {
          "base_uri": "https://localhost:8080/",
          "height": 459
        }
      },
      "cell_type": "code",
      "source": [
        "# changed accuracy from 'choose your own accuracy'\n",
        "input_text = layers.Input(shape=(1,), dtype=tf.string)\n",
        "embedding = layers.Lambda(UniversalEmbedding, output_shape=(embed_size,), name='TF-Hub')(input_text)\n",
        "dropout_input = layers.Dropout(0.2)(embedding)\n",
        "dense = layers.Dense(768, activation='relu', name='Convoluted')(dropout_input)\n",
        "dense = layers.Dropout(0.2)(dense)\n",
        "dense = layers.Dense(1024, activation='relu', name='Medium')(dense)\n",
        "dense = layers.Dropout(0.2)(dense)\n",
        "dense = layers.Dense(2048, activation='relu', name='Smooth')(dense)\n",
        "pred = layers.Dense(num_symbols * num_syllables, activation='sigmoid', name='Flatout')(dense)\n",
        "model = Model(inputs=[input_text], outputs=pred)\n",
        "model.compile(loss='binary_crossentropy', \n",
        "              optimizer=adam_0001, \n",
        "              metrics=['binary_accuracy','categorical_accuracy'],\n",
        "              loss_weights=inverse_zipf)\n",
        "model.summary()"
      ],
      "execution_count": 29,
      "outputs": [
        {
          "output_type": "stream",
          "text": [
            "INFO:tensorflow:Saver not created because there are no variables in the graph to restore\n",
            "_________________________________________________________________\n",
            "Layer (type)                 Output Shape              Param #   \n",
            "=================================================================\n",
            "input_3 (InputLayer)         (None, 1)                 0         \n",
            "_________________________________________________________________\n",
            "TF-Hub (Lambda)              (None, 512)               0         \n",
            "_________________________________________________________________\n",
            "dropout_7 (Dropout)          (None, 512)               0         \n",
            "_________________________________________________________________\n",
            "Convoluted (Dense)           (None, 768)               393984    \n",
            "_________________________________________________________________\n",
            "dropout_8 (Dropout)          (None, 768)               0         \n",
            "_________________________________________________________________\n",
            "Medium (Dense)               (None, 1024)              787456    \n",
            "_________________________________________________________________\n",
            "dropout_9 (Dropout)          (None, 1024)              0         \n",
            "_________________________________________________________________\n",
            "Smooth (Dense)               (None, 2048)              2099200   \n",
            "_________________________________________________________________\n",
            "Flatout (Dense)              (None, 66350)             135951150 \n",
            "=================================================================\n",
            "Total params: 139,231,790\n",
            "Trainable params: 139,231,790\n",
            "Non-trainable params: 0\n",
            "_________________________________________________________________\n"
          ],
          "name": "stdout"
        }
      ]
    },
    {
      "metadata": {
        "id": "bqcRy_JWXe0u",
        "colab_type": "text"
      },
      "cell_type": "markdown",
      "source": [
        "## Train Keras model and save weights\n",
        "This only trains and save our Keras layers not the embed module' weights."
      ]
    },
    {
      "metadata": {
        "id": "_stfC_7VFhS8",
        "colab_type": "code",
        "outputId": "ae376911-2ba8-4519-cd6d-5e2a20f97254",
        "colab": {
          "base_uri": "https://localhost:8080/",
          "height": 700
        }
      },
      "cell_type": "code",
      "source": [
        "use_saved_model=False\n",
        "retrain=False\n",
        "if not use_saved_model or not os.path.exists('./model.h5'):\n",
        "  with tf.Session() as session:\n",
        "    K.set_session(session)\n",
        "    session.run(tf.global_variables_initializer())\n",
        "    if retrain:\n",
        "      model.load_weights('./model.h5')  \n",
        "    else:\n",
        "      session.run(tf.tables_initializer())\n",
        "    history = model.fit(train_text, \n",
        "            train_label,\n",
        "            validation_data=(test_text, test_label),\n",
        "            epochs=num_epochs,\n",
        "            callbacks = [EarlyStopping(patience=2)],\n",
        "            batch_size=32,\n",
        "            verbose=2)\n",
        "    model.save_weights('./model.h5')\n"
      ],
      "execution_count": 30,
      "outputs": [
        {
          "output_type": "stream",
          "text": [
            "Train on 58498 samples, validate on 4200 samples\n",
            "Epoch 1/50\n",
            " - 285s - loss: 0.0115 - binary_accuracy: 0.9989 - categorical_accuracy: 0.2058 - val_loss: 0.0011 - val_binary_accuracy: 0.9998 - val_categorical_accuracy: 0.2283\n",
            "Epoch 2/50\n",
            " - 279s - loss: 0.0011 - binary_accuracy: 0.9998 - categorical_accuracy: 0.2512 - val_loss: 0.0011 - val_binary_accuracy: 0.9998 - val_categorical_accuracy: 0.3350\n",
            "Epoch 3/50\n",
            " - 279s - loss: 0.0010 - binary_accuracy: 0.9999 - categorical_accuracy: 0.3257 - val_loss: 0.0010 - val_binary_accuracy: 0.9999 - val_categorical_accuracy: 0.3414\n",
            "Epoch 4/50\n",
            " - 279s - loss: 0.0010 - binary_accuracy: 0.9999 - categorical_accuracy: 0.3440 - val_loss: 0.0010 - val_binary_accuracy: 0.9999 - val_categorical_accuracy: 0.3490\n",
            "Epoch 5/50\n",
            " - 278s - loss: 0.0010 - binary_accuracy: 0.9999 - categorical_accuracy: 0.3799 - val_loss: 0.0010 - val_binary_accuracy: 0.9999 - val_categorical_accuracy: 0.4360\n",
            "Epoch 6/50\n",
            " - 279s - loss: 9.9142e-04 - binary_accuracy: 0.9999 - categorical_accuracy: 0.4224 - val_loss: 9.8322e-04 - val_binary_accuracy: 0.9999 - val_categorical_accuracy: 0.4688\n",
            "Epoch 7/50\n",
            " - 279s - loss: 9.6557e-04 - binary_accuracy: 0.9999 - categorical_accuracy: 0.4703 - val_loss: 9.6261e-04 - val_binary_accuracy: 0.9999 - val_categorical_accuracy: 0.5060\n",
            "Epoch 8/50\n",
            " - 278s - loss: 9.3720e-04 - binary_accuracy: 0.9999 - categorical_accuracy: 0.5000 - val_loss: 9.3794e-04 - val_binary_accuracy: 0.9999 - val_categorical_accuracy: 0.5433\n",
            "Epoch 9/50\n",
            " - 279s - loss: 9.0574e-04 - binary_accuracy: 0.9999 - categorical_accuracy: 0.5144 - val_loss: 9.1612e-04 - val_binary_accuracy: 0.9999 - val_categorical_accuracy: 0.5552\n",
            "Epoch 10/50\n",
            " - 279s - loss: 8.7651e-04 - binary_accuracy: 0.9999 - categorical_accuracy: 0.5281 - val_loss: 8.9764e-04 - val_binary_accuracy: 0.9999 - val_categorical_accuracy: 0.5538\n",
            "Epoch 11/50\n",
            " - 278s - loss: 8.5067e-04 - binary_accuracy: 0.9999 - categorical_accuracy: 0.5362 - val_loss: 8.8480e-04 - val_binary_accuracy: 0.9999 - val_categorical_accuracy: 0.5700\n",
            "Epoch 12/50\n",
            " - 278s - loss: 8.2634e-04 - binary_accuracy: 0.9999 - categorical_accuracy: 0.5435 - val_loss: 8.7443e-04 - val_binary_accuracy: 0.9999 - val_categorical_accuracy: 0.5750\n",
            "Epoch 13/50\n",
            " - 279s - loss: 8.0300e-04 - binary_accuracy: 0.9999 - categorical_accuracy: 0.5474 - val_loss: 8.6881e-04 - val_binary_accuracy: 0.9999 - val_categorical_accuracy: 0.5802\n",
            "Epoch 14/50\n",
            " - 278s - loss: 7.7910e-04 - binary_accuracy: 0.9999 - categorical_accuracy: 0.5478 - val_loss: 8.6374e-04 - val_binary_accuracy: 0.9999 - val_categorical_accuracy: 0.5748\n",
            "Epoch 15/50\n",
            " - 278s - loss: 7.5474e-04 - binary_accuracy: 0.9999 - categorical_accuracy: 0.5480 - val_loss: 8.6382e-04 - val_binary_accuracy: 0.9999 - val_categorical_accuracy: 0.5795\n",
            "Epoch 16/50\n",
            " - 277s - loss: 7.2928e-04 - binary_accuracy: 0.9999 - categorical_accuracy: 0.5425 - val_loss: 8.5875e-04 - val_binary_accuracy: 0.9999 - val_categorical_accuracy: 0.5717\n",
            "Epoch 17/50\n",
            " - 279s - loss: 7.0257e-04 - binary_accuracy: 0.9999 - categorical_accuracy: 0.5376 - val_loss: 8.5686e-04 - val_binary_accuracy: 0.9999 - val_categorical_accuracy: 0.5638\n",
            "Epoch 18/50\n",
            " - 278s - loss: 6.7474e-04 - binary_accuracy: 0.9999 - categorical_accuracy: 0.5309 - val_loss: 8.6117e-04 - val_binary_accuracy: 0.9999 - val_categorical_accuracy: 0.5469\n",
            "Epoch 19/50\n",
            " - 279s - loss: 6.4674e-04 - binary_accuracy: 0.9999 - categorical_accuracy: 0.5184 - val_loss: 8.6535e-04 - val_binary_accuracy: 0.9999 - val_categorical_accuracy: 0.5445\n"
          ],
          "name": "stdout"
        }
      ]
    },
    {
      "metadata": {
        "id": "UW1CiBhnXnxa",
        "colab_type": "code",
        "outputId": "8ff5ed9f-56dd-4b3f-a866-9c141634afdd",
        "colab": {
          "base_uri": "https://localhost:8080/",
          "height": 34
        }
      },
      "cell_type": "code",
      "source": [
        "!ls -alh | grep model.h5"
      ],
      "execution_count": 31,
      "outputs": [
        {
          "output_type": "stream",
          "text": [
            "-rw-r--r-- 1 root root 532M Oct 27 11:16 model.h5\n"
          ],
          "name": "stdout"
        }
      ]
    },
    {
      "metadata": {
        "id": "nQux6qLdXabG",
        "colab_type": "text"
      },
      "cell_type": "markdown",
      "source": [
        "## Make predictions"
      ]
    },
    {
      "metadata": {
        "id": "fSDxetlfUEiD",
        "colab_type": "code",
        "colab": {}
      },
      "cell_type": "code",
      "source": [
        "\n",
        "#new_text = np.array(new_text, dtype=object)[:, np.newaxis]\n",
        "with tf.Session() as session:\n",
        "  K.set_session(session)\n",
        "  session.run(tf.global_variables_initializer())\n",
        "  session.run(tf.tables_initializer())\n",
        "  model.load_weights('./model.h5')  \n",
        "  predicts = model.predict(test_text, batch_size=32)"
      ],
      "execution_count": 0,
      "outputs": []
    },
    {
      "metadata": {
        "id": "U9V5JOWGq4Cd",
        "colab_type": "code",
        "outputId": "c627b01f-22c6-42b8-df31-a1dfddb6e124",
        "colab": {
          "base_uri": "https://localhost:8080/",
          "height": 85
        }
      },
      "cell_type": "code",
      "source": [
        "first = predicts[0]\n",
        "max_d = -1000000\n",
        "min_d = 1000000\n",
        "max_i = 0\n",
        "min_i = 0\n",
        "for i in range(len(predicts) - 1):\n",
        "  v = predicts[i]\n",
        "  d = scipy.spatial.distance.cosine(v, first)\n",
        "  if max_d < d:\n",
        "    max_d = d\n",
        "    max_i = i\n",
        "  if min_d > d:\n",
        "    min_d = d\n",
        "    min_i = i\n",
        "print(\"Min and max distances: {0} and {1}\".format(min_d, max_d))\n",
        "print(test_text[max_i])\n",
        "syll_mgr.interpret2(predicts[max_i])"
      ],
      "execution_count": 33,
      "outputs": [
        {
          "output_type": "stream",
          "text": [
            "Min and max distances: 2.6573251787898045e-07 and 0.9630461096219043\n",
            "['And found his whole good-breeding scarce enough.']\n",
            "[7, 480, 10, 958, 36, 62, 10, 10, 36, 2149]\n",
            "['AE N D', 'S K EH R S', 'HH IH Z', 'HH IY', 'AH', 'F AO R', 'HH IH Z', 'HH IH Z', 'AH', 'N IY D']\n"
          ],
          "name": "stdout"
        }
      ]
    },
    {
      "metadata": {
        "id": "xaR0d5VPU23Z",
        "colab_type": "code",
        "outputId": "c54f3c53-39cf-41b2-a08f-6f31c825c223",
        "colab": {
          "base_uri": "https://localhost:8080/",
          "height": 6137
        }
      },
      "cell_type": "code",
      "source": [
        "for i in range(10,100):\n",
        "  print(test_text[i])\n",
        "  syll_mgr.interpret2(predicts[i])\n",
        "  print('')"
      ],
      "execution_count": 34,
      "outputs": [
        {
          "output_type": "stream",
          "text": [
            "['Of humble seeming: and, behind them all,']\n",
            "[40, 1514, 490, 7, 7, 1514, 7, 1514, 36, 3381]\n",
            "['AH V', 'HH AH M', 'B AH L', 'AE N D', 'AE N D', 'HH AH M', 'AE N D', 'HH AH M', 'AH', 'M AY R']\n",
            "\n",
            "['Behind his head upon the shoulders lay,']\n",
            "[36, 996, 10, 1436, 151, 445, 2079, 1961, 10, 483]\n",
            "['AH', 'B AH V', 'HH IH Z', 'N EH K', 'HH IH M', 'HH EH D', 'R HH EH D', 'SH OW L', 'HH IH Z', 'L EY']\n",
            "\n",
            "['Discover countries, with a kindred heart']\n",
            "[36, 1463, 31, 417, 117, 7, 117, 417, 117, 417]\n",
            "['AH', 'S K AH', 'DH AH', 'W ER L D', 'SH AH N Z', 'AE N D', 'SH AH N Z', 'W ER L D', 'SH AH N Z', 'W ER L D']\n",
            "\n",
            "['Was open in his praise, and plaudits rose']\n",
            "[156, 1398, 7, 453, 7, 7, 10, 776, 156, 671]\n",
            "['W AA Z', 'JH OY D', 'AE N D', 'F EY TH', 'AE N D', 'AE N D', 'HH IH Z', 'G R EY', 'W AA Z', 'HH AA R T']\n",
            "\n",
            "['A spear the hero bore of wondrous strength,']\n",
            "[36, 166, 403, 685, 31, 91, 36, 685, 40, 91]\n",
            "['AH', 'M AY', 'T IY', 'S AO R D', 'DH AH', 'S P IH R', 'AH', 'S AO R D', 'AH V', 'S P IH R']\n",
            "\n",
            "['Were things indifferent to the Shepherds thoughts.']\n",
            "[156, 126, 31, 884, 766, 1922, 31, 1922, 3485, 24]\n",
            "['W AA Z', 'DH OW Z', 'DH AH', 'P L EH', 'F R AH N T', 'SH EH', 'DH AH', 'SH EH', 'P ER D Z', 'TH AO T S']\n",
            "\n",
            "['That to the young supplies a guiding light,']\n",
            "[31, 153, 31, 671, 31, 1185, 31, 612, 31, 627]\n",
            "['DH AH', 'DH EH M', 'DH AH', 'HH AA R T', 'DH AH', 'P AE S', 'DH AH', 'W AA CH', 'DH AH', 'S IY V Z']\n",
            "\n",
            "['Of Greeks a mighty army, all in vain;']\n",
            "[40, 133, 31, 522, 31, 1933, 31, 3999, 40, 1933]\n",
            "['AH V', 'AO L', 'DH AH', 'AA R', 'DH AH', 'G R IY K S', 'DH AH', 'JH AW S T', 'AH V', 'G R IY K S']\n",
            "\n",
            "['Into the mighty vision passing--there,']\n",
            "[2, 30, 31, 166, 31, 506, 31, 40, 31, 282]\n",
            "['F R AH M', 'T UW', 'DH AH', 'M AY', 'DH AH', 'V IH', 'DH AH', 'AH V', 'DH AH', 'AA N D']\n",
            "\n",
            "['Them in his anger, whom his anger saves']\n",
            "[10, 126, 10, 245, 10, 245, 10, 245, 10, 259]\n",
            "['HH IH Z', 'DH OW Z', 'HH IH Z', 'AE NG', 'HH IH Z', 'AE NG', 'HH IH Z', 'AE NG', 'HH IH Z', 'S EY V Z']\n",
            "\n",
            "['And in the soul within the sense began']\n",
            "[7, 31, 31, 718, 336, 387, 31, 718, 31, 1325]\n",
            "['AE N D', 'DH AH', 'DH AH', 'S OW L', 'N AH L', 'S P IH', 'DH AH', 'S OW L', 'DH AH', 'M EY D']\n",
            "\n",
            "['For Daphnis reigns above, and deals from thence']\n",
            "[30, 2014, 7, 959, 7, 968, 7, 584, 30, 51]\n",
            "['T UW', 'L AO F', 'AE N D', 'Y AA N', 'AE N D', 'DH EH N S', 'AE N D', 'DH AY', 'T UW', 'Y IY L D']\n",
            "\n",
            "['For one that looked with such a captains mien:']\n",
            "[62, 958, 31, 866, 31, 222, 1099, 156, 156, 1539]\n",
            "['F AO R', 'HH IY', 'DH AH', 'W UH D', 'DH AH', 'K AH', 'S T AH M', 'W AA Z', 'W AA Z', 'N AW N']\n",
            "\n",
            "['Of thought between her fingers and her brain,']\n",
            "[30, 879, 170, 541, 170, 40, 170, 169, 170, 818]\n",
            "['T UW', 'TH AO T', 'HH ER', 'B AA', 'HH ER', 'AH V', 'HH ER', 'DH IH N', 'HH ER', 'B R EY N']\n",
            "\n",
            "['And still the red sedan of rank appeals,']\n",
            "[7, 782, 31, 4123, 31, 1028, 31, 555, 31, 1641]\n",
            "['AE N D', 'S T IH L', 'DH AH', 'CH IY', 'DH AH', 'JH AH', 'DH AH', 'F EH R', 'DH AH', 'K R AW N']\n",
            "\n",
            "['With this eternal silence;--more a god,']\n",
            "[76, 6, 16, 387, 16, 439, 16, 6, 336, 439]\n",
            "['W IH DH', 'T ER', 'IH', 'S P IH', 'IH', 'G AA D', 'IH', 'T ER', 'N AH L', 'G AA D']\n",
            "\n",
            "['Forgot, nutritious, grateful to the taste,']\n",
            "[7, 3776, 31, 727, 308, 965, 31, 81, 31, 896]\n",
            "['AE N D', 'HH EH L TH', 'DH AH', 'G UH D', 'N AH S', 'S W IY T', 'DH AH', 'L IH', 'DH AH', 'T EY S T']\n",
            "\n",
            "['Of full perfection prompt his daring dream,']\n",
            "[10, 1700, 10, 2853, 2363, 620, 10, 1700, 10, 383]\n",
            "['HH IH Z', 'D R IY M', 'HH IH Z', 'D R IY M Z', 'N Y AH S', 'W AH N', 'HH IH Z', 'D R IY M', 'HH IH Z', 'B L IH S']\n",
            "\n",
            "['And all the spaces of the midnight town']\n",
            "[7, 133, 31, 1730, 31, 40, 31, 40, 31, 4676]\n",
            "['AE N D', 'AO L', 'DH AH', 'P R IH N', 'DH AH', 'AH V', 'DH AH', 'AH V', 'DH AH', 'R UW M Z']\n",
            "\n",
            "['The sandbar sings in moonlit veils of foam.']\n",
            "[31, 734, 992, 3093, 31, 67, 31, 1008, 31, 1751]\n",
            "['DH AH', 'K AO', 'R AH L', 'S IH NG Z', 'DH AH', 'IH N', 'DH AH', 'M ER', 'DH AH', 'SH AO R']\n",
            "\n",
            "['And darkness settled on the outer world.']\n",
            "[7, 509, 31, 307, 31, 307, 31, 40, 31, 509]\n",
            "['AE N D', 'ER TH', 'DH AH', 'D AA R K', 'DH AH', 'D AA R K', 'DH AH', 'AH V', 'DH AH', 'ER TH']\n",
            "\n",
            "['Or castle, high embattled on the point']\n",
            "[50, 67, 31, 568, 31, 520, 31, 3636, 619, 1781]\n",
            "['AO R', 'IH N', 'DH AH', 'K OW', 'DH AH', 'W AO L', 'DH AH', 'D EH K S', 'S AY D', 'HH AO L']\n",
            "\n",
            "['The each with All in one, sublime design?']\n",
            "[40, 1126, 7, 7, 7, 133, 7, 596, 40, 832]\n",
            "['AH V', 'SH EY P', 'AE N D', 'AE N D', 'AE N D', 'AO L', 'AE N D', 'IY CH', 'AH V', 'DH IY Z']\n",
            "\n",
            "['The curving prow, the tall and stately mast,']\n",
            "[31, 2014, 40, 3863, 31, 2014, 31, 2014, 31, 4284]\n",
            "['DH AH', 'L AO F', 'AH V', 'M AE S T S', 'DH AH', 'L AO F', 'DH AH', 'L AO F', 'DH AH', 'M AE S T']\n",
            "\n",
            "['And bids anew the martial thunder rise.']\n",
            "[7, 2580, 31, 489, 31, 30, 31, 131, 31, 706]\n",
            "['AE N D', 'L IH F T S', 'DH AH', 'B AE', 'DH AH', 'T UW', 'DH AH', 'R AY', 'DH AH', 'G EH N']\n",
            "\n",
            "['And hearing harlot muttered twice or thrice,']\n",
            "[7, 1965, 31, 1138, 36, 707, 67, 2293, 36, 2708]\n",
            "['AE N D', 'S EH D', 'DH AH', 'L AW D', 'AH', 'HH ER D', 'IH N', 'K R AY D', 'AH', 'L IH P S']\n",
            "\n",
            "['That evening passed with music, chat, and song,']\n",
            "[36, 983, 2923, 983, 2923, 983, 2923, 5151, 156, 5151]\n",
            "['AH', 'M Y UW', 'Z IH K', 'M Y UW', 'Z IH K', 'M Y UW', 'Z IH K', 'CH AE T', 'W AA Z', 'CH AE T']\n",
            "\n",
            "['With childlike pleasure at the blooming sun;']\n",
            "[76, 855, 36, 81, 31, 40, 31, 175, 31, 177]\n",
            "['W IH DH', 'M IH D S T', 'AH', 'L IH', 'DH AH', 'AH V', 'DH AH', 'S AH', 'DH AH', 'D EY']\n",
            "\n",
            "['And send her back with gentle words to earth']\n",
            "[7, 1603, 170, 1019, 170, 170, 170, 170, 170, 170]\n",
            "['AE N D', 'G IH V', 'HH ER', 'F R IY', 'HH ER', 'HH ER', 'HH ER', 'HH ER', 'HH ER', 'HH ER']\n",
            "\n",
            "['With glowing eyes and pale, unsmiling face,']\n",
            "[76, 710, 36, 710, 7, 307, 76, 427, 1320, 710]\n",
            "['W IH DH', 'AY Z', 'AH', 'AY Z', 'AE N D', 'D AA R K', 'W IH DH', 'F EY S', 'K AH S T', 'AY Z']\n",
            "\n",
            "['Its beauties first? That she will show to me']\n",
            "[224, 1246, 403, 400, 224, 59, 170, 454, 2872, 59]\n",
            "['DH IH S', 'B Y UW', 'T IY', 'AY', 'DH IH S', 'M IY', 'HH ER', 'L AH V', 'F EH K T', 'M IY']\n",
            "\n",
            "['A man is likewise counsel for himself,']\n",
            "[36, 511, 36, 1528, 31, 511, 67, 1385, 36, 511]\n",
            "['AH', 'M AE N', 'AH', 'P R UW', 'DH AH', 'M AE N', 'IH N', 'S ER N', 'AH', 'M AE N']\n",
            "\n",
            "['And awful, mighty eyes that cowed and held']\n",
            "[7, 133, 76, 929, 533, 710, 7, 3354, 40, 3354]\n",
            "['AE N D', 'AO L', 'W IH DH', 'HH AO', 'R ER', 'AY Z', 'AE N D', 'G AE S T', 'AH V', 'G AE S T']\n",
            "\n",
            "['Of thoughts revolved, his final sentence chose']\n",
            "[30, 213, 10, 163, 360, 579, 10, 958, 195, 1965]\n",
            "['T UW', 'W AH T', 'HH IH Z', 'W ER D', 'M IH', 'DH AH S', 'HH IH Z', 'HH IY', 'R IH', 'S EH D']\n",
            "\n",
            "['His head, his shoulders, and his knees embraced;']\n",
            "[10, 1961, 487, 2668, 10, 493, 10, 936, 10, 1921]\n",
            "['HH IH Z', 'SH OW L', 'D ER Z', 'B AW D', 'HH IH Z', 'S T EH N', 'HH IH Z', 'N IY TH', 'HH IH Z', 'F R EY M']\n",
            "\n",
            "['And came into the vale in little space,']\n",
            "[7, 529, 36, 67, 36, 67, 31, 40, 31, 2520]\n",
            "['AE N D', 'S T UH D', 'AH', 'IH N', 'AH', 'IH N', 'DH AH', 'AH V', 'DH AH', 'V EY L']\n",
            "\n",
            "['In forest wild, in thicket, brake, or den;']\n",
            "[67, 1412, 50, 3215, 50, 566, 50, 1412, 140, 2570]\n",
            "['IH N', 'W UH D Z', 'AO R', 'D EY L', 'AO R', 'TH IH', 'AO R', 'W UH D Z', 'L AE N D', 'B UH SH']\n",
            "\n",
            "['In spite of changes. Look for me until']\n",
            "[30, 62, 7, 400, 7, 7, 7, 400, 30, 740]\n",
            "['T UW', 'F AO R', 'AE N D', 'AY', 'AE N D', 'AE N D', 'AE N D', 'AY', 'T UW', 'T IH L']\n",
            "\n",
            "['The parchment of the future, it were vain--']\n",
            "[31, 217, 156, 4895, 1707, 1519, 1707, 1370, 156, 3951]\n",
            "['DH AH', 'P R EH', 'W AA Z', 'P AA R CH', 'IH T S', 'F AO R S T', 'IH T S', 'W ER K', 'W AA Z', 'S P AY R D']\n",
            "\n",
            "['The spirits of the Seasons seem to stand.']\n",
            "[31, 133, 31, 40, 31, 222, 31, 67, 31, 1482]\n",
            "['DH AH', 'AO L', 'DH AH', 'AH V', 'DH AH', 'K AH', 'DH AH', 'IH N', 'DH AH', 'S P R IH NG']\n",
            "\n",
            "['For lo! his passion, but an art of craft,']\n",
            "[40, 1370, 902, 812, 10, 1370, 10, 1370, 40, 2239]\n",
            "['AH V', 'W ER K', 'T AH S T', 'P AE', 'HH IH Z', 'W ER K', 'HH IH Z', 'W ER K', 'AH V', 'AA R T']\n",
            "\n",
            "['Is due, and not to war, intrepid still']\n",
            "[86, 782, 36, 30, 67, 782, 31, 105, 31, 105]\n",
            "['IH Z', 'S T IH L', 'AH', 'T UW', 'IH N', 'S T IH L', 'DH AH', 'W AO R', 'DH AH', 'W AO R']\n",
            "\n",
            "['Or sleeping, walk a restless world of dreams.']\n",
            "[50, 561, 67, 561, 31, 561, 31, 561, 136, 561]\n",
            "['AO R', 'S L IY P', 'IH N', 'S L IY P', 'DH AH', 'S L IY P', 'DH AH', 'S L IY P', 'L IY', 'S L IY P']\n",
            "\n",
            "['Of teaching school, a school of Czechs and Poles']\n",
            "[40, 298, 31, 12, 31, 40, 3622, 40, 31, 3883]\n",
            "['AH V', 'P AH', 'DH AH', 'K AH N', 'DH AH', 'AH V', 'S T AH M Z', 'AH V', 'DH AH', 'S K UW L']\n",
            "\n",
            "['And drops of blood bedew the conscious lawn;']\n",
            "[7, 410, 40, 1859, 31, 1206, 31, 40, 31, 1859]\n",
            "['AE N D', 'L AY K', 'AH V', 'D AH S T', 'DH AH', 'SH R AH B Z', 'DH AH', 'AH V', 'DH AH', 'D AH S T']\n",
            "\n",
            "['From daylight till the evening, wet or fine,']\n",
            "[67, 541, 31, 4558, 50, 3192, 31, 1500, 50, 1078]\n",
            "['IH N', 'B AA', 'DH AH', 'K OW L', 'AO R', 'HH AA T', 'DH AH', 'HH IY T', 'AO R', 'K OW L D']\n",
            "\n",
            "['A doom that ever poised itself to fall,']\n",
            "[36, 143, 40, 40, 40, 1569, 36, 1153, 40, 20]\n",
            "['AH', 'D R EH D', 'AH V', 'AH V', 'AH V', 'T EH', 'AH', 'F AA R', 'AH V', 'D UW M']\n",
            "\n",
            "['Of wailing women pierce the vaulted skies.']\n",
            "[40, 668, 31, 168, 31, 1755, 31, 961, 31, 1755]\n",
            "['AH V', 'AA R M Z', 'DH AH', 'W IH', 'DH AH', 'S K AY Z', 'DH AH', 'V EY L Z', 'DH AH', 'S K AY Z']\n",
            "\n",
            "['To happy havens under all the sky,']\n",
            "[30, 133, 31, 798, 31, 387, 31, 497, 31, 1257]\n",
            "['T UW', 'AO L', 'DH AH', 'JH OY', 'DH AH', 'S P IH', 'DH AH', 'HH AE', 'DH AH', 'S K AY']\n",
            "\n",
            "['In purple clusters hangs the vines increase,']\n",
            "[31, 237, 1752, 2084, 31, 2084, 31, 2084, 71, 3618]\n",
            "['DH AH', 'P ER', 'B AH L Z', 'Y EH', 'DH AH', 'Y EH', 'DH AH', 'Y EH', 'L OW', 'S P AE N D']\n",
            "\n",
            "['A shepherd meeting thee, the oar surveys,']\n",
            "[31, 1312, 180, 81, 31, 1312, 31, 1312, 31, 50]\n",
            "['DH AH', 'K AE P', 'S AH N', 'L IH', 'DH AH', 'K AE P', 'DH AH', 'K AE P', 'DH AH', 'AO R']\n",
            "\n",
            "['The printed passion of the dream remains:--']\n",
            "[31, 77, 40, 40, 468, 7, 31, 5130, 40, 3603]\n",
            "['DH AH', 'S AA', 'AH V', 'AH V', 'T R AE N S', 'AE N D', 'DH AH', 'S IY N Z', 'AH V', 'M Y UW Z']\n",
            "\n",
            "['And piecemeal shares and maims the felon round.']\n",
            "[7, 178, 7, 3266, 7, 7, 31, 67, 31, 3266]\n",
            "['AE N D', 'S EH', 'AE N D', 'B AE NG K', 'AE N D', 'AE N D', 'DH AH', 'IH N', 'DH AH', 'B AE NG K']\n",
            "\n",
            "['A happy nation, and a happy king.']\n",
            "[31, 1797, 41, 1146, 339, 7, 10, 497, 1002, 609]\n",
            "['DH AH', 'CH IH R', 'R IY', 'P R AW D', 'T R IY', 'AE N D', 'HH IH Z', 'HH AE', 'P IY', 'S T EY T']\n",
            "\n",
            "['And Miscreator, makes and helps along']\n",
            "[7, 76, 31, 133, 31, 133, 31, 727, 31, 30]\n",
            "['AE N D', 'W IH DH', 'DH AH', 'AO L', 'DH AH', 'AO L', 'DH AH', 'G UH D', 'DH AH', 'T UW']\n",
            "\n",
            "['The dashing waters when the air is still']\n",
            "[31, 197, 303, 356, 261, 356, 261, 356, 31, 438]\n",
            "['DH AH', 'S IY', 'L IH NG', 'W AO', 'T ER Z', 'W AO', 'T ER Z', 'W AO', 'DH AH', 'EH R']\n",
            "\n",
            "['And still its ice the freezing silence kept:']\n",
            "[52, 782, 231, 953, 1707, 244, 1707, 2398, 36, 953]\n",
            "['DH AE T', 'S T IH L', 'IH T', 'F L EY M', 'IH T S', 'V AE', 'IH T S', 'B ER N Z', 'AH', 'F L EY M']\n",
            "\n",
            "['That shrink in misty mournfulness from sight,']\n",
            "[52, 1695, 31, 1140, 263, 40, 31, 65, 292, 400]\n",
            "['DH AE T', 'K R IH M', 'DH AH', 'SH AE', 'D OW', 'AH V', 'DH AH', 'EH', 'D ER', 'AY']\n",
            "\n",
            "['And secret seeds of envy, lay behind;']\n",
            "[7, 133, 31, 1260, 31, 40, 31, 47, 31, 3]\n",
            "['AE N D', 'AO L', 'DH AH', 'T R EH', 'DH AH', 'AH V', 'DH AH', 'V ER', 'DH AH', 'DH EH R']\n",
            "\n",
            "['Of trees and crack of branches, common things,']\n",
            "[40, 772, 7, 772, 7, 772, 7, 600, 7, 600]\n",
            "['AH V', 'T R IY Z', 'AE N D', 'T R IY Z', 'AE N D', 'T R IY Z', 'AE N D', 'TH IH NG Z', 'AE N D', 'TH IH NG Z']\n",
            "\n",
            "['And pious tribute at her altars pay:']\n",
            "[7, 1770, 170, 1868, 170, 62, 170, 40, 31, 1351]\n",
            "['AE N D', 'P AY', 'HH ER', 'G IH F T S', 'HH ER', 'F AO R', 'HH ER', 'AH V', 'DH AH', 'SH R AY N']\n",
            "\n",
            "['Courageous, and refreshed for future toil,']\n",
            "[195, 168, 209, 3466, 45, 7, 36, 3096, 30, 378]\n",
            "['R IH', 'W IH', 'JH AH S', 'T OY L', 'AH JH', 'AE N D', 'AH', 'B R EY V', 'T UW', 'V EY N']\n",
            "\n",
            "['Upon the wall and windows blots of gilt.']\n",
            "[36, 936, 31, 1836, 490, 2120, 7, 40, 31, 1781]\n",
            "['AH', 'N IY TH', 'DH AH', 'M AA R', 'B AH L', 'K AO R T', 'AE N D', 'AH V', 'DH AH', 'HH AO L']\n",
            "\n",
            "['And lay upon the threshold like a log.']\n",
            "[7, 601, 36, 1954, 36, 1954, 121, 40, 31, 741]\n",
            "['AE N D', 'P L AE N T', 'AH', 'TH R EH SH', 'AH', 'TH R EH SH', 'OW L D', 'AH V', 'DH AH', 'G R AW N D']\n",
            "\n",
            "['In synod unbenign; and taught the fixed']\n",
            "[36, 62, 31, 573, 31, 7, 31, 1432, 31, 1497]\n",
            "['AH', 'F AO R', 'DH AH', 'F ER S T', 'DH AH', 'AE N D', 'DH AH', 'D EY N D', 'DH AH', 'T AO T']\n",
            "\n",
            "['And left him to his rest.  An end of Love.']\n",
            "[7, 295, 151, 295, 30, 295, 10, 454, 36, 454]\n",
            "['AE N D', 'L EH F T', 'HH IH M', 'L EH F T', 'T UW', 'L EH F T', 'HH IH Z', 'L AH V', 'AH', 'L AH V']\n",
            "\n",
            "['And human hearts and minds to show it by,']\n",
            "[7, 425, 31, 425, 426, 425, 426, 425, 426, 671]\n",
            "['AE N D', 'HH Y UW', 'DH AH', 'HH Y UW', 'M AH N', 'HH Y UW', 'M AH N', 'HH Y UW', 'M AH N', 'HH AA R T']\n",
            "\n",
            "['The outward struggle and the inward strife.']\n",
            "[31, 199, 680, 2860, 31, 7, 31, 7, 40, 274]\n",
            "['DH AH', 'K AA N', 'F L IH K T', 'S T R AH', 'DH AH', 'AE N D', 'DH AH', 'AE N D', 'AH V', 'S T R AY F']\n",
            "\n",
            "['His arms and bosom, seem to melt away.']\n",
            "[10, 668, 522, 2174, 522, 133, 10, 2174, 76, 2694]\n",
            "['HH IH Z', 'AA R M Z', 'AA R', 'L IH M Z', 'AA R', 'AO L', 'HH IH Z', 'L IH M Z', 'W IH DH', 'S W EH T']\n",
            "\n",
            "['And noise, and tumult rises from the crowd.']\n",
            "[7, 2085, 36, 1138, 31, 2561, 31, 67, 31, 438]\n",
            "['AE N D', 'K R AW D', 'AH', 'L AW D', 'DH AH', 'N OY', 'DH AH', 'IH N', 'DH AH', 'EH R']\n",
            "\n",
            "['Cannot devise a torment, so it be']\n",
            "[1035, 587, 36, 587, 102, 102, 231, 102, 256, 2819]\n",
            "['K AE', 'N AA T', 'AH', 'N AA T', 'B IY', 'B IY', 'IH T', 'B IY', 'D IH', 'D Y UH R']\n",
            "\n",
            "['The damsel put the pair without reply:']\n",
            "[31, 2916, 1086, 7, 153, 1386, 7, 877, 30, 2603]\n",
            "['DH AH', 'D AE M', 'Z AH L', 'AE N D', 'DH EH M', 'B OW TH', 'AE N D', 'M IY T', 'T UW', 'F L EH D']\n",
            "\n",
            "['Or that it hardens more and helps to bind']\n",
            "[50, 52, 231, 67, 50, 2080, 50, 2660, 31, 813]\n",
            "['AO R', 'DH AE T', 'IH T', 'IH N', 'AO R', 'S T R OW K', 'AO R', 'B AY N D', 'DH AH', 'M UW V']\n",
            "\n",
            "['And flowing waters, and the starry flame,']\n",
            "[7, 1170, 7, 356, 31, 356, 31, 7, 31, 2218]\n",
            "['AE N D', 'S AW N D Z', 'AE N D', 'W AO', 'DH AH', 'W AO', 'DH AH', 'AE N D', 'DH AH', 'B L UW']\n",
            "\n",
            "['The spoil or spoiler? this behold in me;']\n",
            "[31, 197, 41, 40, 31, 40, 31, 86, 31, 2802]\n",
            "['DH AH', 'S IY', 'R IY', 'AH V', 'DH AH', 'AH V', 'DH AH', 'IH Z', 'DH AH', 'K AH P']\n",
            "\n",
            "['And rode with them, and spake to none; the day']\n",
            "[7, 3344, 153, 905, 31, 442, 7, 775, 7, 775]\n",
            "['AE N D', 'B EY D', 'DH EH M', 'S EH L V Z', 'DH AH', 'P AA N', 'AE N D', 'M EH N', 'AE N D', 'M EH N']\n",
            "\n",
            "['Of finest metal was her armour bright,']\n",
            "[170, 1089, 7, 522, 1008, 1203, 1300, 1296, 40, 2614]\n",
            "['HH ER', 'SH IY L D', 'AE N D', 'AA R', 'M ER', 'AA R M D', 'ER N', 'F Y UH', 'AH V', 'V EH S T']\n",
            "\n",
            "['The doleful city all around invest,']\n",
            "[31, 1926, 31, 460, 31, 460, 31, 1591, 31, 469]\n",
            "['DH AH', 'F ER Z', 'DH AH', 'S IH', 'DH AH', 'S IH', 'DH AH', 'R IH CH', 'DH AH', 'P L AE N']\n",
            "\n",
            "['Of crowded cities, was from passing tale']\n",
            "[31, 460, 31, 460, 403, 460, 31, 460, 403, 2443]\n",
            "['DH AH', 'S IH', 'DH AH', 'S IH', 'T IY', 'S IH', 'DH AH', 'S IH', 'T IY', 'S T R IY T S']\n",
            "\n",
            "['An Arab fearless as the face of Truth']\n",
            "[36, 1146, 254, 714, 36, 40, 36, 40, 40, 775]\n",
            "['AH', 'P R AW D', 'F AH L', 'F IH R', 'AH', 'AH V', 'AH', 'AH V', 'AH V', 'M EH N']\n",
            "\n",
            "['It lightened toil, and took the edge from pain,']\n",
            "[231, 442, 7, 2860, 7, 7, 231, 2745, 31, 219]\n",
            "['IH T', 'P AA N', 'AE N D', 'S T R AH', 'AE N D', 'AE N D', 'IH T', 'T EH R', 'DH AH', 'P EY N']\n",
            "\n",
            "['That brought with it another civil war.']\n",
            "[52, 3061, 31, 858, 31, 460, 31, 460, 89, 105]\n",
            "['DH AE T', 'F AO T', 'DH AH', 'S IH N S', 'DH AH', 'S IH', 'DH AH', 'S IH', 'B IH', 'W AO R']\n",
            "\n",
            "['Apart from all, in pride of conscious strength,']\n",
            "[40, 1055, 28, 1627, 45, 686, 45, 686, 40, 686]\n",
            "['AH V', 'S T R AO NG', 'K W AH L', 'W IY K', 'AH JH', 'S T R EH NG K TH', 'AH JH', 'S T R EH NG K TH', 'AH V', 'S T R EH NG K TH']\n",
            "\n",
            "['And far and near throughout the land the men']\n",
            "[7, 67, 31, 775, 7, 40, 31, 3296, 31, 775]\n",
            "['AE N D', 'IH N', 'DH AH', 'M EH N', 'AE N D', 'AH V', 'DH AH', 'B R AO D', 'DH AH', 'M EH N']\n",
            "\n",
            "['Remembered--I. And, oh! a little while']\n",
            "[67, 81, 18, 911, 7, 81, 18, 1153, 280, 17]\n",
            "['IH N', 'L IH', 'T AH L', 'W AY L', 'AE N D', 'L IH', 'T AH L', 'F AA R', 'DH ER', 'M AO R']\n",
            "\n",
            "['And clip his borders short, and drive his herds,']\n",
            "[7, 424, 10, 116, 7, 760, 10, 67, 10, 1413]\n",
            "['AE N D', 'HH ER D Z', 'HH IH Z', 'N EY', 'AE N D', 'F AO', 'HH IH Z', 'IH N', 'HH IH Z', 'P L EY N Z']\n",
            "\n",
            "['And suffer me in anguish to depart']\n",
            "[7, 643, 262, 168, 7, 245, 67, 65, 256, 2819]\n",
            "['AE N D', 'L IY V', 'F ER', 'W IH', 'AE N D', 'AE NG', 'IH N', 'EH', 'D IH', 'D Y UH R']\n",
            "\n",
            "['The king from sovereign peril saved his head,']\n",
            "[31, 180, 31, 293, 31, 402, 31, 156, 31, 293]\n",
            "['DH AH', 'S AH N', 'DH AH', 'K IH NG', 'DH AH', 'L AO S T', 'DH AH', 'W AA Z', 'DH AH', 'K IH NG']\n",
            "\n",
            "['The point is turned; the twilight shadow fills']\n",
            "[31, 706, 512, 39, 31, 1140, 31, 751, 30, 4927]\n",
            "['DH AH', 'G EH N', 'L AY T', 'D IY', 'DH AH', 'SH AE', 'DH AH', 'S IY M Z', 'T UW', 'F EY D']\n",
            "\n",
            "['Arriving all confused among the rest']\n",
            "[36, 225, 404, 7, 36, 7, 31, 279, 36, 593]\n",
            "['AH', 'V AE N', 'D IH NG', 'AE N D', 'AH', 'AE N D', 'DH AH', 'N AH', 'AH', 'W EY']\n",
            "\n"
          ],
          "name": "stdout"
        }
      ]
    },
    {
      "metadata": {
        "id": "yyDGVtigW57f",
        "colab_type": "code",
        "outputId": "f7620c4b-01dc-4b67-9874-e3c349f81f45",
        "colab": {
          "base_uri": "https://localhost:8080/",
          "height": 231
        }
      },
      "cell_type": "code",
      "source": [
        "categories = df_train.label.cat.categories.tolist()\n",
        "predict_logits = predicts.argmax(axis=1)\n",
        "print(\"Categorie: {0}\".format(categories))\n",
        "predict_labels = [categories[logit] for logit in predict_logits]\n",
        "predict_labels"
      ],
      "execution_count": 35,
      "outputs": [
        {
          "output_type": "error",
          "ename": "NameError",
          "evalue": "ignored",
          "traceback": [
            "\u001b[0;31m---------------------------------------------------------------------------\u001b[0m",
            "\u001b[0;31mNameError\u001b[0m                                 Traceback (most recent call last)",
            "\u001b[0;32m<ipython-input-35-7f6e6bf5580f>\u001b[0m in \u001b[0;36m<module>\u001b[0;34m()\u001b[0m\n\u001b[0;32m----> 1\u001b[0;31m \u001b[0mcategories\u001b[0m \u001b[0;34m=\u001b[0m \u001b[0mdf_train\u001b[0m\u001b[0;34m.\u001b[0m\u001b[0mlabel\u001b[0m\u001b[0;34m.\u001b[0m\u001b[0mcat\u001b[0m\u001b[0;34m.\u001b[0m\u001b[0mcategories\u001b[0m\u001b[0;34m.\u001b[0m\u001b[0mtolist\u001b[0m\u001b[0;34m(\u001b[0m\u001b[0;34m)\u001b[0m\u001b[0;34m\u001b[0m\u001b[0m\n\u001b[0m\u001b[1;32m      2\u001b[0m \u001b[0mpredict_logits\u001b[0m \u001b[0;34m=\u001b[0m \u001b[0mpredicts\u001b[0m\u001b[0;34m.\u001b[0m\u001b[0margmax\u001b[0m\u001b[0;34m(\u001b[0m\u001b[0maxis\u001b[0m\u001b[0;34m=\u001b[0m\u001b[0;36m1\u001b[0m\u001b[0;34m)\u001b[0m\u001b[0;34m\u001b[0m\u001b[0m\n\u001b[1;32m      3\u001b[0m \u001b[0mprint\u001b[0m\u001b[0;34m(\u001b[0m\u001b[0;34m\"Categorie: {0}\"\u001b[0m\u001b[0;34m.\u001b[0m\u001b[0mformat\u001b[0m\u001b[0;34m(\u001b[0m\u001b[0mcategories\u001b[0m\u001b[0;34m)\u001b[0m\u001b[0;34m)\u001b[0m\u001b[0;34m\u001b[0m\u001b[0m\n\u001b[1;32m      4\u001b[0m \u001b[0mpredict_labels\u001b[0m \u001b[0;34m=\u001b[0m \u001b[0;34m[\u001b[0m\u001b[0mcategories\u001b[0m\u001b[0;34m[\u001b[0m\u001b[0mlogit\u001b[0m\u001b[0;34m]\u001b[0m \u001b[0;32mfor\u001b[0m \u001b[0mlogit\u001b[0m \u001b[0;32min\u001b[0m \u001b[0mpredict_logits\u001b[0m\u001b[0;34m]\u001b[0m\u001b[0;34m\u001b[0m\u001b[0m\n\u001b[1;32m      5\u001b[0m \u001b[0mpredict_labels\u001b[0m\u001b[0;34m\u001b[0m\u001b[0m\n",
            "\u001b[0;31mNameError\u001b[0m: name 'df_train' is not defined"
          ]
        }
      ]
    },
    {
      "metadata": {
        "id": "hYhmukbSKpnp",
        "colab_type": "code",
        "colab": {}
      },
      "cell_type": "code",
      "source": [
        "\n",
        "os.remove('./model.h5')"
      ],
      "execution_count": 0,
      "outputs": []
    }
  ]
}