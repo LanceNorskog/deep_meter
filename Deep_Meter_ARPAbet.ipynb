{
  "nbformat": 4,
  "nbformat_minor": 0,
  "metadata": {
    "colab": {
      "name": "Deep_Meter_ARPAbet.ipynb",
      "version": "0.3.2",
      "provenance": [],
      "collapsed_sections": []
    },
    "kernelspec": {
      "name": "python3",
      "display_name": "Python 3"
    },
    "accelerator": "GPU"
  },
  "cells": [
    {
      "metadata": {
        "colab_type": "text",
        "id": "co7MV6sX7Xto"
      },
      "cell_type": "markdown",
      "source": [
        "# [Keras + Universal Sentence Encoder = Deep Meter] (https://www.dlology.com/blog/keras-meets-universal-sentence-encoder-transfer-learning-for-text-data/) "
      ]
    },
    {
      "metadata": {
        "colab_type": "text",
        "id": "eAVQGidpL8v5"
      },
      "cell_type": "markdown",
      "source": [
        "This notebook creates an autoencoder using the Universal Sentence Encoder. The autoencoder output is CMUdict syllables. The dataset is that subset of Allison Parrish's Project Gutenberg poetry archive which happens to scan in iambic pentameter.\n",
        "\n",
        "The notebook is based on Chengwei Zhang's example of wrapping the USE inside a larger tensorflow model saves to a Keras model (without save the USE itself in the TF model).\n",
        "\n",
        "The Universal Sentence Encoder makes getting sentence level embeddings as easy as it has historically been to lookup the embeddings for individual words. The sentence embeddings can then be trivially used to compute sentence level meaning similarity as well as to enable better performance on downstream classification tasks using less supervised training data.\n",
        "\n",
        "Since there are 10 one-hot values for 10 sets of 6k syllables, this is \"multi-label classification\"\n",
        "Changes for multi-label classification:\n",
        "sigmoid activation instead of softmax\n",
        "binary_crossentropy\n",
        "\n",
        "Text format is tab-separated, 2 columns: first text, second multi-level\n",
        "array of syllables:\n",
        "\n",
        "Multi-output version\n",
        "\n",
        "Use ARPAbet directly instead of syllables"
      ]
    },
    {
      "metadata": {
        "colab_type": "text",
        "id": "pOTzp8O36CyQ"
      },
      "cell_type": "markdown",
      "source": [
        "# Getting Started\n",
        "\n",
        "This section sets up the environment for access to the Universal Sentence Encoder on TF Hub and provides examples of applying the encoder to words, sentences, and paragraphs."
      ]
    },
    {
      "metadata": {
        "colab_type": "code",
        "id": "lVjNK8shFKOC",
        "outputId": "fdbf66b2-7f6c-4171-8c34-86be27158654",
        "colab": {
          "base_uri": "https://localhost:8080/",
          "height": 102
        }
      },
      "cell_type": "code",
      "source": [
        "# Install the latest Tensorflow version.\n",
        "#!pip3 install --quiet \"tensorflow>=1.7\"\n",
        "# Install TF-Hub.\n",
        "#!pip3 install --quiet tensorflow-hub\n",
        "#%cd /content\n",
        "!git clone https://github.com/LanceNorskog/deep_meter || true\n",
        "%cd /content/deep_meter\n",
        "!git pull\n",
        "# could not figure out how to read gzipped files as text!\n",
        "!gunzip -qf blobs/*.gz || true\n",
        "!gunzip -qf prepped_data/*.gz || true"
      ],
      "execution_count": 1,
      "outputs": [
        {
          "output_type": "stream",
          "text": [
            "fatal: destination path 'deep_meter' already exists and is not an empty directory.\n",
            "/content/deep_meter\n",
            "Already up to date.\n",
            "gzip: blobs/*.gz: No such file or directory\n",
            "gzip: prepped_data/*.gz: No such file or directory\n"
          ],
          "name": "stdout"
        }
      ]
    },
    {
      "metadata": {
        "colab_type": "code",
        "id": "MSeY-MUQo2Ha",
        "outputId": "7af8ea6f-2563-4397-e4d3-f016e2b34b0f",
        "colab": {
          "base_uri": "https://localhost:8080/",
          "height": 34
        }
      },
      "cell_type": "code",
      "source": [
        "# boilerplate from base notebook\n",
        "import tensorflow as tf\n",
        "import tensorflow_hub as hub\n",
        "import matplotlib.pyplot as plt\n",
        "import numpy as np\n",
        "import os\n",
        "import pandas as pd\n",
        "import re\n",
        "import seaborn as sns\n",
        "import keras.layers as layers\n",
        "from keras.models import Model\n",
        "from keras import backend as K\n",
        "from keras.callbacks import EarlyStopping, ModelCheckpoint\n",
        "from tensorflow.keras.optimizers import Nadam, Adam\n",
        "import gc\n",
        "from google.colab import files\n",
        "from google.colab import drive\n",
        "\n",
        "import pickle\n",
        "np.random.seed(10)"
      ],
      "execution_count": 2,
      "outputs": [
        {
          "output_type": "stream",
          "text": [
            "Using TensorFlow backend.\n"
          ],
          "name": "stderr"
        }
      ]
    },
    {
      "metadata": {
        "colab_type": "code",
        "id": "feBc_8Y-pt6F",
        "colab": {}
      },
      "cell_type": "code",
      "source": [
        "# github deep_meter code\n",
        "import utils\n",
        "# should not need this to use utils.flatten but is true anyway?\n",
        "from itertools import chain, product\n",
        "import subprocess\n",
        "import arpabets\n",
        "import decodewords\n",
        "import cmudict\n",
        "import readprepped\n",
        "# misc for this notebook\n",
        "from ast import literal_eval\n",
        "\n",
        "import scipy\n"
      ],
      "execution_count": 0,
      "outputs": []
    },
    {
      "metadata": {
        "colab_type": "code",
        "id": "zwty8Z6mAkdV",
        "colab": {}
      },
      "cell_type": "code",
      "source": [
        "module_url = \"https://tfhub.dev/google/universal-sentence-encoder-large/3\" #@param [\"https://tfhub.dev/google/universal-sentence-encoder/2\", \"https://tfhub.dev/google/universal-sentence-encoder-large/3\"]"
      ],
      "execution_count": 0,
      "outputs": []
    },
    {
      "metadata": {
        "colab_type": "code",
        "id": "FwAQNy1eMDkQ",
        "colab": {}
      },
      "cell_type": "code",
      "source": [
        "# read classified poetry lines: text tab [['syll', 'la', 'ble'], ...]\n",
        "# clip to only most common syllables with syllable manager\n",
        "# ['words', ...], [[[0,0,1,0], ...]]\n",
        "def get_data(filename, arpabet_mgr, num_symbols, max_lines=1000000):\n",
        "    stop_arpabet = 0\n",
        "    num_arpabets = arpabet_mgr.get_size()      \n",
        "    lines = open(filename, 'r').read().splitlines()\n",
        "    num_lines = min(max_lines, len(lines))\n",
        "    text_lines = []\n",
        "    text_arpabets = []\n",
        "    for i in range(0, len(lines)):\n",
        "      if i == num_lines:\n",
        "        break\n",
        "      parts = lines[i].split(\"\\t\")\n",
        "      syllables = literal_eval(parts[1])\n",
        "      #print(syllables)\n",
        "      arpas = []\n",
        "      for s in syllables:\n",
        "        for p in s:\n",
        "          for x in p.split(' '):\n",
        "            arpas.append(x)\n",
        "      #print(arpas)\n",
        "      if len(arpas) < num_symbols:\n",
        "        text_lines.append(str(parts[0]))\n",
        "        text_arpabets.append(arpas)\n",
        "    num_lines = len(text_lines)\n",
        "    label_array = np.zeros((num_symbols, num_lines, num_arpabets), dtype=np.int8)\n",
        "    for i in range(0, num_lines):\n",
        "      for j in range(num_symbols):\n",
        "        label_array[j][i][stop_arpabet] = 1\n",
        "        # variable-length list of syllables\n",
        "        if j < len(text_arpabets[i]):\n",
        "          enc = arpabet_mgr.get_encoding(text_arpabets[i][j])\n",
        "          if enc >= 0 and enc < num_arpabets:\n",
        "            label_array[j][i][enc] = 1\n",
        "            label_array[j][i][stop_arpabet] = 0\n",
        "\n",
        "    return (text_lines, label_array)\n"
      ],
      "execution_count": 0,
      "outputs": []
    },
    {
      "metadata": {
        "colab_type": "code",
        "id": "3HAtd4X5DayF",
        "colab": {
          "base_uri": "https://localhost:8080/",
          "height": 54
        },
        "outputId": "e2383a6a-69e8-4e7b-a8dc-c186ebad31f9"
      },
      "cell_type": "code",
      "source": [
        "# arpabets in descending order of occurrence - \n",
        "# ARPAbet phonemes + stop + pause\n",
        "# iambic pentameter\n",
        "meter_syllables = 10\n",
        "num_symbols = 4 * meter_syllables\n",
        "arpabets_mgr = arpabets.arpabets()\n",
        "num_arpabets = arpabets_mgr.get_size() \n",
        "arpabets_weights = {}\n",
        "counts = arpabets_mgr.get_counts()\n",
        "maxim = np.max(counts)\n",
        "for i in range(len(counts)):\n",
        "  if counts[i] > 0:\n",
        "    arpabets_weights[i] = 1/(counts[i]/maxim)\n",
        "  else:\n",
        "    arpabets_weights[i] = 0\n",
        "\n",
        "print(arpabets_weights)"
      ],
      "execution_count": 6,
      "outputs": [
        {
          "output_type": "stream",
          "text": [
            "{0: 0, 1: 0, 2: 1.0, 3: 1.2445861272947125, 4: 1.5197315436241612, 5: 1.5209564750134337, 6: 1.5881610324028617, 7: 1.7561656584457885, 8: 1.8720238095238095, 9: 2.0694571376348017, 10: 2.2044392523364484, 11: 2.43745963401507, 12: 2.8447236180904523, 13: 3.42571860816944, 14: 3.814690026954178, 15: 3.8510204081632655, 16: 3.9810126582278484, 17: 4.132116788321168, 18: 4.1701657458563535, 19: 4.319725295688668, 20: 4.45748031496063, 21: 4.933333333333333, 22: 4.95059029296021, 23: 4.959264126149803, 24: 5.501457725947522, 25: 5.588351431391906, 26: 5.788343558282208, 27: 5.827071538857437, 28: 5.918452692106639, 29: 7.409685863874346, 30: 7.797520661157026, 31: 9.819601040763226, 32: 15.055851063829786, 33: 15.197315436241611, 34: 16.923766816143498, 35: 19.42024013722127, 36: 20.003533568904594, 37: 25.328859060402685, 38: 34.94444444444444, 39: 59.904761904761905, 40: 205.85454545454544}\n"
          ],
          "name": "stdout"
        }
      ]
    },
    {
      "metadata": {
        "colab_type": "code",
        "id": "eN9aqig-QpDZ",
        "outputId": "852852a9-2202-4370-9d26-3ff1b5c87f92",
        "colab": {
          "base_uri": "https://localhost:8080/",
          "height": 85
        }
      },
      "cell_type": "code",
      "source": [
        "(train_text, train_label) = get_data('prepped_data/gutenberg.iambic_pentameter.train', arpabets_mgr, num_symbols)\n",
        "print(len(train_text))\n",
        "print(train_label.shape)\n",
        "\n",
        "(test_text, test_label) = get_data('prepped_data/gutenberg.iambic_pentameter.test', arpabets_mgr, num_symbols)\n",
        "print(len(test_text))\n",
        "print(test_label.shape)"
      ],
      "execution_count": 7,
      "outputs": [
        {
          "output_type": "stream",
          "text": [
            "62320\n",
            "(40, 62320, 41)\n",
            "4474\n",
            "(40, 4474, 41)\n"
          ],
          "name": "stdout"
        }
      ]
    },
    {
      "metadata": {
        "colab_type": "text",
        "id": "Sf9A4Xl6J7c6"
      },
      "cell_type": "markdown",
      "source": [
        "## Embed training & test text"
      ]
    },
    {
      "metadata": {
        "id": "mbJCx9vzwrF9",
        "colab_type": "code",
        "outputId": "79a53fab-9259-4177-912b-5cc6ce8cf955",
        "colab": {
          "base_uri": "https://localhost:8080/",
          "height": 51
        }
      },
      "cell_type": "code",
      "source": [
        "# Import the Universal Sentence Encoder's TF Hub module\n",
        "embed = hub.Module(module_url)\n",
        "# important?\n",
        "embed_size = embed.get_output_info_dict()['default'].get_shape()[1].value\n",
        "\n",
        "# Reduce logging output.\n",
        "tf.logging.set_verbosity(tf.logging.ERROR)\n",
        "print(type(train_text))\n",
        "#train_text_t = tf.convert_to_tensor(train_text, dtype='string', name='training_text')\n",
        "with tf.Session() as session:\n",
        "  session.run([tf.global_variables_initializer(), tf.tables_initializer()])\n",
        "  train_embeddings = session.run(embed(train_text))\n",
        "  test_embeddings = session.run(embed(test_text))\n",
        "train_text_d = np.array(train_embeddings)\n",
        "test_text_d = np.array(test_embeddings)\n",
        "print(train_text_d.shape)\n",
        "print(test_text_d.shape)\n",
        "# conserve space\n",
        "embed = None\n",
        "train_text = None\n",
        "train_embeddings = None\n",
        "K.clear_session()\n"
      ],
      "execution_count": 0,
      "outputs": [
        {
          "output_type": "stream",
          "text": [
            "INFO:tensorflow:Using /tmp/tfhub_modules to cache modules.\n",
            "INFO:tensorflow:Downloading TF-Hub Module 'https://tfhub.dev/google/universal-sentence-encoder-large/3'.\n"
          ],
          "name": "stdout"
        }
      ]
    },
    {
      "metadata": {
        "colab_type": "code",
        "id": "-mQUV_7dIm-9",
        "outputId": "18e6c2cb-3fb3-422b-d576-f02b94ac6372",
        "colab": {
          "base_uri": "https://localhost:8080/",
          "height": 34
        }
      },
      "cell_type": "code",
      "source": [
        "print(test_text_d.shape)\n",
        "# slow\n",
        "num_epochs = 1\n",
        "adam_0001 = Adam(0.001)\n",
        "adam_0001 = tf.contrib.opt.NadamOptimizer(0.005)"
      ],
      "execution_count": 11,
      "outputs": [
        {
          "output_type": "stream",
          "text": [
            "(4474, 512)\n"
          ],
          "name": "stdout"
        }
      ]
    },
    {
      "metadata": {
        "colab_type": "text",
        "id": "qX2rBOuxDP1m"
      },
      "cell_type": "markdown",
      "source": [
        "## Assemble model"
      ]
    },
    {
      "metadata": {
        "colab_type": "code",
        "id": "t3fllZkVjXKV",
        "outputId": "e94236be-f228-4c73-a125-a32b364135cf",
        "colab": {
          "base_uri": "https://localhost:8080/",
          "height": 1598
        }
      },
      "cell_type": "code",
      "source": [
        "dropout=0.5\n",
        "input_embeddings = layers.Input(shape=(512,), dtype=tf.float32, name='Input')\n",
        "dropout_input = layers.Dropout(dropout)(input_embeddings)\n",
        "dense = layers.Dense(1024, activation='relu', name='Convoluted')(dropout_input)\n",
        "dense = layers.Dropout(dropout)(input_embeddings)\n",
        "dense = layers.Dense(2048, activation='relu', name='Midway')(dense)\n",
        "dense = layers.Dropout(dropout)(input_embeddings)\n",
        "dense = layers.Dense(4096, activation='relu', name='Smooth')(dense)\n",
        "pred_array = []\n",
        "loss_array = []\n",
        "names_array = []\n",
        "for i in range(num_symbols):\n",
        "  name = 'Flatout'+\"{:0>2d}\".format(i)\n",
        "  pred_array.append(layers.Dense(num_arpabets, activation='softmax', name=name)(dense))\n",
        "  loss_array.append('categorical_crossentropy')\n",
        "  names_array.append(name)\n",
        "model = Model(inputs=input_embeddings, outputs=pred_array)\n",
        "model.compile(loss=loss_array, \n",
        "              optimizer=adam_0001, \n",
        "              metrics=['categorical_accuracy'])\n",
        "model.summary()"
      ],
      "execution_count": 12,
      "outputs": [
        {
          "output_type": "stream",
          "text": [
            "__________________________________________________________________________________________________\n",
            "Layer (type)                    Output Shape         Param #     Connected to                     \n",
            "==================================================================================================\n",
            "Input (InputLayer)              (None, 512)          0                                            \n",
            "__________________________________________________________________________________________________\n",
            "dropout_3 (Dropout)             (None, 512)          0           Input[0][0]                      \n",
            "__________________________________________________________________________________________________\n",
            "Smooth (Dense)                  (None, 4096)         2101248     dropout_3[0][0]                  \n",
            "__________________________________________________________________________________________________\n",
            "Flatout00 (Dense)               (None, 41)           167977      Smooth[0][0]                     \n",
            "__________________________________________________________________________________________________\n",
            "Flatout01 (Dense)               (None, 41)           167977      Smooth[0][0]                     \n",
            "__________________________________________________________________________________________________\n",
            "Flatout02 (Dense)               (None, 41)           167977      Smooth[0][0]                     \n",
            "__________________________________________________________________________________________________\n",
            "Flatout03 (Dense)               (None, 41)           167977      Smooth[0][0]                     \n",
            "__________________________________________________________________________________________________\n",
            "Flatout04 (Dense)               (None, 41)           167977      Smooth[0][0]                     \n",
            "__________________________________________________________________________________________________\n",
            "Flatout05 (Dense)               (None, 41)           167977      Smooth[0][0]                     \n",
            "__________________________________________________________________________________________________\n",
            "Flatout06 (Dense)               (None, 41)           167977      Smooth[0][0]                     \n",
            "__________________________________________________________________________________________________\n",
            "Flatout07 (Dense)               (None, 41)           167977      Smooth[0][0]                     \n",
            "__________________________________________________________________________________________________\n",
            "Flatout08 (Dense)               (None, 41)           167977      Smooth[0][0]                     \n",
            "__________________________________________________________________________________________________\n",
            "Flatout09 (Dense)               (None, 41)           167977      Smooth[0][0]                     \n",
            "__________________________________________________________________________________________________\n",
            "Flatout10 (Dense)               (None, 41)           167977      Smooth[0][0]                     \n",
            "__________________________________________________________________________________________________\n",
            "Flatout11 (Dense)               (None, 41)           167977      Smooth[0][0]                     \n",
            "__________________________________________________________________________________________________\n",
            "Flatout12 (Dense)               (None, 41)           167977      Smooth[0][0]                     \n",
            "__________________________________________________________________________________________________\n",
            "Flatout13 (Dense)               (None, 41)           167977      Smooth[0][0]                     \n",
            "__________________________________________________________________________________________________\n",
            "Flatout14 (Dense)               (None, 41)           167977      Smooth[0][0]                     \n",
            "__________________________________________________________________________________________________\n",
            "Flatout15 (Dense)               (None, 41)           167977      Smooth[0][0]                     \n",
            "__________________________________________________________________________________________________\n",
            "Flatout16 (Dense)               (None, 41)           167977      Smooth[0][0]                     \n",
            "__________________________________________________________________________________________________\n",
            "Flatout17 (Dense)               (None, 41)           167977      Smooth[0][0]                     \n",
            "__________________________________________________________________________________________________\n",
            "Flatout18 (Dense)               (None, 41)           167977      Smooth[0][0]                     \n",
            "__________________________________________________________________________________________________\n",
            "Flatout19 (Dense)               (None, 41)           167977      Smooth[0][0]                     \n",
            "__________________________________________________________________________________________________\n",
            "Flatout20 (Dense)               (None, 41)           167977      Smooth[0][0]                     \n",
            "__________________________________________________________________________________________________\n",
            "Flatout21 (Dense)               (None, 41)           167977      Smooth[0][0]                     \n",
            "__________________________________________________________________________________________________\n",
            "Flatout22 (Dense)               (None, 41)           167977      Smooth[0][0]                     \n",
            "__________________________________________________________________________________________________\n",
            "Flatout23 (Dense)               (None, 41)           167977      Smooth[0][0]                     \n",
            "__________________________________________________________________________________________________\n",
            "Flatout24 (Dense)               (None, 41)           167977      Smooth[0][0]                     \n",
            "__________________________________________________________________________________________________\n",
            "Flatout25 (Dense)               (None, 41)           167977      Smooth[0][0]                     \n",
            "__________________________________________________________________________________________________\n",
            "Flatout26 (Dense)               (None, 41)           167977      Smooth[0][0]                     \n",
            "__________________________________________________________________________________________________\n",
            "Flatout27 (Dense)               (None, 41)           167977      Smooth[0][0]                     \n",
            "__________________________________________________________________________________________________\n",
            "Flatout28 (Dense)               (None, 41)           167977      Smooth[0][0]                     \n",
            "__________________________________________________________________________________________________\n",
            "Flatout29 (Dense)               (None, 41)           167977      Smooth[0][0]                     \n",
            "__________________________________________________________________________________________________\n",
            "Flatout30 (Dense)               (None, 41)           167977      Smooth[0][0]                     \n",
            "__________________________________________________________________________________________________\n",
            "Flatout31 (Dense)               (None, 41)           167977      Smooth[0][0]                     \n",
            "__________________________________________________________________________________________________\n",
            "Flatout32 (Dense)               (None, 41)           167977      Smooth[0][0]                     \n",
            "__________________________________________________________________________________________________\n",
            "Flatout33 (Dense)               (None, 41)           167977      Smooth[0][0]                     \n",
            "__________________________________________________________________________________________________\n",
            "Flatout34 (Dense)               (None, 41)           167977      Smooth[0][0]                     \n",
            "__________________________________________________________________________________________________\n",
            "Flatout35 (Dense)               (None, 41)           167977      Smooth[0][0]                     \n",
            "__________________________________________________________________________________________________\n",
            "Flatout36 (Dense)               (None, 41)           167977      Smooth[0][0]                     \n",
            "__________________________________________________________________________________________________\n",
            "Flatout37 (Dense)               (None, 41)           167977      Smooth[0][0]                     \n",
            "__________________________________________________________________________________________________\n",
            "Flatout38 (Dense)               (None, 41)           167977      Smooth[0][0]                     \n",
            "__________________________________________________________________________________________________\n",
            "Flatout39 (Dense)               (None, 41)           167977      Smooth[0][0]                     \n",
            "==================================================================================================\n",
            "Total params: 8,820,328\n",
            "Trainable params: 8,820,328\n",
            "Non-trainable params: 0\n",
            "__________________________________________________________________________________________________\n"
          ],
          "name": "stdout"
        }
      ]
    },
    {
      "metadata": {
        "colab_type": "text",
        "id": "bqcRy_JWXe0u"
      },
      "cell_type": "markdown",
      "source": [
        "## Train Keras model and save weights\n",
        "This only trains and save our Keras layers not the embed module' weights."
      ]
    },
    {
      "metadata": {
        "colab_type": "code",
        "id": "_stfC_7VFhS8",
        "outputId": "2037a52c-53e3-44ea-86a2-900b3de2156a",
        "colab": {
          "base_uri": "https://localhost:8080/",
          "height": 897
        }
      },
      "cell_type": "code",
      "source": [
        "use_saved_model=True\n",
        "\n",
        "print(train_label.shape)\n",
        "if not use_saved_model or not os.path.exists('./model.h5'):\n",
        "  with tf.Session() as session:\n",
        "    K.set_session(session)\n",
        "    session.run(tf.global_variables_initializer())\n",
        "    session.run(tf.tables_initializer())\n",
        "    train_labels = []\n",
        "    test_labels = []\n",
        "    for i in range(num_symbols):\n",
        "        train_labels.append(np.array(train_label[i]))\n",
        "        test_labels.append(np.array(test_label[i]))\n",
        "    history = model.fit(train_text_d, \n",
        "            train_labels,\n",
        "            validation_data=(test_text_d, test_labels),\n",
        "            epochs=num_epochs,\n",
        "            #callbacks = [EarlyStopping(patience=2)],\n",
        "            batch_size=32,\n",
        "            class_weight=arpabets_weights,\n",
        "            verbose=2\n",
        "            )\n",
        "    model.save_weights('./model.h5')\n"
      ],
      "execution_count": 13,
      "outputs": [
        {
          "output_type": "stream",
          "text": [
            "(40, 62320, 41)\n",
            "Train on 62320 samples, validate on 4474 samples\n",
            "Epoch 1/60\n"
          ],
          "name": "stdout"
        },
        {
          "output_type": "error",
          "ename": "KeyboardInterrupt",
          "evalue": "ignored",
          "traceback": [
            "\u001b[0;31m---------------------------------------------------------------------------\u001b[0m",
            "\u001b[0;31mKeyboardInterrupt\u001b[0m                         Traceback (most recent call last)",
            "\u001b[0;32m<ipython-input-13-143225348c30>\u001b[0m in \u001b[0;36m<module>\u001b[0;34m()\u001b[0m\n\u001b[1;32m     19\u001b[0m             \u001b[0mbatch_size\u001b[0m\u001b[0;34m=\u001b[0m\u001b[0;36m32\u001b[0m\u001b[0;34m,\u001b[0m\u001b[0;34m\u001b[0m\u001b[0m\n\u001b[1;32m     20\u001b[0m             \u001b[0mclass_weight\u001b[0m\u001b[0;34m=\u001b[0m\u001b[0marpabets_weights\u001b[0m\u001b[0;34m,\u001b[0m\u001b[0;34m\u001b[0m\u001b[0m\n\u001b[0;32m---> 21\u001b[0;31m             \u001b[0mverbose\u001b[0m\u001b[0;34m=\u001b[0m\u001b[0;36m2\u001b[0m\u001b[0;34m\u001b[0m\u001b[0m\n\u001b[0m\u001b[1;32m     22\u001b[0m             )\n\u001b[1;32m     23\u001b[0m     \u001b[0mmodel\u001b[0m\u001b[0;34m.\u001b[0m\u001b[0msave_weights\u001b[0m\u001b[0;34m(\u001b[0m\u001b[0;34m'./model.h5'\u001b[0m\u001b[0;34m)\u001b[0m\u001b[0;34m\u001b[0m\u001b[0m\n",
            "\u001b[0;32m/usr/local/lib/python3.6/dist-packages/keras/engine/training.py\u001b[0m in \u001b[0;36mfit\u001b[0;34m(self, x, y, batch_size, epochs, verbose, callbacks, validation_split, validation_data, shuffle, class_weight, sample_weight, initial_epoch, steps_per_epoch, validation_steps, **kwargs)\u001b[0m\n\u001b[1;32m   1037\u001b[0m                                         \u001b[0minitial_epoch\u001b[0m\u001b[0;34m=\u001b[0m\u001b[0minitial_epoch\u001b[0m\u001b[0;34m,\u001b[0m\u001b[0;34m\u001b[0m\u001b[0m\n\u001b[1;32m   1038\u001b[0m                                         \u001b[0msteps_per_epoch\u001b[0m\u001b[0;34m=\u001b[0m\u001b[0msteps_per_epoch\u001b[0m\u001b[0;34m,\u001b[0m\u001b[0;34m\u001b[0m\u001b[0m\n\u001b[0;32m-> 1039\u001b[0;31m                                         validation_steps=validation_steps)\n\u001b[0m\u001b[1;32m   1040\u001b[0m \u001b[0;34m\u001b[0m\u001b[0m\n\u001b[1;32m   1041\u001b[0m     def evaluate(self, x=None, y=None,\n",
            "\u001b[0;32m/usr/local/lib/python3.6/dist-packages/keras/engine/training_arrays.py\u001b[0m in \u001b[0;36mfit_loop\u001b[0;34m(model, f, ins, out_labels, batch_size, epochs, verbose, callbacks, val_f, val_ins, shuffle, callback_metrics, initial_epoch, steps_per_epoch, validation_steps)\u001b[0m\n\u001b[1;32m    197\u001b[0m                     \u001b[0mins_batch\u001b[0m\u001b[0;34m[\u001b[0m\u001b[0mi\u001b[0m\u001b[0;34m]\u001b[0m \u001b[0;34m=\u001b[0m \u001b[0mins_batch\u001b[0m\u001b[0;34m[\u001b[0m\u001b[0mi\u001b[0m\u001b[0;34m]\u001b[0m\u001b[0;34m.\u001b[0m\u001b[0mtoarray\u001b[0m\u001b[0;34m(\u001b[0m\u001b[0;34m)\u001b[0m\u001b[0;34m\u001b[0m\u001b[0m\n\u001b[1;32m    198\u001b[0m \u001b[0;34m\u001b[0m\u001b[0m\n\u001b[0;32m--> 199\u001b[0;31m                 \u001b[0mouts\u001b[0m \u001b[0;34m=\u001b[0m \u001b[0mf\u001b[0m\u001b[0;34m(\u001b[0m\u001b[0mins_batch\u001b[0m\u001b[0;34m)\u001b[0m\u001b[0;34m\u001b[0m\u001b[0m\n\u001b[0m\u001b[1;32m    200\u001b[0m                 \u001b[0mouts\u001b[0m \u001b[0;34m=\u001b[0m \u001b[0mto_list\u001b[0m\u001b[0;34m(\u001b[0m\u001b[0mouts\u001b[0m\u001b[0;34m)\u001b[0m\u001b[0;34m\u001b[0m\u001b[0m\n\u001b[1;32m    201\u001b[0m                 \u001b[0;32mfor\u001b[0m \u001b[0ml\u001b[0m\u001b[0;34m,\u001b[0m \u001b[0mo\u001b[0m \u001b[0;32min\u001b[0m \u001b[0mzip\u001b[0m\u001b[0;34m(\u001b[0m\u001b[0mout_labels\u001b[0m\u001b[0;34m,\u001b[0m \u001b[0mouts\u001b[0m\u001b[0;34m)\u001b[0m\u001b[0;34m:\u001b[0m\u001b[0;34m\u001b[0m\u001b[0m\n",
            "\u001b[0;32m/usr/local/lib/python3.6/dist-packages/keras/backend/tensorflow_backend.py\u001b[0m in \u001b[0;36m__call__\u001b[0;34m(self, inputs)\u001b[0m\n\u001b[1;32m   2713\u001b[0m                 \u001b[0;32mreturn\u001b[0m \u001b[0mself\u001b[0m\u001b[0;34m.\u001b[0m\u001b[0m_legacy_call\u001b[0m\u001b[0;34m(\u001b[0m\u001b[0minputs\u001b[0m\u001b[0;34m)\u001b[0m\u001b[0;34m\u001b[0m\u001b[0m\n\u001b[1;32m   2714\u001b[0m \u001b[0;34m\u001b[0m\u001b[0m\n\u001b[0;32m-> 2715\u001b[0;31m             \u001b[0;32mreturn\u001b[0m \u001b[0mself\u001b[0m\u001b[0;34m.\u001b[0m\u001b[0m_call\u001b[0m\u001b[0;34m(\u001b[0m\u001b[0minputs\u001b[0m\u001b[0;34m)\u001b[0m\u001b[0;34m\u001b[0m\u001b[0m\n\u001b[0m\u001b[1;32m   2716\u001b[0m         \u001b[0;32melse\u001b[0m\u001b[0;34m:\u001b[0m\u001b[0;34m\u001b[0m\u001b[0m\n\u001b[1;32m   2717\u001b[0m             \u001b[0;32mif\u001b[0m \u001b[0mpy_any\u001b[0m\u001b[0;34m(\u001b[0m\u001b[0mis_tensor\u001b[0m\u001b[0;34m(\u001b[0m\u001b[0mx\u001b[0m\u001b[0;34m)\u001b[0m \u001b[0;32mfor\u001b[0m \u001b[0mx\u001b[0m \u001b[0;32min\u001b[0m \u001b[0minputs\u001b[0m\u001b[0;34m)\u001b[0m\u001b[0;34m:\u001b[0m\u001b[0;34m\u001b[0m\u001b[0m\n",
            "\u001b[0;32m/usr/local/lib/python3.6/dist-packages/keras/backend/tensorflow_backend.py\u001b[0m in \u001b[0;36m_call\u001b[0;34m(self, inputs)\u001b[0m\n\u001b[1;32m   2673\u001b[0m             \u001b[0mfetched\u001b[0m \u001b[0;34m=\u001b[0m \u001b[0mself\u001b[0m\u001b[0;34m.\u001b[0m\u001b[0m_callable_fn\u001b[0m\u001b[0;34m(\u001b[0m\u001b[0;34m*\u001b[0m\u001b[0marray_vals\u001b[0m\u001b[0;34m,\u001b[0m \u001b[0mrun_metadata\u001b[0m\u001b[0;34m=\u001b[0m\u001b[0mself\u001b[0m\u001b[0;34m.\u001b[0m\u001b[0mrun_metadata\u001b[0m\u001b[0;34m)\u001b[0m\u001b[0;34m\u001b[0m\u001b[0m\n\u001b[1;32m   2674\u001b[0m         \u001b[0;32melse\u001b[0m\u001b[0;34m:\u001b[0m\u001b[0;34m\u001b[0m\u001b[0m\n\u001b[0;32m-> 2675\u001b[0;31m             \u001b[0mfetched\u001b[0m \u001b[0;34m=\u001b[0m \u001b[0mself\u001b[0m\u001b[0;34m.\u001b[0m\u001b[0m_callable_fn\u001b[0m\u001b[0;34m(\u001b[0m\u001b[0;34m*\u001b[0m\u001b[0marray_vals\u001b[0m\u001b[0;34m)\u001b[0m\u001b[0;34m\u001b[0m\u001b[0m\n\u001b[0m\u001b[1;32m   2676\u001b[0m         \u001b[0;32mreturn\u001b[0m \u001b[0mfetched\u001b[0m\u001b[0;34m[\u001b[0m\u001b[0;34m:\u001b[0m\u001b[0mlen\u001b[0m\u001b[0;34m(\u001b[0m\u001b[0mself\u001b[0m\u001b[0;34m.\u001b[0m\u001b[0moutputs\u001b[0m\u001b[0;34m)\u001b[0m\u001b[0;34m]\u001b[0m\u001b[0;34m\u001b[0m\u001b[0m\n\u001b[1;32m   2677\u001b[0m \u001b[0;34m\u001b[0m\u001b[0m\n",
            "\u001b[0;32m/usr/local/lib/python3.6/dist-packages/tensorflow/python/client/session.py\u001b[0m in \u001b[0;36m__call__\u001b[0;34m(self, *args, **kwargs)\u001b[0m\n\u001b[1;32m   1437\u001b[0m           ret = tf_session.TF_SessionRunCallable(\n\u001b[1;32m   1438\u001b[0m               \u001b[0mself\u001b[0m\u001b[0;34m.\u001b[0m\u001b[0m_session\u001b[0m\u001b[0;34m.\u001b[0m\u001b[0m_session\u001b[0m\u001b[0;34m,\u001b[0m \u001b[0mself\u001b[0m\u001b[0;34m.\u001b[0m\u001b[0m_handle\u001b[0m\u001b[0;34m,\u001b[0m \u001b[0margs\u001b[0m\u001b[0;34m,\u001b[0m \u001b[0mstatus\u001b[0m\u001b[0;34m,\u001b[0m\u001b[0;34m\u001b[0m\u001b[0m\n\u001b[0;32m-> 1439\u001b[0;31m               run_metadata_ptr)\n\u001b[0m\u001b[1;32m   1440\u001b[0m         \u001b[0;32mif\u001b[0m \u001b[0mrun_metadata\u001b[0m\u001b[0;34m:\u001b[0m\u001b[0;34m\u001b[0m\u001b[0m\n\u001b[1;32m   1441\u001b[0m           \u001b[0mproto_data\u001b[0m \u001b[0;34m=\u001b[0m \u001b[0mtf_session\u001b[0m\u001b[0;34m.\u001b[0m\u001b[0mTF_GetBuffer\u001b[0m\u001b[0;34m(\u001b[0m\u001b[0mrun_metadata_ptr\u001b[0m\u001b[0;34m)\u001b[0m\u001b[0;34m\u001b[0m\u001b[0m\n",
            "\u001b[0;31mKeyboardInterrupt\u001b[0m: "
          ]
        }
      ]
    },
    {
      "metadata": {
        "colab_type": "code",
        "id": "UW1CiBhnXnxa",
        "outputId": "857354d7-2389-431b-d67d-7d80ad4fe5be",
        "colab": {
          "base_uri": "https://localhost:8080/",
          "height": 34
        }
      },
      "cell_type": "code",
      "source": [
        "!ls -l | grep model.h5\n",
        "\n",
        "drive.mount('/content/gdrive')\n",
        "!ls /content/gdrive/'My Drive'/'Colab Notebooks'\n",
        "\n",
        "!cp model.h5 /content/gdrive/My\\ Drive/Colab\\ Notebooks/model.h5\n"
      ],
      "execution_count": 7,
      "outputs": [
        {
          "output_type": "stream",
          "text": [
            "-rw-r--r-- 1 root root 35407584 Nov  6 20:52 model.h5\n"
          ],
          "name": "stdout"
        }
      ]
    },
    {
      "metadata": {
        "colab_type": "text",
        "id": "nQux6qLdXabG"
      },
      "cell_type": "markdown",
      "source": [
        "## Make predictions"
      ]
    },
    {
      "metadata": {
        "colab_type": "code",
        "id": "fSDxetlfUEiD",
        "outputId": "b033224d-b877-405f-b819-4f8a56113713",
        "colab": {
          "base_uri": "https://localhost:8080/",
          "height": 52
        }
      },
      "cell_type": "code",
      "source": [
        "\n",
        "#new_text = np.array(new_text, dtype=object)[:, np.newaxis]\n",
        "with tf.Session() as session:\n",
        "  K.set_session(session)\n",
        "  session.run(tf.global_variables_initializer())\n",
        "  session.run(tf.tables_initializer())\n",
        "  model.load_weights('./model.h5')  \n",
        "  predicts = model.predict(test_text_d, batch_size=32)\n",
        "\n",
        "train_text = None\n",
        "train_text_d = None\n",
        "train_label = None\n",
        "train_labels = None\n",
        "print(len(predicts))\n",
        "print(predicts[0].shape)\n",
        "K.clear_session()\n",
        "gc.collect()\n",
        "model = None\n",
        "pickle.dump(predicts, './predictions.pkl', pickle.HIGHEST_PROTOCOL)\n"
      ],
      "execution_count": 14,
      "outputs": [
        {
          "output_type": "stream",
          "text": [
            "40\n",
            "(50, 41)\n"
          ],
          "name": "stdout"
        }
      ]
    },
    {
      "metadata": {
        "id": "afh7IcHATglZ",
        "colab_type": "code",
        "colab": {
          "base_uri": "https://localhost:8080/",
          "height": 34
        },
        "outputId": "40bb1198-8d85-46fd-d7e0-4da143483bda"
      },
      "cell_type": "code",
      "source": [
        "stop\n",
        "# Collect possible phonemes from each output model\n",
        "# [num_lines][num_symbols][N > 0.8]\n",
        "num_tests = 2\n",
        "arpabet_arrays = [[]] * num_tests\n",
        "score_arrays = [[]] * num_tests\n",
        "for j in range(num_tests):\n",
        "    arpabet_arrays[j] = [[]] * num_symbols\n",
        "    score_arrays[j] = [[]] * num_symbols\n",
        "    for i in range(num_symbols):\n",
        "      arpabet_arrays[j][i] = []\n",
        "      score_arrays[j][i] = []\n",
        "\n",
        "sum = 0\n",
        "count = 0\n",
        "for i in range(num_symbols):\n",
        "  for j in range(num_tests):\n",
        "    for k in range(num_arpabets):\n",
        "      if predicts[i][j][k] > 0.05:\n",
        "        #print(\"i, j {0},{1}\".format(i,j))\n",
        "        arpabet_arrays[j][i].append(arpabets_mgr.get_arpabet(k))\n",
        "        score_arrays[j][i].append(predicts[i][j][k])\n",
        "    sum += len(score_arrays[j][i])\n",
        "    count += 1\n",
        "print(\"Mean length = {0}\".format(sum/count))\n",
        "\n",
        "predicts = None\n",
        "    "
      ],
      "execution_count": 16,
      "outputs": [
        {
          "output_type": "stream",
          "text": [
            "Mean length = 3.8875\n"
          ],
          "name": "stdout"
        }
      ]
    },
    {
      "metadata": {
        "id": "x8cHyrYFzTfP",
        "colab_type": "code",
        "colab": {
          "base_uri": "https://localhost:8080/",
          "height": 211
        },
        "outputId": "f7fc7e72-92cb-4031-cb98-239de4ce4242"
      },
      "cell_type": "code",
      "source": [
        "\n",
        "#for i in range(num_symbols):\n",
        "#  print(len(arpabets[i][0]))\n",
        "        \n",
        "  \n",
        "print(\"Arpabets[0]: {0}\".format(arpabet_arrays[1]))\n",
        "print(\"Scores[0]: {0}\".format(score_arrays[1]))\n",
        "\n",
        "#sample =  [['AE'], ['N'], ['D'], ['W'], ['AH', 'EH'], ['N', 'T', 'DH']]\n",
        "##for x in product(*sample):\n",
        "#  print(x)\n",
        "\n",
        "decoder = decodewords.Decoder(cmudict.CMUDict().get_reverse_dict(), arpabets_mgr)\n",
        "for i in range(0,num_tests):\n",
        "  alist = []\n",
        "  slist = []\n",
        "  print(score_arrays[i])\n",
        "  for a in product(*arpabet_arrays[i]):\n",
        "    alist.append(a)\n",
        "  for s in product(*score_arrays[i]):\n",
        "    slist.append(s)\n",
        "  stotals = [1.0] * len(slist)\n",
        "  for i in range(len(slist)):\n",
        "    stotals[i] = decodewords.sum_scores(alist[i], slist[i])\n",
        "  topindex = np.argsort(stotals)[0]\n",
        "  print(\"Top score = {0}\".format(stotals[topindex]))\n",
        "  atest = alist[topindex]\n",
        "  stest = slist[topindex]\n",
        "  alist = None\n",
        "  slist = None\n",
        "  print(arpabet_arrays[i])\n",
        "  trylist = []\n",
        "  print(len(slist))\n",
        "  for s in decoder.decode_sentence(atest, 12):\n",
        "    print(s)\n"
      ],
      "execution_count": 0,
      "outputs": [
        {
          "output_type": "stream",
          "text": [
            "Arpabets[0]: [['AE'], ['N'], ['D', 'W'], ['W'], ['AH', 'N', 'T', 'Z', 'M', 'EH'], ['N', 'IH', 'T', 'D', 'W'], ['N', 'IH', 'T', 'ER', 'F', 'W'], ['AH', 'Z', 'CH'], ['IH', 'L', 'M', 'EY', 'UW'], ['N', 'IH', 'AE', 'M', 'AY'], ['AH', 'N', 'T', 'S', 'AE', 'IY', 'B'], ['AH', 'N', 'IH', 'S', 'UW'], ['AH', 'D', 'L', 'M', 'G'], ['DH', 'AE', 'M', 'EH', 'EY'], ['N', 'T', 'D', 'R', 'M', 'EH'], ['AH', 'N', 'T', 'DH', 'EH'], ['AH', 'N', 'T', 'EH', 'K', 'SH'], ['AH', 'N', 'T', 'D', 'M', 'EH', 'B'], ['N', 'D', 'W'], ['AH', 'N', 'IH', 'T', 'D', 'AO'], ['T', 'Z', 'M'], ['AH', 'N', 'IH', 'T', 'AE', 'Z', 'M'], ['AH', 'N', 'IH', 'T'], ['N', 'UW'], ['EH', 'CH'], ['.', 'N', 'IH', 'D', 'M'], ['.', 'IY', 'W'], ['.'], ['.', 'W'], ['.'], ['.'], ['.'], ['.'], ['.'], ['.'], ['.'], ['.'], ['.'], ['.'], ['.']]\n",
            "Scores[0]: [[0.97993547], [0.91249305], [0.91863537, 0.052145164], [0.94674903], [0.16167875, 0.054120082, 0.14562535, 0.06867671, 0.12697853, 0.23246244], [0.05493151, 0.0773692, 0.4463735, 0.18279395, 0.06706879], [0.06601433, 0.22984158, 0.06151217, 0.08672315, 0.050503172, 0.2925288], [0.072198234, 0.05773133, 0.62575483], [0.052858546, 0.08187376, 0.4014019, 0.07689839, 0.08678069], [0.1338474, 0.06400784, 0.109496936, 0.3625472, 0.063386776], [0.15833606, 0.09974384, 0.14782545, 0.09687939, 0.12937748, 0.06642402, 0.09003847], [0.11287959, 0.25180635, 0.15189478, 0.07623371, 0.060067337], [0.112843335, 0.29105636, 0.056834124, 0.11670896, 0.14394613], [0.10113909, 0.21467596, 0.14402796, 0.078528985, 0.22595382], [0.28760594, 0.06717517, 0.073402524, 0.06572422, 0.17235264, 0.08076373], [0.25709316, 0.059784476, 0.3071927, 0.069441475, 0.06351068], [0.1793873, 0.1460077, 0.07987472, 0.0790883, 0.11333599, 0.09551669], [0.054077666, 0.0779445, 0.2230971, 0.053459473, 0.08293107, 0.06913322, 0.1018967], [0.08192926, 0.15474395, 0.53551346], [0.06714902, 0.1561686, 0.09727729, 0.1214397, 0.15311646, 0.14436913], [0.10904777, 0.08676412, 0.6180234], [0.12790176, 0.14522542, 0.057473294, 0.063507125, 0.064196914, 0.050905656, 0.21521546], [0.21692172, 0.11097657, 0.082683094, 0.3275711], [0.05828065, 0.53451884], [0.4431207, 0.3823839], [0.17969714, 0.13787532, 0.13962126, 0.061664943, 0.14723912], [0.61459, 0.17448758, 0.052954074], [0.9086337], [0.8618802, 0.0923511], [0.9951866], [0.97935975], [0.99631447], [1.0], [0.99999905], [1.0], [1.0], [1.0], [1.0], [1.0], [1.0]]\n"
          ],
          "name": "stdout"
        },
        {
          "output_type": "stream",
          "text": [
            "Exception ignored in: <bound method BaseSession._Callable.__del__ of <tensorflow.python.client.session.BaseSession._Callable object at 0x7f7ed8e9d5f8>>\n",
            "Traceback (most recent call last):\n",
            "  File \"/usr/local/lib/python3.6/dist-packages/tensorflow/python/client/session.py\", line 1455, in __del__\n",
            "    self._session._session, self._handle, status)\n",
            "  File \"/usr/local/lib/python3.6/dist-packages/tensorflow/python/framework/errors_impl.py\", line 528, in __exit__\n",
            "    c_api.TF_GetCode(self.status.status))\n",
            "tensorflow.python.framework.errors_impl.CancelledError: Session has been closed.\n"
          ],
          "name": "stderr"
        },
        {
          "output_type": "stream",
          "text": [
            "[[0.29036832, 0.3113626, 0.08475619, 0.27586854], [0.19032195, 0.15546578, 0.29611334, 0.23502229], [0.49368775, 0.08723735, 0.06875456, 0.1809593], [0.07813723, 0.073186375, 0.06826439, 0.10804038, 0.12825653, 0.0653111, 0.076206334, 0.1211741, 0.088586226], [0.05784819, 0.17479582, 0.06392454, 0.053715937, 0.0990289, 0.05607633, 0.0645098, 0.059794076, 0.0872144], [0.09271701, 0.32854956, 0.08191359, 0.2078858], [0.17519437, 0.056462545, 0.09968689, 0.05813956, 0.131775, 0.24667202, 0.052032657], [0.06162457, 0.118113264, 0.07232599, 0.057890266, 0.11477402, 0.081592284], [0.10220439, 0.12699816, 0.06798474, 0.07158575, 0.12413731, 0.09110647], [0.12833738, 0.061207045, 0.11362621, 0.18284066, 0.056788836], [0.3909338, 0.054154746, 0.055184048, 0.061008688, 0.063893676], [0.06331083, 0.08587937, 0.08645802, 0.06600066, 0.06554527, 0.40057242], [0.07000009, 0.057009596, 0.1472882, 0.12611654, 0.12026471, 0.15387096], [0.09218088, 0.0628935, 0.10586531, 0.10850608, 0.054273713, 0.1013156, 0.08201776, 0.051475644], [0.09555727, 0.0836723, 0.050732657, 0.14427699, 0.050691407, 0.058406804, 0.053829785, 0.091417946, 0.11038489], [0.11664701, 0.05190844, 0.053006828, 0.0531511, 0.17674994, 0.13245542, 0.06129482, 0.065867044, 0.054368228], [0.08723823, 0.113259576, 0.10934718, 0.063979544, 0.18089563, 0.059122313], [0.06686005, 0.077461295, 0.0741054, 0.3828698], [0.07631845, 0.06772534, 0.07162802, 0.18392886, 0.050608642, 0.052252147, 0.08541789], [0.05708033, 0.09358432, 0.050814506, 0.10493133, 0.06939888, 0.18004616, 0.064690545, 0.07967183, 0.07443564], [0.15313123, 0.19389334, 0.07880048, 0.10200862], [0.22994709, 0.14125179, 0.057054665, 0.055940937, 0.1648842], [0.095904306, 0.094237484, 0.058189876, 0.22080258, 0.07990669, 0.101990245, 0.05670106], [0.22513148, 0.06354723, 0.09762041, 0.05343215, 0.06809348, 0.051595483], [0.061062746, 0.21775334, 0.06358758, 0.36187935], [0.10050383, 0.070300214, 0.1939227, 0.11274878, 0.13662036], [0.35010684, 0.061389863, 0.12132206, 0.059585992, 0.08306492], [0.6929812, 0.08504395, 0.050540734], [0.7239052, 0.087345086], [0.8580589, 0.059990406], [0.96202844], [0.9405541, 0.051286947], [0.9996737], [0.999997], [1.0], [1.0], [1.0], [1.0], [1.0], [1.0]]\n"
          ],
          "name": "stdout"
        }
      ]
    },
    {
      "metadata": {
        "colab_type": "code",
        "id": "yyDGVtigW57f",
        "outputId": "d385b06a-42df-4607-8811-b31fd1c50229",
        "colab": {
          "base_uri": "https://localhost:8080/",
          "height": 231
        }
      },
      "cell_type": "code",
      "source": [
        "categories = df_train.label.cat.categories.tolist()\n",
        "predict_logits = predicts.argmax(axis=1)\n",
        "print(\"Categorie: {0}\".format(categories))\n",
        "predict_labels = [categories[logit] for logit in predict_logits]\n",
        "predict_labels"
      ],
      "execution_count": 18,
      "outputs": [
        {
          "output_type": "error",
          "ename": "NameError",
          "evalue": "ignored",
          "traceback": [
            "\u001b[0;31m---------------------------------------------------------------------------\u001b[0m",
            "\u001b[0;31mNameError\u001b[0m                                 Traceback (most recent call last)",
            "\u001b[0;32m<ipython-input-18-7f6e6bf5580f>\u001b[0m in \u001b[0;36m<module>\u001b[0;34m()\u001b[0m\n\u001b[0;32m----> 1\u001b[0;31m \u001b[0mcategories\u001b[0m \u001b[0;34m=\u001b[0m \u001b[0mdf_train\u001b[0m\u001b[0;34m.\u001b[0m\u001b[0mlabel\u001b[0m\u001b[0;34m.\u001b[0m\u001b[0mcat\u001b[0m\u001b[0;34m.\u001b[0m\u001b[0mcategories\u001b[0m\u001b[0;34m.\u001b[0m\u001b[0mtolist\u001b[0m\u001b[0;34m(\u001b[0m\u001b[0;34m)\u001b[0m\u001b[0;34m\u001b[0m\u001b[0m\n\u001b[0m\u001b[1;32m      2\u001b[0m \u001b[0mpredict_logits\u001b[0m \u001b[0;34m=\u001b[0m \u001b[0mpredicts\u001b[0m\u001b[0;34m.\u001b[0m\u001b[0margmax\u001b[0m\u001b[0;34m(\u001b[0m\u001b[0maxis\u001b[0m\u001b[0;34m=\u001b[0m\u001b[0;36m1\u001b[0m\u001b[0;34m)\u001b[0m\u001b[0;34m\u001b[0m\u001b[0m\n\u001b[1;32m      3\u001b[0m \u001b[0mprint\u001b[0m\u001b[0;34m(\u001b[0m\u001b[0;34m\"Categorie: {0}\"\u001b[0m\u001b[0;34m.\u001b[0m\u001b[0mformat\u001b[0m\u001b[0;34m(\u001b[0m\u001b[0mcategories\u001b[0m\u001b[0;34m)\u001b[0m\u001b[0;34m)\u001b[0m\u001b[0;34m\u001b[0m\u001b[0m\n\u001b[1;32m      4\u001b[0m \u001b[0mpredict_labels\u001b[0m \u001b[0;34m=\u001b[0m \u001b[0;34m[\u001b[0m\u001b[0mcategories\u001b[0m\u001b[0;34m[\u001b[0m\u001b[0mlogit\u001b[0m\u001b[0;34m]\u001b[0m \u001b[0;32mfor\u001b[0m \u001b[0mlogit\u001b[0m \u001b[0;32min\u001b[0m \u001b[0mpredict_logits\u001b[0m\u001b[0;34m]\u001b[0m\u001b[0;34m\u001b[0m\u001b[0m\n\u001b[1;32m      5\u001b[0m \u001b[0mpredict_labels\u001b[0m\u001b[0;34m\u001b[0m\u001b[0m\n",
            "\u001b[0;31mNameError\u001b[0m: name 'df_train' is not defined"
          ]
        }
      ]
    },
    {
      "metadata": {
        "colab_type": "code",
        "id": "hYhmukbSKpnp",
        "colab": {
          "base_uri": "https://localhost:8080/",
          "height": 182
        },
        "outputId": "26d3e842-c282-4786-8b7d-e9780063077d"
      },
      "cell_type": "code",
      "source": [
        "\n",
        "os.remove('./model.h5')"
      ],
      "execution_count": 3,
      "outputs": [
        {
          "output_type": "error",
          "ename": "FileNotFoundError",
          "evalue": "ignored",
          "traceback": [
            "\u001b[0;31m---------------------------------------------------------------------------\u001b[0m",
            "\u001b[0;31mFileNotFoundError\u001b[0m                         Traceback (most recent call last)",
            "\u001b[0;32m<ipython-input-3-13211db72c4c>\u001b[0m in \u001b[0;36m<module>\u001b[0;34m()\u001b[0m\n\u001b[1;32m      1\u001b[0m \u001b[0;34m\u001b[0m\u001b[0m\n\u001b[0;32m----> 2\u001b[0;31m \u001b[0mos\u001b[0m\u001b[0;34m.\u001b[0m\u001b[0mremove\u001b[0m\u001b[0;34m(\u001b[0m\u001b[0;34m'./model.h5'\u001b[0m\u001b[0;34m)\u001b[0m\u001b[0;34m\u001b[0m\u001b[0m\n\u001b[0m",
            "\u001b[0;31mFileNotFoundError\u001b[0m: [Errno 2] No such file or directory: './model.h5'"
          ]
        }
      ]
    }
  ]
}