{
  "nbformat": 4,
  "nbformat_minor": 0,
  "metadata": {
    "colab": {
      "name": "Deep_Meter_Transfer.ipynb",
      "version": "0.3.2",
      "provenance": [],
      "collapsed_sections": []
    },
    "kernelspec": {
      "display_name": "Python 3",
      "language": "python",
      "name": "python3"
    },
    "accelerator": "GPU"
  },
  "cells": [
    {
      "metadata": {
        "colab_type": "text",
        "id": "co7MV6sX7Xto"
      },
      "cell_type": "markdown",
      "source": [
        "# [Keras + Universal Sentence Encoder = Deep Meter] (https://www.dlology.com/blog/keras-meets-universal-sentence-encoder-transfer-learning-for-text-data/) "
      ]
    },
    {
      "metadata": {
        "colab_type": "text",
        "id": "eAVQGidpL8v5"
      },
      "cell_type": "markdown",
      "source": [
        "This notebook creates an autoencoder using the Universal Sentence Encoder. The autoencoder output is CMUdict syllables. The dataset is that subset of Allison Parrish's Project Gutenberg poetry archive which happens to scan in iambic pentameter.\n",
        "\n",
        "The notebook is based on Chengwei Zhang's example of wrapping the USE inside a larger tensorflow model saves to a Keras model (without save the USE itself in the TF model).\n",
        "\n",
        "The Universal Sentence Encoder makes getting sentence level embeddings as easy as it has historically been to lookup the embeddings for individual words. The sentence embeddings can then be trivially used to compute sentence level meaning similarity as well as to enable better performance on downstream classification tasks using less supervised training data.\n",
        "\n",
        "Since there are 10 one-hot values for 10 sets of 6k syllables, this is \"multi-label classification\"\n",
        "Changes for multi-label classification:\n",
        "sigmoid activation instead of softmax\n",
        "binary_crossentropy\n",
        "\n",
        "Text format is tab-separated, 2 columns: first text, second multi-level\n",
        "array of syllables:\n",
        "\n",
        "Output to one multi-label set of syllables. Used to train Human & Lizard levels how to output to syllables."
      ]
    },
    {
      "metadata": {
        "colab_type": "text",
        "id": "pOTzp8O36CyQ"
      },
      "cell_type": "markdown",
      "source": [
        "# Getting Started\n",
        "\n",
        "This section sets up the environment for access to the Universal Sentence Encoder on TF Hub and provides examples of applying the encoder to words, sentences, and paragraphs."
      ]
    },
    {
      "metadata": {
        "colab_type": "code",
        "id": "lVjNK8shFKOC",
        "outputId": "a70de3c8-ad02-446d-f837-07493fc95251",
        "colab": {
          "base_uri": "https://localhost:8080/",
          "height": 156
        }
      },
      "cell_type": "code",
      "source": [
        "# Install the latest Tensorflow version.\n",
        "#!pip3 install --quiet \"tensorflow>=1.7\"\n",
        "# Install TF-Hub.\n",
        "#!pip3 install --quiet tensorflow-hub\n",
        "#%cd /content\n",
        "!git clone https://github.com/LanceNorskog/deep_meter || true\n",
        "%cd /content/deep_meter\n",
        "!pip install -r -q requirements.txt\n",
        "!git pull\n",
        "# could not figure out how to read gzipped files as text!\n",
        "!gunzip -qf blobs/*.gz || true\n",
        "!gunzip -qf prepped_data/*.gz || true\n",
        "# Need to scramble this with awk\n",
        "!mkdir -p /content/full_raw /content/full_data; rm -f /content/full_raw/* /content/full_data/*\n",
        "!cd /content/full_raw; cut -f1 < /content/deep_meter/blobs/gutenberg-poetry-v001.csv | head -100000 | split -l20000 -a 5 \n",
        "!ls -sh /content/full_raw"
      ],
      "execution_count": 1,
      "outputs": [
        {
          "output_type": "stream",
          "text": [
            "fatal: destination path 'deep_meter' already exists and is not an empty directory.\n",
            "/content/deep_meter\n",
            "\u001b[31mCould not open requirements file: [Errno 2] No such file or directory: '-q'\u001b[0m\n",
            "Already up to date.\n",
            "gzip: blobs/*.gz: No such file or directory\n",
            "gzip: prepped_data/*.gz: No such file or directory\n",
            "total 3.8M\n",
            "792K xaaaaa  824K xaaaab  856K xaaaac  728K xaaaad  628K xaaaae\n"
          ],
          "name": "stdout"
        }
      ]
    },
    {
      "metadata": {
        "colab_type": "code",
        "id": "MSeY-MUQo2Ha",
        "outputId": "8788224f-c50a-4e8b-9da5-fd37b332eae8",
        "colab": {
          "base_uri": "https://localhost:8080/",
          "height": 34
        }
      },
      "cell_type": "code",
      "source": [
        "# boilerplate from base notebook\n",
        "import tensorflow as tf\n",
        "import tensorflow_hub as hub\n",
        "import matplotlib.pyplot as plt\n",
        "import numpy as np\n",
        "import os\n",
        "import pandas as pd\n",
        "import re\n",
        "import seaborn as sns\n",
        "import keras.layers as layers\n",
        "from keras.callbacks import ModelCheckpoint\n",
        "from keras.models import Model\n",
        "from keras import backend as K\n",
        "from keras.callbacks import EarlyStopping, ModelCheckpoint\n",
        "from tensorflow.keras.optimizers import Nadam, Adam\n",
        "import gc\n",
        "from google.colab import files\n",
        "from google.colab import drive\n",
        "\n",
        "import pickle\n",
        "np.random.seed(10)"
      ],
      "execution_count": 2,
      "outputs": [
        {
          "output_type": "stream",
          "text": [
            "Using TensorFlow backend.\n"
          ],
          "name": "stderr"
        }
      ]
    },
    {
      "metadata": {
        "id": "OXC-OmZvR_K-",
        "colab_type": "code",
        "outputId": "3025d76f-4d55-473a-d0e5-bd094edc10da",
        "colab": {
          "base_uri": "https://localhost:8080/",
          "height": 34
        }
      },
      "cell_type": "code",
      "source": [
        "drive.mount('/content/gdrive')"
      ],
      "execution_count": 3,
      "outputs": [
        {
          "output_type": "stream",
          "text": [
            "Drive already mounted at /content/gdrive; to attempt to forcibly remount, call drive.mount(\"/content/gdrive\", force_remount=True).\n"
          ],
          "name": "stdout"
        }
      ]
    },
    {
      "metadata": {
        "colab_type": "code",
        "id": "feBc_8Y-pt6F",
        "colab": {}
      },
      "cell_type": "code",
      "source": [
        "# github deep_meter code\n",
        "import utils\n",
        "# should not need this to use utils.flatten but is true anyway?\n",
        "from itertools import chain\n",
        "import subprocess\n",
        "import syllables\n",
        "import cmudict\n",
        "import decodesyllables\n",
        "import languagemodel\n",
        "import embed_mgr\n",
        "#import readprepped\n",
        "import transfer_mgr\n",
        "import caching_generator\n",
        "from simple_beam_search import beam_search_decoder, x_beam_search_decoder, word_beam_search_decoder\n",
        "# misc for this notebook\n",
        "from ast import literal_eval"
      ],
      "execution_count": 0,
      "outputs": []
    },
    {
      "metadata": {
        "id": "2FZaiDWJ9uPJ",
        "colab_type": "code",
        "colab": {}
      },
      "cell_type": "code",
      "source": [
        "# read classified poetry lines: text tab [['syll', 'la', 'ble'], ...]\n",
        "# clip to only most common syllables with syllable manager\n",
        "# encode labels to one multi-label vector\n",
        "def get_data(filename, syll_mgr, max_lines=100000000):\n",
        "    lines = open(filename, 'r').read().splitlines()\n",
        "    text_lines = []\n",
        "    enc_array = []\n",
        "    num_syllables = syll_mgr.get_size()\n",
        "    lines = lines[:max_lines]\n",
        "    for i in range(0, len(lines)):\n",
        "      parts = lines[i].split(\"\\t\")\n",
        "      label = utils.flatten(literal_eval(parts[1]))\n",
        "      if len(label) != num_symbols:\n",
        "        continue\n",
        "      enc = np.zeros((syll_mgr.get_size()), dtype=np.int8)\n",
        "      for j in range(num_symbols):\n",
        "        enc[syll_mgr.get_encoding(label[j])] = 1\n",
        "      text_lines.append([parts[0]])\n",
        "      enc_array.append(enc)\n",
        "\n",
        "    lines = None\n",
        "    return (np.array(text_lines), np.array(enc_array))\n"
      ],
      "execution_count": 0,
      "outputs": []
    },
    {
      "metadata": {
        "colab_type": "code",
        "id": "3HAtd4X5DayF",
        "colab": {}
      },
      "cell_type": "code",
      "source": [
        "# syllables in descending order of occurrence - 6k in gutenberg.iambic_pentameter, 15k total\n",
        "# clamp to most common 100 syllables while debugging- use NCE to get all syllables or interesting number\n",
        "# 98 + pause + wildcard\n",
        "# iambic pentameter\n",
        "num_symbols = 10\n",
        "#syll_mgr = syllables.syllables(num_syllables)\n",
        "syll_mgr = syllables.syllables()\n",
        "num_syllables = syll_mgr.get_size() "
      ],
      "execution_count": 0,
      "outputs": []
    },
    {
      "metadata": {
        "colab_type": "code",
        "id": "eN9aqig-QpDZ",
        "outputId": "58666f53-92de-45eb-c985-c2666a71a69d",
        "colab": {
          "base_uri": "https://localhost:8080/",
          "height": 52
        }
      },
      "cell_type": "code",
      "source": [
        "(test_text, test_label) = get_data('prepped_data/gutenberg.iambic_pentameter.test', syll_mgr, max_lines=4500)\n",
        "num_tests = len(test_text)\n",
        "print(len(test_text))\n",
        "print(test_label.shape)"
      ],
      "execution_count": 7,
      "outputs": [
        {
          "output_type": "stream",
          "text": [
            "4200\n",
            "(4200, 6635)\n"
          ],
          "name": "stdout"
        }
      ]
    },
    {
      "metadata": {
        "colab_type": "text",
        "id": "Sf9A4Xl6J7c6"
      },
      "cell_type": "markdown",
      "source": [
        "## Embed training & test text"
      ]
    },
    {
      "metadata": {
        "colab_type": "code",
        "id": "-mQUV_7dIm-9",
        "colab": {}
      },
      "cell_type": "code",
      "source": [
        "# slow\n",
        "num_epochs = 5\n",
        "adam_0001 = Adam(0.0001)\n",
        "adam_0001 = tf.contrib.opt.NadamOptimizer(0.0001)"
      ],
      "execution_count": 0,
      "outputs": []
    },
    {
      "metadata": {
        "colab_type": "text",
        "id": "qX2rBOuxDP1m"
      },
      "cell_type": "markdown",
      "source": [
        "## Assemble model"
      ]
    },
    {
      "metadata": {
        "id": "gdwGWV4XQRiF",
        "colab_type": "code",
        "outputId": "8e0490ec-86cc-4b32-f568-95f728876b87",
        "colab": {
          "base_uri": "https://localhost:8080/",
          "height": 416
        }
      },
      "cell_type": "code",
      "source": [
        "use_mgr = embed_mgr.use_mgr()\n",
        "(embed, embed_size) = use_mgr.load_use()\n",
        "model = transfer_mgr.new_transfer_model(embed, embed_size, num_symbols, num_syllables, optimizer=adam_0001, dropout=0.5)\n",
        "model.summary()\n"
      ],
      "execution_count": 9,
      "outputs": [
        {
          "output_type": "stream",
          "text": [
            "_________________________________________________________________\n",
            "Layer (type)                 Output Shape              Param #   \n",
            "=================================================================\n",
            "input_1 (InputLayer)         (None, 1)                 0         \n",
            "_________________________________________________________________\n",
            "USE (Lambda)                 (None, 512)               0         \n",
            "_________________________________________________________________\n",
            "dropout_1 (Dropout)          (None, 512)               0         \n",
            "_________________________________________________________________\n",
            "Human (Dense)                (None, 1024)              525312    \n",
            "_________________________________________________________________\n",
            "dropout_2 (Dropout)          (None, 1024)              0         \n",
            "_________________________________________________________________\n",
            "Chimp (Dense)                (None, 2048)              2099200   \n",
            "_________________________________________________________________\n",
            "dropout_3 (Dropout)          (None, 2048)              0         \n",
            "_________________________________________________________________\n",
            "Onehot (Dense)               (None, 6635)              13595115  \n",
            "=================================================================\n",
            "Total params: 16,219,627\n",
            "Trainable params: 16,219,627\n",
            "Non-trainable params: 0\n",
            "_________________________________________________________________\n"
          ],
          "name": "stdout"
        }
      ]
    },
    {
      "metadata": {
        "id": "3NZsWecRWERX",
        "colab_type": "code",
        "colab": {}
      },
      "cell_type": "code",
      "source": [
        "training_generator = caching_generator.DataGenerator()\n",
        "def create_model_checkpoint(dir, model_name):\n",
        "    filepath = dir + '/' + model_name + \".h5\" \n",
        "    directory = os.path.dirname(filepath)\n",
        "    try:\n",
        "        os.stat(directory)\n",
        "    except:\n",
        "        os.mkdir(directory)\n",
        "    checkpointer = ModelCheckpoint(filepath=filepath, verbose=1, save_weights_only=True, save_best_only=True)\n",
        "    return checkpointer\n",
        "\n",
        "checkpointer = create_model_checkpoint('.', 'model_transfer')\n"
      ],
      "execution_count": 0,
      "outputs": []
    },
    {
      "metadata": {
        "colab_type": "text",
        "id": "bqcRy_JWXe0u"
      },
      "cell_type": "markdown",
      "source": [
        "## Train Keras model and save weights\n",
        "This only trains and save our Keras layers not the embed module' weights."
      ]
    },
    {
      "metadata": {
        "colab_type": "code",
        "id": "_stfC_7VFhS8",
        "outputId": "6352f25e-c737-4cdc-8a76-ec3ff3c74d5d",
        "colab": {
          "base_uri": "https://localhost:8080/",
          "height": 885
        }
      },
      "cell_type": "code",
      "source": [
        "use_saved_model=False\n",
        "\n",
        "history = None\n",
        "if not use_saved_model or not os.path.exists('./model_transfer.h5'):\n",
        "  with tf.Session() as session:\n",
        "    K.set_session(session)\n",
        "    session.run(tf.global_variables_initializer())\n",
        "    session.run(tf.tables_initializer())\n",
        "    \n",
        "    history = model.fit_generator(generator=training_generator,\n",
        "                                  validation_data=(test_text, test_label),\n",
        "                                  #steps_per_epoch=10,\n",
        "                                  verbose=2,\n",
        "                                  epochs=num_epochs,\n",
        "                                  callbacks=[checkpointer],\n",
        "                                  use_multiprocessing=True,\n",
        "                                  workers=6\n",
        "                                 )\n",
        "    transfer_mgr.save_transfer_model(model)"
      ],
      "execution_count": 11,
      "outputs": [
        {
          "output_type": "stream",
          "text": [
            "Epoch 1/5\n",
            "index[4]: Text, Label shapes: (20000,) , (20000, 6635)\n",
            "index[3]: Text, Label shapes: (20000,) , (20000, 6635)\n",
            "index[2]: Text, Label shapes: (20000,) , (20000, 6635)\n",
            "index[1]: Text, Label shapes: (20000,) , (20000, 6635)\n",
            "index[0]: Text, Label shapes: (20000,) , (20000, 6635)\n",
            "index[2]: Text, Label shapes: (20000,) , (20000, 6635)\n",
            "index[3]: Text, Label shapes: (20000,) , (20000, 6635)\n",
            "index[4]: Text, Label shapes: (20000,) , (20000, 6635)\n",
            "index[1]: Text, Label shapes: (20000,) , (20000, 6635)\n",
            "index[0]: Text, Label shapes: (20000,) , (20000, 6635)\n",
            " - 68s - loss: 0.6878 - binary_crossentropy: 0.6878 - val_loss: 0.6844 - val_binary_crossentropy: 0.6844\n",
            "\n",
            "Epoch 00001: val_loss improved from inf to 0.68444, saving model to ./model_transfer.h5\n",
            "Epoch 2/5\n",
            "index[2]: Text, Label shapes: (20000,) , (20000, 6635)\n",
            "index[0]: Text, Label shapes: (20000,) , (20000, 6635)\n",
            "index[3]: Text, Label shapes: (20000,) , (20000, 6635)\n",
            "index[4]: Text, Label shapes: (20000,) , (20000, 6635)\n",
            "index[1]: Text, Label shapes: (20000,) , (20000, 6635)\n",
            " - 49s - loss: 0.6704 - binary_crossentropy: 0.6704 - val_loss: 0.6667 - val_binary_crossentropy: 0.6667\n",
            "\n",
            "Epoch 00002: val_loss improved from 0.68444 to 0.66671, saving model to ./model_transfer.h5\n",
            "Epoch 3/5\n",
            "index[3]: Text, Label shapes: (20000,) , (20000, 6635)\n",
            "index[2]: Text, Label shapes: (20000,) , (20000, 6635)\n",
            "index[4]: Text, Label shapes: (20000,) , (20000, 6635)\n",
            "index[1]: Text, Label shapes: (20000,) , (20000, 6635)\n",
            "index[0]: Text, Label shapes: (20000,) , (20000, 6635)\n",
            " - 49s - loss: 0.6396 - binary_crossentropy: 0.6396 - val_loss: 0.6319 - val_binary_crossentropy: 0.6319\n",
            "\n",
            "Epoch 00003: val_loss improved from 0.66671 to 0.63189, saving model to ./model_transfer.h5\n",
            "Epoch 4/5\n",
            "index[2]: Text, Label shapes: (20000,) , (20000, 6635)\n",
            "index[1]: Text, Label shapes: (20000,) , (20000, 6635)\n",
            "index[3]: Text, Label shapes: (20000,) , (20000, 6635)\n",
            "index[4]: Text, Label shapes: (20000,) , (20000, 6635)\n",
            "index[0]: Text, Label shapes: (20000,) , (20000, 6635)\n",
            " - 50s - loss: 0.5869 - binary_crossentropy: 0.5869 - val_loss: 0.5710 - val_binary_crossentropy: 0.5710\n",
            "\n",
            "Epoch 00004: val_loss improved from 0.63189 to 0.57100, saving model to ./model_transfer.h5\n",
            "Epoch 5/5\n",
            "index[3]: Text, Label shapes: (20000,) , (20000, 6635)\n",
            "index[2]: Text, Label shapes: (20000,) , (20000, 6635)\n",
            "index[4]: Text, Label shapes: (20000,) , (20000, 6635)\n",
            "index[1]: Text, Label shapes: (20000,) , (20000, 6635)\n",
            "index[0]: Text, Label shapes: (20000,) , (20000, 6635)\n",
            " - 49s - loss: 0.5052 - binary_crossentropy: 0.5052 - val_loss: 0.4779 - val_binary_crossentropy: 0.4779\n",
            "\n",
            "Epoch 00005: val_loss improved from 0.57100 to 0.47794, saving model to ./model_transfer.h5\n"
          ],
          "name": "stdout"
        }
      ]
    },
    {
      "metadata": {
        "colab_type": "code",
        "id": "UW1CiBhnXnxa",
        "colab": {
          "base_uri": "https://localhost:8080/",
          "height": 34
        },
        "outputId": "da9fca32-df19-4459-fd68-8d52c91f6eff"
      },
      "cell_type": "code",
      "source": [
        "!ls -alh | grep model_transfer.h5\n",
        "#!ls /content/gdrive/'My Drive'/'Colab Notebooks'\n",
        "\n",
        "!cp model_transfer.h5 /content/gdrive/My\\ Drive/Colab\\ Notebooks/model_transfer.h5"
      ],
      "execution_count": 12,
      "outputs": [
        {
          "output_type": "stream",
          "text": [
            "-rw-r--r-- 1 root root  62M Dec  3 23:02 model_transfer.h5\n"
          ],
          "name": "stdout"
        }
      ]
    },
    {
      "metadata": {
        "id": "EAmr2oxhyo1D",
        "colab_type": "code",
        "colab": {
          "base_uri": "https://localhost:8080/",
          "height": 376
        },
        "outputId": "23b85f19-94be-46c0-8455-fd946223f9c1"
      },
      "cell_type": "code",
      "source": [
        "if history != None:\n",
        "  # summarize history for accuracy\n",
        "  plt.plot(history.history['loss'])\n",
        "  plt.plot(history.history['val_loss'])\n",
        "  plt.title('model loss')\n",
        "  plt.ylabel('loss')\n",
        "  plt.xlabel('epoch')\n",
        "  plt.legend(['train', 'test'], loc='upper left')\n",
        "  plt.show()"
      ],
      "execution_count": 13,
      "outputs": [
        {
          "output_type": "display_data",
          "data": {
            "image/png": "[encoded data removed]",
            "text/plain": [
              "<matplotlib.figure.Figure at 0x7fd66a722438>"
            ]
          },
          "metadata": {
            "tags": []
          }
        }
      ]
    },
    {
      "metadata": {
        "id": "OWoyYNWgyqS5",
        "colab_type": "code",
        "colab": {
          "base_uri": "https://localhost:8080/",
          "height": 376
        },
        "outputId": "01172dae-da0b-45cd-bb37-c706084d641c"
      },
      "cell_type": "code",
      "source": [
        "if history != None:\n",
        "  # summarize history for accuracy\n",
        "  plt.plot(history.history['binary_crossentropy'])\n",
        "  plt.plot(history.history['val_binary_crossentropy'])\n",
        "  plt.title('model accuracy')\n",
        "  plt.ylabel('accuracy')\n",
        "  plt.xlabel('epoch')\n",
        "  plt.legend(['train', 'test'], loc='upper left')\n",
        "  plt.show()"
      ],
      "execution_count": 14,
      "outputs": [
        {
          "output_type": "display_data",
          "data": {
            "image/png": "[encoded data removed]",
            "text/plain": [
              "<matplotlib.figure.Figure at 0x7fd66a722390>"
            ]
          },
          "metadata": {
            "tags": []
          }
        }
      ]
    },
    {
      "metadata": {
        "colab_type": "text",
        "id": "nQux6qLdXabG"
      },
      "cell_type": "markdown",
      "source": [
        "## Make predictions"
      ]
    },
    {
      "metadata": {
        "id": "TGZ91kZah3pa",
        "colab_type": "code",
        "colab": {}
      },
      "cell_type": "code",
      "source": [
        "decoder = decodesyllables.Decoder(cmudict.CMUDict())\n",
        "lm = languagemodel.SyllableModel()\n",
        "lm.loadModel()\n"
      ],
      "execution_count": 0,
      "outputs": []
    },
    {
      "metadata": {
        "colab_type": "code",
        "id": "fSDxetlfUEiD",
        "colab": {
          "base_uri": "https://localhost:8080/",
          "height": 200
        },
        "outputId": "354967ff-7fed-4de9-aa44-3d1802e3b9b1"
      },
      "cell_type": "code",
      "source": [
        "history = None\n",
        "#new_text = np.array(new_text, dtype=object)[:, np.newaxis]\n",
        "with tf.Session() as session:\n",
        "  K.set_session(session)\n",
        "  session.run(tf.global_variables_initializer())\n",
        "  session.run(tf.tables_initializer())\n",
        "  model.load_weights('./model_transfer.h5')  \n",
        "  predicts = model.predict(test_text_d, batch_size=32)\n"
      ],
      "execution_count": 16,
      "outputs": [
        {
          "output_type": "error",
          "ename": "NameError",
          "evalue": "ignored",
          "traceback": [
            "\u001b[0;31m---------------------------------------------------------------------------\u001b[0m",
            "\u001b[0;31mNameError\u001b[0m                                 Traceback (most recent call last)",
            "\u001b[0;32m<ipython-input-16-7dd003bacc30>\u001b[0m in \u001b[0;36m<module>\u001b[0;34m()\u001b[0m\n\u001b[1;32m      6\u001b[0m   \u001b[0msession\u001b[0m\u001b[0;34m.\u001b[0m\u001b[0mrun\u001b[0m\u001b[0;34m(\u001b[0m\u001b[0mtf\u001b[0m\u001b[0;34m.\u001b[0m\u001b[0mtables_initializer\u001b[0m\u001b[0;34m(\u001b[0m\u001b[0;34m)\u001b[0m\u001b[0;34m)\u001b[0m\u001b[0;34m\u001b[0m\u001b[0;34m\u001b[0m\u001b[0m\n\u001b[1;32m      7\u001b[0m   \u001b[0mmodel\u001b[0m\u001b[0;34m.\u001b[0m\u001b[0mload_weights\u001b[0m\u001b[0;34m(\u001b[0m\u001b[0;34m'./model_transfer.h5'\u001b[0m\u001b[0;34m)\u001b[0m\u001b[0;34m\u001b[0m\u001b[0;34m\u001b[0m\u001b[0m\n\u001b[0;32m----> 8\u001b[0;31m   \u001b[0mpredicts\u001b[0m \u001b[0;34m=\u001b[0m \u001b[0mmodel\u001b[0m\u001b[0;34m.\u001b[0m\u001b[0mpredict\u001b[0m\u001b[0;34m(\u001b[0m\u001b[0mtest_text_d\u001b[0m\u001b[0;34m,\u001b[0m \u001b[0mbatch_size\u001b[0m\u001b[0;34m=\u001b[0m\u001b[0;36m32\u001b[0m\u001b[0;34m)\u001b[0m\u001b[0;34m\u001b[0m\u001b[0;34m\u001b[0m\u001b[0m\n\u001b[0m",
            "\u001b[0;31mNameError\u001b[0m: name 'test_text_d' is not defined"
          ]
        }
      ]
    },
    {
      "metadata": {
        "id": "trZyvUKUM8rb",
        "colab_type": "code",
        "colab": {}
      },
      "cell_type": "code",
      "source": [
        "max_variants = 50\n",
        "max_predicts = 50\n",
        "num_tests = min(max_predicts, len(predicts[0]))\n",
        "for i in range(num_symbols):\n",
        "  predicts[i] = predicts[i][0:num_tests]\n"
      ],
      "execution_count": 0,
      "outputs": []
    },
    {
      "metadata": {
        "id": "BqNHah3blAiF",
        "colab_type": "code",
        "colab": {}
      },
      "cell_type": "code",
      "source": [
        "# Count # of probs > 0.5\n",
        "sum = {5:0, 4:0, 3:0, 2:0, 1:0}\n",
        "count = 0\n",
        "for v in np.nditer(np.reshape(predicts, len(predicts)*len(predicts[0])*len(predicts[0][0]))):\n",
        "    count += 1\n",
        "    if v > 0.5:\n",
        "        sum[5] += 1\n",
        "    if v > 0.4:\n",
        "        sum[4] += 1\n",
        "    if v > 0.3:\n",
        "        sum[3] += 1\n",
        "    if v > 0.2:\n",
        "        sum[2] += 1\n",
        "    if v > 0.1:\n",
        "        sum[1] += 1\n",
        "print(\"{} out of {} active values\".format(sum, count))"
      ],
      "execution_count": 0,
      "outputs": []
    },
    {
      "metadata": {
        "id": "kcjSndW8KX0d",
        "colab_type": "code",
        "colab": {}
      },
      "cell_type": "code",
      "source": [
        "for j in range(num_tests):\n",
        "  print(\"Predicting sentence: \" + test_text[j])\n",
        "  data = [[]] * num_symbols\n",
        "  for i in range(num_symbols):\n",
        "    data[i] = predicts[i][j]\n",
        "  #beams = word_beam_search_decoder(data, max_variants, lm)\n",
        "  beams = beam_search_decoder(data, max_variants, minProb=0.01)\n",
        "  #print(\"Beam[0]: {}\".format(beams[0]))\n",
        "  beams.reverse()\n",
        "  #print(\"Beams shape: {}\".format(np.array(beams).shape))\n",
        "  for k in range(0, 10):\n",
        "    if k >= len(beams):\n",
        "        break\n",
        "    #    if k == 0:\n",
        "    #        print(\"Score[{0}]: {1} \".format(k, beams[k][1]))\n",
        "    #print(\"Indexes[{0}]: {1}\".format(k, beams[k][0]))\n",
        "    syll_set = [''] * num_symbols\n",
        "    for i in range(num_symbols):\n",
        "      syll_set[i] = syll_mgr.get_syllable(beams[k][0][i])\n",
        "    #print(\"Syllables: {}\".format(syll_set))\n",
        "    count = 0\n",
        "    for s in decoder.decode_sentence(syll_set):\n",
        "      print(s)\n",
        "      count += 1\n",
        "      if count == 4:\n",
        "        break\n",
        " "
      ],
      "execution_count": 0,
      "outputs": []
    },
    {
      "metadata": {
        "colab_type": "code",
        "id": "yyDGVtigW57f",
        "colab": {}
      },
      "cell_type": "code",
      "source": [
        "junk don't run"
      ],
      "execution_count": 0,
      "outputs": []
    },
    {
      "metadata": {
        "colab_type": "code",
        "id": "hYhmukbSKpnp",
        "colab": {}
      },
      "cell_type": "code",
      "source": [
        "\n",
        "os.remove('./model_transfer.h5')"
      ],
      "execution_count": 0,
      "outputs": []
    }
  ]
}